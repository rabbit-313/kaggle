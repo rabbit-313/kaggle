{
 "cells": [
  {
   "cell_type": "markdown",
   "id": "e4716f3c",
   "metadata": {},
   "source": [
    "## カラムの日本語訳"
   ]
  },
  {
   "cell_type": "code",
   "execution_count": 20,
   "id": "6542b9c5",
   "metadata": {
    "execution": {
     "iopub.execute_input": "2024-05-08T10:54:30.415651Z",
     "iopub.status.busy": "2024-05-08T10:54:30.415328Z",
     "iopub.status.idle": "2024-05-08T10:54:30.419886Z",
     "shell.execute_reply": "2024-05-08T10:54:30.419060Z"
    },
    "papermill": {
     "duration": 0.013328,
     "end_time": "2024-05-08T10:54:30.421788",
     "exception": false,
     "start_time": "2024-05-08T10:54:30.408460",
     "status": "completed"
    },
    "tags": []
   },
   "outputs": [],
   "source": [
    "# Marital status - 配偶者の有無\n",
    "# Application mode - 応募形態\n",
    "# Application order - 応募順序\n",
    "# Course - コース\n",
    "# Daytime/evening attendance - 昼間/夜間の出席\n",
    "# Previous qualification - 以前の資格\n",
    "# Previous qualification (grade) - 以前の資格（成績）\n",
    "# Nacionality - 国籍\n",
    "# Mother's qualification - 母親の資格\n",
    "# Father's qualification - 父親の資格\n",
    "# Mother's occupation - 母親の職業\n",
    "# Father's occupation - 父親の職業\n",
    "# Admission grade - 入学成績\n",
    "# Displaced - 移住者\n",
    "# Educational special needs - 教育的特別支援\n",
    "# Debtor - 債務者\n",
    "# Tuition fees up to date - 授業料の支払い状況\n",
    "# Gender - 性別\n",
    "# Scholarship holder - 奨学生\n",
    "# Age at enrollment - 入学時の年齢\n",
    "# International - 国際的\n",
    "# Curricular units 1st sem (credited) - 1学期の履修単位（認定済み）\n",
    "# Curricular units 1st sem (enrolled) - 1学期の履修単位（登録済み）\n",
    "# Curricular units 1st sem (evaluations) - 1学期の履修単位（評価済み）\n",
    "# Curricular units 1st sem (approved) - 1学期の履修単位（合格済み）\n",
    "# Curricular units 1st sem (grade) - 1学期の履修単位（成績）\n",
    "# Curricular units 1st sem (without evaluations) - 1学期の履修単位（未評価）\n",
    "# Curricular units 2nd sem (credited) - 2学期の履修単位（認定済み）\n",
    "# Curricular units 2nd sem (enrolled) - 2学期の履修単位（登録済み）\n",
    "# Curricular units 2nd sem (evaluations) - 2学期の履修単位（評価済み）\n",
    "# Curricular units 2nd sem (approved) - 2学期の履修単位（合格済み）\n",
    "# Curricular units 2nd sem (grade) - 2学期の履修単位（成績）\n",
    "# Curricular units 2nd sem (without evaluations) - 2学期の履修単位（未評価）\n",
    "# Unemployment rate - 失業率\n",
    "# Inflation rate - インフレ率\n",
    "# GDP - 国内総生産"
   ]
  },
  {
   "cell_type": "markdown",
   "id": "9fe015b3",
   "metadata": {},
   "source": [
    "## import"
   ]
  },
  {
   "cell_type": "code",
   "execution_count": 1,
   "id": "1d9adfdd",
   "metadata": {
    "_cell_guid": "b1076dfc-b9ad-4769-8c92-a6c4dae69d19",
    "_uuid": "8f2839f25d086af736a60e9eeb907d3b93b6e0e5",
    "execution": {
     "iopub.execute_input": "2024-05-08T10:54:16.247315Z",
     "iopub.status.busy": "2024-05-08T10:54:16.246563Z",
     "iopub.status.idle": "2024-05-08T10:54:27.011059Z",
     "shell.execute_reply": "2024-05-08T10:54:27.010250Z"
    },
    "papermill": {
     "duration": 10.77434,
     "end_time": "2024-05-08T10:54:27.013578",
     "exception": false,
     "start_time": "2024-05-08T10:54:16.239238",
     "status": "completed"
    },
    "tags": []
   },
   "outputs": [
    {
     "name": "stderr",
     "output_type": "stream",
     "text": [
      "/home/ru/kaggle/venv/lib/python3.9/site-packages/tqdm/auto.py:21: TqdmWarning: IProgress not found. Please update jupyter and ipywidgets. See https://ipywidgets.readthedocs.io/en/stable/user_install.html\n",
      "  from .autonotebook import tqdm as notebook_tqdm\n"
     ]
    }
   ],
   "source": [
    "import pandas as pd\n",
    "import numpy as np\n",
    "import matplotlib.pyplot as plt\n",
    "import seaborn as sns\n",
    "from tqdm import tqdm\n",
    "from sklearn.preprocessing import StandardScaler\n",
    "from lightgbm import LGBMClassifier\n",
    "from sklearn.model_selection import KFold, cross_val_score\n",
    "from sklearn.metrics import accuracy_score\n",
    "from sklearn.preprocessing import LabelEncoder\n",
    "from optuna.samplers import TPESampler\n",
    "import optuna\n",
    "import warnings"
   ]
  },
  {
   "cell_type": "markdown",
   "id": "406e77d5",
   "metadata": {},
   "source": [
    "## データの読み込み"
   ]
  },
  {
   "cell_type": "code",
   "execution_count": 2,
   "id": "12d6b4d1",
   "metadata": {},
   "outputs": [],
   "source": [
    "train = pd.read_csv(\"../inputs/train.csv\")\n",
    "test = pd.read_csv(\"../inputs/test.csv\")"
   ]
  },
  {
   "cell_type": "code",
   "execution_count": 25,
   "id": "c3317fd2",
   "metadata": {
    "execution": {
     "iopub.execute_input": "2024-05-08T10:54:30.301512Z",
     "iopub.status.busy": "2024-05-08T10:54:30.301166Z",
     "iopub.status.idle": "2024-05-08T10:54:30.400020Z",
     "shell.execute_reply": "2024-05-08T10:54:30.399224Z"
    },
    "papermill": {
     "duration": 0.108057,
     "end_time": "2024-05-08T10:54:30.402384",
     "exception": false,
     "start_time": "2024-05-08T10:54:30.294327",
     "status": "completed"
    },
    "tags": []
   },
   "outputs": [],
   "source": [
    "x_train = train.drop(columns=[\"Target\", \"id\"], axis=1)\n",
    "y_train = train[\"Target\"]\n",
    "x_test = test.drop(columns=[\"id\"], axis=1)"
   ]
  },
  {
   "cell_type": "code",
   "execution_count": 26,
   "id": "7f38801d",
   "metadata": {},
   "outputs": [],
   "source": [
    "le = LabelEncoder()\n",
    "le.fit(y_train)\n",
    "y_train = le.transform(y_train)"
   ]
  },
  {
   "cell_type": "markdown",
   "id": "174d6d1f",
   "metadata": {},
   "source": [
    "## optunaによるチューニング"
   ]
  },
  {
   "cell_type": "code",
   "execution_count": 31,
   "id": "a50654d8",
   "metadata": {
    "execution": {
     "iopub.execute_input": "2024-05-08T10:54:30.572286Z",
     "iopub.status.busy": "2024-05-08T10:54:30.572033Z",
     "iopub.status.idle": "2024-05-08T11:00:19.671454Z",
     "shell.execute_reply": "2024-05-08T11:00:19.670215Z"
    },
    "papermill": {
     "duration": 349.11344,
     "end_time": "2024-05-08T11:00:19.678813",
     "exception": false,
     "start_time": "2024-05-08T10:54:30.565373",
     "status": "completed"
    },
    "tags": []
   },
   "outputs": [
    {
     "name": "stderr",
     "output_type": "stream",
     "text": [
      "/home/ru/kaggle/venv/lib/python3.9/site-packages/optuna/samplers/_tpe/sampler.py:319: ExperimentalWarning: ``multivariate`` option is an experimental feature. The interface can change in the future.\n",
      "  warnings.warn(\n",
      "[I 2024-06-17 21:18:04,177] A new study created in memory with name: no-name-6746b9ac-67f9-4977-96cc-6b922681ea80\n",
      "[I 2024-06-17 21:18:19,106] Trial 0 finished with value: 0.8201860678794365 and parameters: {'num_leaves': 320, 'learning_rate': 0.269388301928541, 'n_estimators': 843, 'subsample_for_bin': 172567, 'min_child_samples': 223, 'reg_alpha': 0.0028770084050677926, 'reg_lambda': 2.3761404778025532e-05, 'colsample_bytree': 0.9350638004692479, 'subsample': 0.9727470703757719, 'max_depth': 6}. Best is trial 0 with value: 0.8201860678794365.\n",
      "[I 2024-06-17 21:19:48,598] Trial 1 finished with value: 0.8235447574605447 and parameters: {'num_leaves': 417, 'learning_rate': 0.11423254155608371, 'n_estimators': 811, 'subsample_for_bin': 279167, 'min_child_samples': 54, 'reg_alpha': 7.435205853060191e-09, 'reg_lambda': 1.5928833561691813e-09, 'colsample_bytree': 0.8995719073287628, 'subsample': 0.8336175632123879, 'max_depth': 14}. Best is trial 1 with value: 0.8235447574605447.\n",
      "[I 2024-06-17 21:20:10,219] Trial 2 finished with value: 0.8181081336306146 and parameters: {'num_leaves': 492, 'learning_rate': 0.39656750817710085, 'n_estimators': 715, 'subsample_for_bin': 238548, 'min_child_samples': 76, 'reg_alpha': 0.0025073225886269243, 'reg_lambda': 2.7135190452611042e-08, 'colsample_bytree': 0.9668013502297503, 'subsample': 0.6413862413125537, 'max_depth': 7}. Best is trial 1 with value: 0.8235447574605447.\n",
      "[I 2024-06-17 21:20:59,173] Trial 3 finished with value: 0.8222247779041784 and parameters: {'num_leaves': 206, 'learning_rate': 0.35356346291488117, 'n_estimators': 710, 'subsample_for_bin': 179162, 'min_child_samples': 29, 'reg_alpha': 0.0015009111045464082, 'reg_lambda': 0.0013211655088884039, 'colsample_bytree': 0.7701603981248542, 'subsample': 0.9578110588859681, 'max_depth': 11}. Best is trial 1 with value: 0.8235447574605447.\n",
      "[I 2024-06-17 21:21:21,198] Trial 4 finished with value: 0.8309025253906632 and parameters: {'num_leaves': 244, 'learning_rate': 0.07482796037620795, 'n_estimators': 928, 'subsample_for_bin': 36863, 'min_child_samples': 340, 'reg_alpha': 0.005086027407695681, 'reg_lambda': 1.270064013533415e-07, 'colsample_bytree': 0.477355778592912, 'subsample': 0.4865712631931379, 'max_depth': 6}. Best is trial 4 with value: 0.8309025253906632.\n",
      "[I 2024-06-17 21:21:42,631] Trial 5 finished with value: 0.8319611080430402 and parameters: {'num_leaves': 328, 'learning_rate': 0.07537078298264387, 'n_estimators': 1190, 'subsample_for_bin': 48572, 'min_child_samples': 120, 'reg_alpha': 4.1029401210349914e-08, 'reg_lambda': 0.003396903853102663, 'colsample_bytree': 0.5519749615238693, 'subsample': 0.5997330796422298, 'max_depth': 4}. Best is trial 5 with value: 0.8319611080430402.\n",
      "[I 2024-06-17 21:21:55,740] Trial 6 finished with value: 0.8256618911679834 and parameters: {'num_leaves': 163, 'learning_rate': 0.016624564693643644, 'n_estimators': 891, 'subsample_for_bin': 58691, 'min_child_samples': 114, 'reg_alpha': 4.866891972890967e-06, 'reg_lambda': 0.16215572955007182, 'colsample_bytree': 0.4582607654758368, 'subsample': 0.8784586806241029, 'max_depth': 2}. Best is trial 5 with value: 0.8319611080430402.\n",
      "[I 2024-06-17 21:22:13,092] Trial 7 finished with value: 0.831843438786726 and parameters: {'num_leaves': 491, 'learning_rate': 0.08655704137361815, 'n_estimators': 1180, 'subsample_for_bin': 189357, 'min_child_samples': 375, 'reg_alpha': 2.465346246449577e-09, 'reg_lambda': 6.730845560437355e-07, 'colsample_bytree': 0.47211793672790137, 'subsample': 0.4721051481416087, 'max_depth': 2}. Best is trial 5 with value: 0.8319611080430402.\n",
      "[I 2024-06-17 21:22:31,842] Trial 8 finished with value: 0.831033193099324 and parameters: {'num_leaves': 227, 'learning_rate': 0.06737922153052582, 'n_estimators': 357, 'subsample_for_bin': 213892, 'min_child_samples': 292, 'reg_alpha': 4.5070762908503614e-07, 'reg_lambda': 0.00017079711660762664, 'colsample_bytree': 0.45636430645506504, 'subsample': 0.6819598716671345, 'max_depth': 14}. Best is trial 5 with value: 0.8319611080430402.\n",
      "[I 2024-06-17 21:22:37,160] Trial 9 finished with value: 0.8271517438694973 and parameters: {'num_leaves': 227, 'learning_rate': 0.21618261203953767, 'n_estimators': 418, 'subsample_for_bin': 220572, 'min_child_samples': 159, 'reg_alpha': 6.790685543933639e-08, 'reg_lambda': 0.0007330428264462492, 'colsample_bytree': 0.41206452771249613, 'subsample': 0.8717050219130223, 'max_depth': 1}. Best is trial 5 with value: 0.8319611080430402.\n",
      "[I 2024-06-17 21:23:47,760] Trial 10 finished with value: 0.8274654121268583 and parameters: {'num_leaves': 371, 'learning_rate': 0.034674958213764526, 'n_estimators': 962, 'subsample_for_bin': 289413, 'min_child_samples': 139, 'reg_alpha': 0.0005775283981743605, 'reg_lambda': 0.0008325672295059356, 'colsample_bytree': 0.743351143474524, 'subsample': 0.41731122448046376, 'max_depth': 15}. Best is trial 5 with value: 0.8319611080430402.\n",
      "[I 2024-06-17 21:24:23,898] Trial 11 finished with value: 0.812762990860451 and parameters: {'num_leaves': 279, 'learning_rate': 0.4929664291135949, 'n_estimators': 930, 'subsample_for_bin': 103282, 'min_child_samples': 411, 'reg_alpha': 9.226933879829092e-06, 'reg_lambda': 0.6471902576856449, 'colsample_bytree': 0.7487637235815152, 'subsample': 0.9113015213911396, 'max_depth': 11}. Best is trial 5 with value: 0.8319611080430402.\n",
      "[I 2024-06-17 21:24:46,566] Trial 12 finished with value: 0.8300791873129503 and parameters: {'num_leaves': 390, 'learning_rate': 0.10061176409589712, 'n_estimators': 1161, 'subsample_for_bin': 200317, 'min_child_samples': 223, 'reg_alpha': 0.001158596310782936, 'reg_lambda': 1.5557219635720717e-09, 'colsample_bytree': 0.5809448900047296, 'subsample': 0.7451301531195138, 'max_depth': 5}. Best is trial 5 with value: 0.8319611080430402.\n",
      "[I 2024-06-17 21:24:57,537] Trial 13 finished with value: 0.8321963124805741 and parameters: {'num_leaves': 347, 'learning_rate': 0.07203397849770149, 'n_estimators': 422, 'subsample_for_bin': 103519, 'min_child_samples': 294, 'reg_alpha': 0.0008104525862492879, 'reg_lambda': 0.0005536719073590981, 'colsample_bytree': 0.7919204919142802, 'subsample': 0.7390774525012667, 'max_depth': 7}. Best is trial 13 with value: 0.8321963124805741.\n",
      "[I 2024-06-17 21:25:28,223] Trial 14 finished with value: 0.8285240058809947 and parameters: {'num_leaves': 459, 'learning_rate': 0.05434051375704854, 'n_estimators': 692, 'subsample_for_bin': 269739, 'min_child_samples': 407, 'reg_alpha': 0.01093668831711293, 'reg_lambda': 1.0052379437428308e-08, 'colsample_bytree': 0.9516895682468042, 'subsample': 0.7856809746618336, 'max_depth': 15}. Best is trial 13 with value: 0.8321963124805741.\n",
      "[I 2024-06-17 21:25:32,171] Trial 15 finished with value: 0.8314775529768275 and parameters: {'num_leaves': 159, 'learning_rate': 0.5448188369110731, 'n_estimators': 446, 'subsample_for_bin': 192357, 'min_child_samples': 79, 'reg_alpha': 0.3020524016657344, 'reg_lambda': 0.11835581143450927, 'colsample_bytree': 0.7414604431687559, 'subsample': 0.5553874729194997, 'max_depth': 2}. Best is trial 13 with value: 0.8321963124805741.\n",
      "[I 2024-06-17 21:25:45,359] Trial 16 finished with value: 0.8328105531890589 and parameters: {'num_leaves': 379, 'learning_rate': 0.08073937167660734, 'n_estimators': 950, 'subsample_for_bin': 262587, 'min_child_samples': 489, 'reg_alpha': 0.36143767833126167, 'reg_lambda': 1.3096065599990615e-09, 'colsample_bytree': 0.6159868386870183, 'subsample': 0.7974929218180435, 'max_depth': 3}. Best is trial 16 with value: 0.8328105531890589.\n",
      "[I 2024-06-17 21:25:48,538] Trial 17 finished with value: 0.8136908528573146 and parameters: {'num_leaves': 308, 'learning_rate': 0.012843280764272384, 'n_estimators': 480, 'subsample_for_bin': 25186, 'min_child_samples': 401, 'reg_alpha': 1.7347898824062586e-07, 'reg_lambda': 2.841298139605767e-06, 'colsample_bytree': 0.9568487760793545, 'subsample': 0.7783108014426496, 'max_depth': 1}. Best is trial 16 with value: 0.8328105531890589.\n",
      "[I 2024-06-17 21:26:01,498] Trial 18 finished with value: 0.8282364925149034 and parameters: {'num_leaves': 166, 'learning_rate': 0.17496726491829132, 'n_estimators': 820, 'subsample_for_bin': 86610, 'min_child_samples': 469, 'reg_alpha': 0.0013793026152456194, 'reg_lambda': 0.00022715799683187434, 'colsample_bytree': 0.7539459858127426, 'subsample': 0.7975915221375772, 'max_depth': 5}. Best is trial 16 with value: 0.8328105531890589.\n",
      "[I 2024-06-17 21:26:16,620] Trial 19 finished with value: 0.8328105617288738 and parameters: {'num_leaves': 259, 'learning_rate': 0.02628376030296236, 'n_estimators': 467, 'subsample_for_bin': 284425, 'min_child_samples': 375, 'reg_alpha': 8.027643657785602e-05, 'reg_lambda': 1.8799499177898148e-07, 'colsample_bytree': 0.5526138890622357, 'subsample': 0.2935218702429067, 'max_depth': 7}. Best is trial 19 with value: 0.8328105617288738.\n",
      "[I 2024-06-17 21:27:08,126] Trial 20 finished with value: 0.8235578182535402 and parameters: {'num_leaves': 225, 'learning_rate': 0.24699432654084996, 'n_estimators': 640, 'subsample_for_bin': 70289, 'min_child_samples': 31, 'reg_alpha': 4.704314136881364e-09, 'reg_lambda': 0.006221967452909479, 'colsample_bytree': 0.6722181067336273, 'subsample': 0.6524344083315416, 'max_depth': 14}. Best is trial 19 with value: 0.8328105617288738.\n",
      "[I 2024-06-17 21:29:01,052] Trial 21 finished with value: 0.8281449679020808 and parameters: {'num_leaves': 497, 'learning_rate': 0.027151508837924436, 'n_estimators': 897, 'subsample_for_bin': 93730, 'min_child_samples': 29, 'reg_alpha': 0.03835186945091964, 'reg_lambda': 1.5855192098504768e-06, 'colsample_bytree': 0.6300783365031388, 'subsample': 0.6912378351652043, 'max_depth': 13}. Best is trial 19 with value: 0.8328105617288738.\n",
      "[I 2024-06-17 21:29:19,221] Trial 22 finished with value: 0.8186701089635982 and parameters: {'num_leaves': 352, 'learning_rate': 0.5562900741178348, 'n_estimators': 546, 'subsample_for_bin': 243453, 'min_child_samples': 109, 'reg_alpha': 3.3722252019570647, 'reg_lambda': 0.007496918056006279, 'colsample_bytree': 0.529304606268135, 'subsample': 0.9605279428666932, 'max_depth': 11}. Best is trial 19 with value: 0.8328105617288738.\n",
      "[I 2024-06-17 21:29:52,215] Trial 23 finished with value: 0.8321440385652579 and parameters: {'num_leaves': 201, 'learning_rate': 0.026706929177169086, 'n_estimators': 766, 'subsample_for_bin': 27185, 'min_child_samples': 119, 'reg_alpha': 1.7654470132348484e-05, 'reg_lambda': 5.516959595638209e-06, 'colsample_bytree': 0.6781452546188864, 'subsample': 0.4582215297210489, 'max_depth': 9}. Best is trial 19 with value: 0.8328105617288738.\n",
      "[I 2024-06-17 21:30:19,743] Trial 24 finished with value: 0.8331372668677485 and parameters: {'num_leaves': 446, 'learning_rate': 0.01718160426458189, 'n_estimators': 766, 'subsample_for_bin': 56979, 'min_child_samples': 364, 'reg_alpha': 9.132654500629781e-06, 'reg_lambda': 0.0004510379852618006, 'colsample_bytree': 0.5099679017284472, 'subsample': 0.3586358195075329, 'max_depth': 8}. Best is trial 24 with value: 0.8331372668677485.\n",
      "[I 2024-06-17 21:30:36,447] Trial 25 finished with value: 0.8081757865570948 and parameters: {'num_leaves': 242, 'learning_rate': 0.7600880252137217, 'n_estimators': 989, 'subsample_for_bin': 229626, 'min_child_samples': 454, 'reg_alpha': 6.826912780609931e-09, 'reg_lambda': 0.000332601879637004, 'colsample_bytree': 0.7506856413734613, 'subsample': 0.9714522839104218, 'max_depth': 5}. Best is trial 24 with value: 0.8331372668677485.\n",
      "[I 2024-06-17 21:30:48,754] Trial 26 finished with value: 0.830105292673293 and parameters: {'num_leaves': 196, 'learning_rate': 0.01587040042438617, 'n_estimators': 314, 'subsample_for_bin': 280269, 'min_child_samples': 342, 'reg_alpha': 0.07104428048823831, 'reg_lambda': 6.566002708470969e-07, 'colsample_bytree': 0.751846099711796, 'subsample': 0.2979664495907358, 'max_depth': 8}. Best is trial 24 with value: 0.8331372668677485.\n",
      "[I 2024-06-17 21:31:06,396] Trial 27 finished with value: 0.8177814208059064 and parameters: {'num_leaves': 491, 'learning_rate': 0.5662529670393953, 'n_estimators': 604, 'subsample_for_bin': 289240, 'min_child_samples': 131, 'reg_alpha': 3.1130652539087995, 'reg_lambda': 2.5928479349620495, 'colsample_bytree': 0.879521552411435, 'subsample': 0.7228359526500934, 'max_depth': 14}. Best is trial 24 with value: 0.8331372668677485.\n",
      "[I 2024-06-17 21:31:46,497] Trial 28 finished with value: 0.8157426510024599 and parameters: {'num_leaves': 217, 'learning_rate': 0.4987548255810925, 'n_estimators': 856, 'subsample_for_bin': 23706, 'min_child_samples': 187, 'reg_alpha': 3.029762664275365e-08, 'reg_lambda': 6.581030418565184, 'colsample_bytree': 0.6870221842239929, 'subsample': 0.623043524123997, 'max_depth': 10}. Best is trial 24 with value: 0.8331372668677485.\n",
      "[I 2024-06-17 21:32:46,818] Trial 29 finished with value: 0.8304189669085245 and parameters: {'num_leaves': 247, 'learning_rate': 0.01878453908916086, 'n_estimators': 1040, 'subsample_for_bin': 73157, 'min_child_samples': 265, 'reg_alpha': 1.7505329496544223e-07, 'reg_lambda': 9.515789906508596e-09, 'colsample_bytree': 0.91731491045301, 'subsample': 0.9796896167673477, 'max_depth': 15}. Best is trial 24 with value: 0.8331372668677485.\n",
      "[I 2024-06-17 21:33:04,513] Trial 30 finished with value: 0.8330196531202315 and parameters: {'num_leaves': 410, 'learning_rate': 0.03784514332072917, 'n_estimators': 962, 'subsample_for_bin': 250280, 'min_child_samples': 460, 'reg_alpha': 4.894289383039044, 'reg_lambda': 3.2621033222349264e-08, 'colsample_bytree': 0.5800469359473794, 'subsample': 0.7871082878531117, 'max_depth': 4}. Best is trial 24 with value: 0.8331372668677485.\n",
      "[I 2024-06-17 21:33:21,320] Trial 31 finished with value: 0.831856517513333 and parameters: {'num_leaves': 414, 'learning_rate': 0.015155913144896555, 'n_estimators': 604, 'subsample_for_bin': 25946, 'min_child_samples': 349, 'reg_alpha': 4.479479656849194e-06, 'reg_lambda': 0.05424026096116362, 'colsample_bytree': 0.44381887434584383, 'subsample': 0.3726085060105936, 'max_depth': 6}. Best is trial 24 with value: 0.8331372668677485.\n",
      "[I 2024-06-17 21:33:36,935] Trial 32 finished with value: 0.8314906231636195 and parameters: {'num_leaves': 436, 'learning_rate': 0.07258560777845015, 'n_estimators': 936, 'subsample_for_bin': 265135, 'min_child_samples': 472, 'reg_alpha': 0.13661537175946348, 'reg_lambda': 1.1727258306043605e-09, 'colsample_bytree': 0.6732919857459225, 'subsample': 0.9228392550556053, 'max_depth': 5}. Best is trial 24 with value: 0.8331372668677485.\n",
      "[I 2024-06-17 21:33:49,038] Trial 33 finished with value: 0.8325622563612143 and parameters: {'num_leaves': 207, 'learning_rate': 0.07541278998161305, 'n_estimators': 443, 'subsample_for_bin': 234946, 'min_child_samples': 381, 'reg_alpha': 1.1154146960450028e-05, 'reg_lambda': 5.8562098093275225e-06, 'colsample_bytree': 0.400365816487373, 'subsample': 0.34959115446403394, 'max_depth': 7}. Best is trial 24 with value: 0.8331372668677485.\n",
      "[I 2024-06-17 21:34:03,897] Trial 34 finished with value: 0.8334639916481976 and parameters: {'num_leaves': 413, 'learning_rate': 0.03849934685357779, 'n_estimators': 562, 'subsample_for_bin': 290548, 'min_child_samples': 364, 'reg_alpha': 0.002858418984576203, 'reg_lambda': 3.889518945791726e-05, 'colsample_bytree': 0.5114272908375275, 'subsample': 0.4700757449278386, 'max_depth': 6}. Best is trial 34 with value: 0.8334639916481976.\n",
      "[I 2024-06-17 21:34:15,865] Trial 35 finished with value: 0.8328366910006986 and parameters: {'num_leaves': 447, 'learning_rate': 0.07867693543325613, 'n_estimators': 569, 'subsample_for_bin': 273398, 'min_child_samples': 290, 'reg_alpha': 0.0006782322942310274, 'reg_lambda': 1.4666778388090035e-05, 'colsample_bytree': 0.5816109350640446, 'subsample': 0.5625234819618022, 'max_depth': 5}. Best is trial 34 with value: 0.8334639916481976.\n",
      "[I 2024-06-17 21:34:22,196] Trial 36 finished with value: 0.825387442864795 and parameters: {'num_leaves': 442, 'learning_rate': 0.11437917223781076, 'n_estimators': 493, 'subsample_for_bin': 252947, 'min_child_samples': 378, 'reg_alpha': 1.4164409026416167e-05, 'reg_lambda': 0.0008936683278798184, 'colsample_bytree': 0.5368743616291578, 'subsample': 0.4279943039877031, 'max_depth': 1}. Best is trial 34 with value: 0.8334639916481976.\n",
      "[I 2024-06-17 21:34:37,387] Trial 37 finished with value: 0.8330196497043054 and parameters: {'num_leaves': 390, 'learning_rate': 0.030502318184313922, 'n_estimators': 525, 'subsample_for_bin': 280913, 'min_child_samples': 419, 'reg_alpha': 0.05403810129946949, 'reg_lambda': 5.5652264628061755e-05, 'colsample_bytree': 0.621630088091661, 'subsample': 0.6159027897510464, 'max_depth': 7}. Best is trial 34 with value: 0.8334639916481976.\n",
      "[I 2024-06-17 21:34:53,755] Trial 38 finished with value: 0.8331372839473785 and parameters: {'num_leaves': 418, 'learning_rate': 0.03835832628888929, 'n_estimators': 539, 'subsample_for_bin': 289461, 'min_child_samples': 421, 'reg_alpha': 0.5896850556157257, 'reg_lambda': 0.010675696809862313, 'colsample_bytree': 0.5274610626873142, 'subsample': 0.6162873446100033, 'max_depth': 7}. Best is trial 34 with value: 0.8334639916481976.\n",
      "[I 2024-06-17 21:35:35,763] Trial 39 finished with value: 0.8329281626666687 and parameters: {'num_leaves': 451, 'learning_rate': 0.013010870515085296, 'n_estimators': 828, 'subsample_for_bin': 76083, 'min_child_samples': 424, 'reg_alpha': 9.893063233566915e-06, 'reg_lambda': 0.00015302785264105297, 'colsample_bytree': 0.47961239490807, 'subsample': 0.41181613751562735, 'max_depth': 13}. Best is trial 34 with value: 0.8334639916481976.\n",
      "[I 2024-06-17 21:35:48,655] Trial 40 finished with value: 0.8332156803026673 and parameters: {'num_leaves': 346, 'learning_rate': 0.059845406223384516, 'n_estimators': 569, 'subsample_for_bin': 245544, 'min_child_samples': 314, 'reg_alpha': 0.08527277749037578, 'reg_lambda': 3.8212077033702396, 'colsample_bytree': 0.49332051162598917, 'subsample': 0.7305523446696515, 'max_depth': 5}. Best is trial 34 with value: 0.8334639916481976.\n",
      "[I 2024-06-17 21:35:54,282] Trial 41 finished with value: 0.828184159674864 and parameters: {'num_leaves': 361, 'learning_rate': 0.03431438786319556, 'n_estimators': 375, 'subsample_for_bin': 213401, 'min_child_samples': 241, 'reg_alpha': 0.7424798912256577, 'reg_lambda': 1.5220687528222112, 'colsample_bytree': 0.6088183145702899, 'subsample': 0.5068742620147821, 'max_depth': 3}. Best is trial 34 with value: 0.8334639916481976.\n",
      "[I 2024-06-17 21:36:08,682] Trial 42 finished with value: 0.8329935136006288 and parameters: {'num_leaves': 312, 'learning_rate': 0.049268492725212845, 'n_estimators': 802, 'subsample_for_bin': 277465, 'min_child_samples': 366, 'reg_alpha': 0.0012838304569115092, 'reg_lambda': 0.060432442476671025, 'colsample_bytree': 0.5679932978821817, 'subsample': 0.8296863713378891, 'max_depth': 4}. Best is trial 34 with value: 0.8334639916481976.\n",
      "[I 2024-06-17 21:36:29,494] Trial 43 finished with value: 0.8321048450845115 and parameters: {'num_leaves': 315, 'learning_rate': 0.0462930650239064, 'n_estimators': 694, 'subsample_for_bin': 206018, 'min_child_samples': 381, 'reg_alpha': 5.55273628013684, 'reg_lambda': 0.1470454545513476, 'colsample_bytree': 0.45259538861689097, 'subsample': 0.6140047942781788, 'max_depth': 7}. Best is trial 34 with value: 0.8334639916481976.\n",
      "[I 2024-06-17 21:36:37,411] Trial 44 finished with value: 0.8323400888051941 and parameters: {'num_leaves': 451, 'learning_rate': 0.13194118459336338, 'n_estimators': 347, 'subsample_for_bin': 298894, 'min_child_samples': 394, 'reg_alpha': 1.2460774092136508, 'reg_lambda': 0.3857826096539125, 'colsample_bytree': 0.5075200406252002, 'subsample': 0.6612639539115699, 'max_depth': 5}. Best is trial 34 with value: 0.8334639916481976.\n",
      "[I 2024-06-17 21:36:49,148] Trial 45 finished with value: 0.8205389202237473 and parameters: {'num_leaves': 418, 'learning_rate': 0.021045826703452765, 'n_estimators': 928, 'subsample_for_bin': 207902, 'min_child_samples': 470, 'reg_alpha': 0.1008118632525678, 'reg_lambda': 4.70834682103989e-07, 'colsample_bytree': 0.4248086010700891, 'subsample': 0.7045099025417431, 'max_depth': 1}. Best is trial 34 with value: 0.8334639916481976.\n",
      "[I 2024-06-17 21:37:08,364] Trial 46 finished with value: 0.8320787260604648 and parameters: {'num_leaves': 175, 'learning_rate': 0.05687968680896259, 'n_estimators': 549, 'subsample_for_bin': 259126, 'min_child_samples': 182, 'reg_alpha': 0.06678046088580306, 'reg_lambda': 4.099332387516625, 'colsample_bytree': 0.5992258945870172, 'subsample': 0.9390734011800891, 'max_depth': 8}. Best is trial 34 with value: 0.8334639916481976.\n",
      "[I 2024-06-17 21:37:13,651] Trial 47 finished with value: 0.8221202317815088 and parameters: {'num_leaves': 350, 'learning_rate': 0.06786527993872604, 'n_estimators': 396, 'subsample_for_bin': 231383, 'min_child_samples': 338, 'reg_alpha': 0.001679431852475304, 'reg_lambda': 0.5053386815890891, 'colsample_bytree': 0.4224686416328314, 'subsample': 0.7655428525454575, 'max_depth': 1}. Best is trial 34 with value: 0.8334639916481976.\n",
      "[I 2024-06-17 21:37:32,561] Trial 48 finished with value: 0.8326798803565092 and parameters: {'num_leaves': 470, 'learning_rate': 0.02220193553564889, 'n_estimators': 799, 'subsample_for_bin': 102164, 'min_child_samples': 392, 'reg_alpha': 2.62351727650745e-05, 'reg_lambda': 6.683783593329194e-08, 'colsample_bytree': 0.6395092932545001, 'subsample': 0.4452732661943792, 'max_depth': 6}. Best is trial 34 with value: 0.8334639916481976.\n",
      "[I 2024-06-17 21:37:50,892] Trial 49 finished with value: 0.8323139450156841 and parameters: {'num_leaves': 379, 'learning_rate': 0.044006432674454476, 'n_estimators': 566, 'subsample_for_bin': 229704, 'min_child_samples': 390, 'reg_alpha': 0.0031947109444738497, 'reg_lambda': 0.0009120539609879718, 'colsample_bytree': 0.542551249846525, 'subsample': 0.2973471603704741, 'max_depth': 8}. Best is trial 34 with value: 0.8334639916481976.\n",
      "[I 2024-06-17 21:38:12,616] Trial 50 finished with value: 0.8325099696361755 and parameters: {'num_leaves': 489, 'learning_rate': 0.01815199013179434, 'n_estimators': 1190, 'subsample_for_bin': 216378, 'min_child_samples': 444, 'reg_alpha': 2.6962482091671096, 'reg_lambda': 2.438346333042477e-05, 'colsample_bytree': 0.7121459730964593, 'subsample': 0.9004789484336196, 'max_depth': 5}. Best is trial 34 with value: 0.8334639916481976.\n",
      "[I 2024-06-17 21:38:31,752] Trial 51 finished with value: 0.8320002784662861 and parameters: {'num_leaves': 474, 'learning_rate': 0.017277387830359762, 'n_estimators': 540, 'subsample_for_bin': 282623, 'min_child_samples': 486, 'reg_alpha': 0.0023826127400913017, 'reg_lambda': 0.3910539459849251, 'colsample_bytree': 0.5552946879394207, 'subsample': 0.5772453957346622, 'max_depth': 8}. Best is trial 34 with value: 0.8334639916481976.\n",
      "[I 2024-06-17 21:38:53,015] Trial 52 finished with value: 0.8316212695227427 and parameters: {'num_leaves': 318, 'learning_rate': 0.012857431769675685, 'n_estimators': 501, 'subsample_for_bin': 265480, 'min_child_samples': 425, 'reg_alpha': 0.08183147901431, 'reg_lambda': 1.2395578957661876e-05, 'colsample_bytree': 0.5932635256901733, 'subsample': 0.5601855642678292, 'max_depth': 9}. Best is trial 34 with value: 0.8334639916481976.\n",
      "[I 2024-06-17 21:39:13,136] Trial 53 finished with value: 0.8278574664917302 and parameters: {'num_leaves': 377, 'learning_rate': 0.12133687819438216, 'n_estimators': 607, 'subsample_for_bin': 289594, 'min_child_samples': 473, 'reg_alpha': 0.021178754878632095, 'reg_lambda': 0.0029301157215776133, 'colsample_bytree': 0.4130799084542327, 'subsample': 0.5685328633040568, 'max_depth': 10}. Best is trial 34 with value: 0.8334639916481976.\n",
      "[I 2024-06-17 21:39:26,016] Trial 54 finished with value: 0.8330719287435107 and parameters: {'num_leaves': 430, 'learning_rate': 0.06661114801262577, 'n_estimators': 664, 'subsample_for_bin': 265626, 'min_child_samples': 244, 'reg_alpha': 0.2642737054508762, 'reg_lambda': 3.5593626577211035, 'colsample_bytree': 0.48529862910074006, 'subsample': 0.9692834567366194, 'max_depth': 4}. Best is trial 34 with value: 0.8334639916481976.\n",
      "[I 2024-06-17 21:39:35,773] Trial 55 finished with value: 0.8322616668304603 and parameters: {'num_leaves': 473, 'learning_rate': 0.07957711682844291, 'n_estimators': 797, 'subsample_for_bin': 231830, 'min_child_samples': 316, 'reg_alpha': 9.400575685303439, 'reg_lambda': 6.443304292073685e-06, 'colsample_bytree': 0.6814035228882713, 'subsample': 0.840113214564261, 'max_depth': 3}. Best is trial 34 with value: 0.8334639916481976.\n",
      "[I 2024-06-17 21:39:46,708] Trial 56 finished with value: 0.8192059020779043 and parameters: {'num_leaves': 419, 'learning_rate': 0.01611785023266489, 'n_estimators': 857, 'subsample_for_bin': 221678, 'min_child_samples': 253, 'reg_alpha': 0.18612568338645089, 'reg_lambda': 0.5970778541705676, 'colsample_bytree': 0.5242412866012882, 'subsample': 0.9078439600185402, 'max_depth': 1}. Best is trial 34 with value: 0.8334639916481976.\n",
      "[I 2024-06-17 21:40:13,901] Trial 57 finished with value: 0.8208003367693107 and parameters: {'num_leaves': 461, 'learning_rate': 0.21426267878693786, 'n_estimators': 878, 'subsample_for_bin': 256913, 'min_child_samples': 247, 'reg_alpha': 1.103684528896448, 'reg_lambda': 0.7108403135493901, 'colsample_bytree': 0.5556626396657951, 'subsample': 0.9943156975523868, 'max_depth': 7}. Best is trial 34 with value: 0.8334639916481976.\n",
      "[I 2024-06-17 21:40:32,656] Trial 58 finished with value: 0.8313991096525563 and parameters: {'num_leaves': 435, 'learning_rate': 0.07384961453217372, 'n_estimators': 656, 'subsample_for_bin': 215730, 'min_child_samples': 164, 'reg_alpha': 0.0005484485732820711, 'reg_lambda': 0.37688347287857743, 'colsample_bytree': 0.42585769278527, 'subsample': 0.7917038967769027, 'max_depth': 7}. Best is trial 34 with value: 0.8334639916481976.\n",
      "[I 2024-06-17 21:40:39,893] Trial 59 finished with value: 0.8170364756675564 and parameters: {'num_leaves': 449, 'learning_rate': 0.017264984351867147, 'n_estimators': 566, 'subsample_for_bin': 225917, 'min_child_samples': 349, 'reg_alpha': 0.3312726723202511, 'reg_lambda': 2.341123548677348e-06, 'colsample_bytree': 0.5348889508806645, 'subsample': 0.4353627864075044, 'max_depth': 1}. Best is trial 34 with value: 0.8334639916481976.\n",
      "[I 2024-06-17 21:40:56,503] Trial 60 finished with value: 0.8328889828496264 and parameters: {'num_leaves': 474, 'learning_rate': 0.04093920823345509, 'n_estimators': 767, 'subsample_for_bin': 49348, 'min_child_samples': 476, 'reg_alpha': 0.0033397252336459893, 'reg_lambda': 0.006304349418105231, 'colsample_bytree': 0.6410597700644909, 'subsample': 0.27150462830217176, 'max_depth': 6}. Best is trial 34 with value: 0.8334639916481976.\n",
      "[I 2024-06-17 21:41:17,813] Trial 61 finished with value: 0.831555934814431 and parameters: {'num_leaves': 407, 'learning_rate': 0.014141994284332184, 'n_estimators': 908, 'subsample_for_bin': 106719, 'min_child_samples': 336, 'reg_alpha': 3.5682751867289365e-09, 'reg_lambda': 0.008236880057175218, 'colsample_bytree': 0.5495756464120892, 'subsample': 0.2573048724660935, 'max_depth': 5}. Best is trial 34 with value: 0.8334639916481976.\n",
      "[I 2024-06-17 21:41:31,433] Trial 62 finished with value: 0.8320917808755901 and parameters: {'num_leaves': 442, 'learning_rate': 0.05752522835380258, 'n_estimators': 537, 'subsample_for_bin': 264439, 'min_child_samples': 357, 'reg_alpha': 0.12036086635874291, 'reg_lambda': 0.0025535598584801537, 'colsample_bytree': 0.6817921791245998, 'subsample': 0.7801147290515126, 'max_depth': 7}. Best is trial 34 with value: 0.8334639916481976.\n",
      "[I 2024-06-17 21:41:39,305] Trial 63 finished with value: 0.832209408286811 and parameters: {'num_leaves': 303, 'learning_rate': 0.07103767448680415, 'n_estimators': 354, 'subsample_for_bin': 273383, 'min_child_samples': 423, 'reg_alpha': 0.48451843091469615, 'reg_lambda': 0.0003198529513327893, 'colsample_bytree': 0.7692761959761167, 'subsample': 0.5581738988001433, 'max_depth': 6}. Best is trial 34 with value: 0.8334639916481976.\n",
      "[I 2024-06-17 21:41:47,466] Trial 64 finished with value: 0.8300399314915549 and parameters: {'num_leaves': 411, 'learning_rate': 0.025613771251510705, 'n_estimators': 468, 'subsample_for_bin': 276154, 'min_child_samples': 144, 'reg_alpha': 0.0351285763148697, 'reg_lambda': 7.7340923489451905, 'colsample_bytree': 0.6325472821954369, 'subsample': 0.926083644838142, 'max_depth': 4}. Best is trial 34 with value: 0.8334639916481976.\n",
      "[I 2024-06-17 21:42:12,385] Trial 65 finished with value: 0.8329151035816359 and parameters: {'num_leaves': 462, 'learning_rate': 0.024200695752337468, 'n_estimators': 827, 'subsample_for_bin': 209680, 'min_child_samples': 358, 'reg_alpha': 0.6963335129238646, 'reg_lambda': 4.488568452359233e-08, 'colsample_bytree': 0.5414173007087374, 'subsample': 0.8356639647851207, 'max_depth': 7}. Best is trial 34 with value: 0.8334639916481976.\n",
      "[I 2024-06-17 21:42:21,448] Trial 66 finished with value: 0.8301967754410224 and parameters: {'num_leaves': 453, 'learning_rate': 0.02764848738547749, 'n_estimators': 450, 'subsample_for_bin': 290950, 'min_child_samples': 487, 'reg_alpha': 0.32650867290805885, 'reg_lambda': 5.4362963569538725e-06, 'colsample_bytree': 0.5367324914956668, 'subsample': 0.5709490278247245, 'max_depth': 4}. Best is trial 34 with value: 0.8334639916481976.\n",
      "[I 2024-06-17 21:42:45,148] Trial 67 finished with value: 0.8319480224845812 and parameters: {'num_leaves': 426, 'learning_rate': 0.051401681637331186, 'n_estimators': 846, 'subsample_for_bin': 281293, 'min_child_samples': 429, 'reg_alpha': 3.916959426424553e-05, 'reg_lambda': 3.597858425346165e-05, 'colsample_bytree': 0.6002198915113031, 'subsample': 0.6243662656369705, 'max_depth': 8}. Best is trial 34 with value: 0.8334639916481976.\n",
      "[I 2024-06-17 21:43:10,558] Trial 68 finished with value: 0.8325622418435288 and parameters: {'num_leaves': 496, 'learning_rate': 0.033126637309413294, 'n_estimators': 653, 'subsample_for_bin': 249273, 'min_child_samples': 191, 'reg_alpha': 3.1974315215787183, 'reg_lambda': 0.25876268503835437, 'colsample_bytree': 0.4664122263193791, 'subsample': 0.9710772945918181, 'max_depth': 8}. Best is trial 34 with value: 0.8334639916481976.\n",
      "[I 2024-06-17 21:43:24,991] Trial 69 finished with value: 0.8333463872944771 and parameters: {'num_leaves': 445, 'learning_rate': 0.0375104145631362, 'n_estimators': 470, 'subsample_for_bin': 189789, 'min_child_samples': 373, 'reg_alpha': 0.09555160096619326, 'reg_lambda': 2.8835493161309294, 'colsample_bytree': 0.4911908472265734, 'subsample': 0.8982181582941261, 'max_depth': 7}. Best is trial 34 with value: 0.8334639916481976.\n",
      "[I 2024-06-17 21:43:34,056] Trial 70 finished with value: 0.8293864887625088 and parameters: {'num_leaves': 393, 'learning_rate': 0.019007598459476895, 'n_estimators': 334, 'subsample_for_bin': 142656, 'min_child_samples': 350, 'reg_alpha': 0.000934451810381316, 'reg_lambda': 9.668194213761948, 'colsample_bytree': 0.6044522548457969, 'subsample': 0.9756364120852797, 'max_depth': 6}. Best is trial 34 with value: 0.8334639916481976.\n",
      "[I 2024-06-17 21:43:46,466] Trial 71 finished with value: 0.8328497765591576 and parameters: {'num_leaves': 448, 'learning_rate': 0.09737979730730681, 'n_estimators': 435, 'subsample_for_bin': 188741, 'min_child_samples': 329, 'reg_alpha': 0.004700749937144639, 'reg_lambda': 0.09722938333148524, 'colsample_bytree': 0.49084367963557424, 'subsample': 0.9015551202910496, 'max_depth': 7}. Best is trial 34 with value: 0.8334639916481976.\n",
      "[I 2024-06-17 21:44:22,753] Trial 72 finished with value: 0.8325361219655006 and parameters: {'num_leaves': 382, 'learning_rate': 0.029602645604765224, 'n_estimators': 939, 'subsample_for_bin': 31104, 'min_child_samples': 256, 'reg_alpha': 0.001953195237406773, 'reg_lambda': 8.152789343983136e-05, 'colsample_bytree': 0.5262723947336274, 'subsample': 0.3742753133708719, 'max_depth': 9}. Best is trial 34 with value: 0.8334639916481976.\n",
      "[I 2024-06-17 21:44:41,919] Trial 73 finished with value: 0.8323662197849817 and parameters: {'num_leaves': 295, 'learning_rate': 0.029453585013666038, 'n_estimators': 1004, 'subsample_for_bin': 288746, 'min_child_samples': 467, 'reg_alpha': 0.6625228568072808, 'reg_lambda': 8.838169111643758e-06, 'colsample_bytree': 0.5172715656719311, 'subsample': 0.8565624049086855, 'max_depth': 4}. Best is trial 34 with value: 0.8334639916481976.\n",
      "[I 2024-06-17 21:44:55,607] Trial 74 finished with value: 0.8317127616842688 and parameters: {'num_leaves': 421, 'learning_rate': 0.018387974262408693, 'n_estimators': 401, 'subsample_for_bin': 291907, 'min_child_samples': 327, 'reg_alpha': 0.0001837442928478546, 'reg_lambda': 5.421302181547902e-07, 'colsample_bytree': 0.4437730303994786, 'subsample': 0.7191990293086449, 'max_depth': 7}. Best is trial 34 with value: 0.8334639916481976.\n",
      "[I 2024-06-17 21:45:19,132] Trial 75 finished with value: 0.833124192411049 and parameters: {'num_leaves': 404, 'learning_rate': 0.02698332744764108, 'n_estimators': 776, 'subsample_for_bin': 240706, 'min_child_samples': 284, 'reg_alpha': 0.0006473026588242565, 'reg_lambda': 3.503170662864197e-06, 'colsample_bytree': 0.4684530466082854, 'subsample': 0.4449009478852525, 'max_depth': 7}. Best is trial 34 with value: 0.8334639916481976.\n",
      "[I 2024-06-17 21:45:45,264] Trial 76 finished with value: 0.8329935247023883 and parameters: {'num_leaves': 397, 'learning_rate': 0.028673955382283144, 'n_estimators': 651, 'subsample_for_bin': 228383, 'min_child_samples': 266, 'reg_alpha': 0.0054720928267527145, 'reg_lambda': 1.4449075090222e-09, 'colsample_bytree': 0.4625542886637633, 'subsample': 0.36677538952930355, 'max_depth': 9}. Best is trial 34 with value: 0.8334639916481976.\n",
      "[I 2024-06-17 21:46:25,060] Trial 77 finished with value: 0.8262500231001993 and parameters: {'num_leaves': 356, 'learning_rate': 0.08763488035255798, 'n_estimators': 795, 'subsample_for_bin': 218370, 'min_child_samples': 188, 'reg_alpha': 3.284828044245479e-07, 'reg_lambda': 6.02865389502816e-06, 'colsample_bytree': 0.5514348772612434, 'subsample': 0.28940979034163306, 'max_depth': 12}. Best is trial 34 with value: 0.8334639916481976.\n",
      "[I 2024-06-17 21:46:53,233] Trial 78 finished with value: 0.8328105506271145 and parameters: {'num_leaves': 432, 'learning_rate': 0.0161038387924199, 'n_estimators': 698, 'subsample_for_bin': 282410, 'min_child_samples': 223, 'reg_alpha': 0.0033904593836513197, 'reg_lambda': 0.0012260463906644298, 'colsample_bytree': 0.5323671309258853, 'subsample': 0.559656856450476, 'max_depth': 8}. Best is trial 34 with value: 0.8334639916481976.\n",
      "[I 2024-06-17 21:47:28,458] Trial 79 finished with value: 0.8300007687541424 and parameters: {'num_leaves': 404, 'learning_rate': 0.055006556909089586, 'n_estimators': 995, 'subsample_for_bin': 240029, 'min_child_samples': 247, 'reg_alpha': 0.00040115531341725443, 'reg_lambda': 1.6561258333101963e-05, 'colsample_bytree': 0.507709136412078, 'subsample': 0.48711665264112397, 'max_depth': 9}. Best is trial 34 with value: 0.8334639916481976.\n",
      "[I 2024-06-17 21:47:39,522] Trial 80 finished with value: 0.8232572347006568 and parameters: {'num_leaves': 482, 'learning_rate': 0.01370738185139333, 'n_estimators': 758, 'subsample_for_bin': 204384, 'min_child_samples': 242, 'reg_alpha': 3.2701380278350307e-06, 'reg_lambda': 3.547066756340737e-05, 'colsample_bytree': 0.41761528370505796, 'subsample': 0.41193376450811475, 'max_depth': 2}. Best is trial 34 with value: 0.8334639916481976.\n",
      "[I 2024-06-17 21:48:02,382] Trial 81 finished with value: 0.8315951282951772 and parameters: {'num_leaves': 392, 'learning_rate': 0.01117851129359427, 'n_estimators': 791, 'subsample_for_bin': 138759, 'min_child_samples': 287, 'reg_alpha': 0.015621375359435433, 'reg_lambda': 4.325016947503132e-06, 'colsample_bytree': 0.4726411333996132, 'subsample': 0.5499778070039062, 'max_depth': 6}. Best is trial 34 with value: 0.8334639916481976.\n",
      "[I 2024-06-17 21:48:16,798] Trial 82 finished with value: 0.8328628125866897 and parameters: {'num_leaves': 363, 'learning_rate': 0.031962511035579774, 'n_estimators': 641, 'subsample_for_bin': 274086, 'min_child_samples': 388, 'reg_alpha': 0.08648654845776763, 'reg_lambda': 0.0006586072678020475, 'colsample_bytree': 0.40258779443727144, 'subsample': 0.6071795357384902, 'max_depth': 5}. Best is trial 34 with value: 0.8334639916481976.\n",
      "[I 2024-06-17 21:48:29,272] Trial 83 finished with value: 0.83007913009619 and parameters: {'num_leaves': 301, 'learning_rate': 0.050273446770752406, 'n_estimators': 850, 'subsample_for_bin': 211924, 'min_child_samples': 210, 'reg_alpha': 0.0008784865521802069, 'reg_lambda': 5.033355648697841, 'colsample_bytree': 0.49333902383908523, 'subsample': 0.5372723312130678, 'max_depth': 2}. Best is trial 34 with value: 0.8334639916481976.\n",
      "[I 2024-06-17 21:48:53,287] Trial 84 finished with value: 0.8321702045582867 and parameters: {'num_leaves': 383, 'learning_rate': 0.04246449053953106, 'n_estimators': 523, 'subsample_for_bin': 229231, 'min_child_samples': 315, 'reg_alpha': 0.2556085161615933, 'reg_lambda': 4.5201673930064885, 'colsample_bytree': 0.6211635219490199, 'subsample': 0.947716306677085, 'max_depth': 12}. Best is trial 34 with value: 0.8334639916481976.\n",
      "[I 2024-06-17 21:49:04,633] Trial 85 finished with value: 0.8316866358283701 and parameters: {'num_leaves': 473, 'learning_rate': 0.19676850271525037, 'n_estimators': 698, 'subsample_for_bin': 264818, 'min_child_samples': 155, 'reg_alpha': 0.10027204268878698, 'reg_lambda': 7.549845008224602, 'colsample_bytree': 0.45541787139777834, 'subsample': 0.8506825449395872, 'max_depth': 3}. Best is trial 34 with value: 0.8334639916481976.\n",
      "[I 2024-06-17 21:49:34,039] Trial 86 finished with value: 0.8331503421784296 and parameters: {'num_leaves': 447, 'learning_rate': 0.025446116514915615, 'n_estimators': 903, 'subsample_for_bin': 93648, 'min_child_samples': 321, 'reg_alpha': 1.8263705264934115e-06, 'reg_lambda': 0.0006491640489326306, 'colsample_bytree': 0.42415115791098246, 'subsample': 0.48707461869107, 'max_depth': 8}. Best is trial 34 with value: 0.8334639916481976.\n",
      "[I 2024-06-17 21:49:42,895] Trial 87 finished with value: 0.8326275833836926 and parameters: {'num_leaves': 332, 'learning_rate': 0.09863581491217041, 'n_estimators': 493, 'subsample_for_bin': 281539, 'min_child_samples': 244, 'reg_alpha': 3.5373569000974237, 'reg_lambda': 8.05550673803616, 'colsample_bytree': 0.5979105378134546, 'subsample': 0.949657687551529, 'max_depth': 4}. Best is trial 34 with value: 0.8334639916481976.\n",
      "[I 2024-06-17 21:50:12,557] Trial 88 finished with value: 0.8332548942789696 and parameters: {'num_leaves': 489, 'learning_rate': 0.025181030167608285, 'n_estimators': 694, 'subsample_for_bin': 43313, 'min_child_samples': 317, 'reg_alpha': 1.3469243052478996e-06, 'reg_lambda': 0.00041556117246909613, 'colsample_bytree': 0.4309559802967239, 'subsample': 0.43195519567965074, 'max_depth': 10}. Best is trial 34 with value: 0.8334639916481976.\n",
      "[I 2024-06-17 21:50:50,205] Trial 89 finished with value: 0.8339998214837081 and parameters: {'num_leaves': 464, 'learning_rate': 0.01574193258343428, 'n_estimators': 1151, 'subsample_for_bin': 68638, 'min_child_samples': 440, 'reg_alpha': 2.106066174120728e-05, 'reg_lambda': 0.0003416360480277162, 'colsample_bytree': 0.47037718807948126, 'subsample': 0.39772831550793686, 'max_depth': 8}. Best is trial 89 with value: 0.8339998214837081.\n",
      "[I 2024-06-17 21:51:17,674] Trial 90 finished with value: 0.8327452184807471 and parameters: {'num_leaves': 361, 'learning_rate': 0.04066249232175683, 'n_estimators': 1049, 'subsample_for_bin': 37992, 'min_child_samples': 478, 'reg_alpha': 6.457489841396387e-06, 'reg_lambda': 0.039219437559898276, 'colsample_bytree': 0.45920332253267077, 'subsample': 0.5822631787364383, 'max_depth': 7}. Best is trial 89 with value: 0.8339998214837081.\n",
      "[I 2024-06-17 21:51:42,475] Trial 91 finished with value: 0.8319872014476422 and parameters: {'num_leaves': 461, 'learning_rate': 0.013098265734884526, 'n_estimators': 533, 'subsample_for_bin': 37100, 'min_child_samples': 278, 'reg_alpha': 3.9022264468497253e-08, 'reg_lambda': 9.497115992938869e-07, 'colsample_bytree': 0.4245145239452947, 'subsample': 0.4708883793609686, 'max_depth': 9}. Best is trial 89 with value: 0.8339998214837081.\n",
      "[I 2024-06-17 21:52:09,567] Trial 92 finished with value: 0.8236231922450008 and parameters: {'num_leaves': 444, 'learning_rate': 0.15667094770111317, 'n_estimators': 782, 'subsample_for_bin': 130427, 'min_child_samples': 259, 'reg_alpha': 1.5641397832041143e-05, 'reg_lambda': 0.005762480997991344, 'colsample_bytree': 0.5062491331308924, 'subsample': 0.45909190576580633, 'max_depth': 9}. Best is trial 89 with value: 0.8339998214837081.\n",
      "[I 2024-06-17 21:52:44,494] Trial 93 finished with value: 0.830353634762157 and parameters: {'num_leaves': 428, 'learning_rate': 0.05236053242027503, 'n_estimators': 1089, 'subsample_for_bin': 56507, 'min_child_samples': 378, 'reg_alpha': 3.5683241176813194e-07, 'reg_lambda': 6.98199290585729e-07, 'colsample_bytree': 0.4449054517681191, 'subsample': 0.375208764125454, 'max_depth': 9}. Best is trial 89 with value: 0.8339998214837081.\n",
      "[I 2024-06-17 21:53:13,267] Trial 94 finished with value: 0.8319871911998641 and parameters: {'num_leaves': 493, 'learning_rate': 0.01240989224988359, 'n_estimators': 667, 'subsample_for_bin': 171117, 'min_child_samples': 402, 'reg_alpha': 0.0040839728726776705, 'reg_lambda': 6.453828694768224, 'colsample_bytree': 0.40888392389539846, 'subsample': 0.9480896318242295, 'max_depth': 11}. Best is trial 89 with value: 0.8339998214837081.\n",
      "[I 2024-06-17 21:53:27,101] Trial 95 finished with value: 0.8325753026365244 and parameters: {'num_leaves': 453, 'learning_rate': 0.05030614696120796, 'n_estimators': 743, 'subsample_for_bin': 48646, 'min_child_samples': 352, 'reg_alpha': 0.0012900214634904486, 'reg_lambda': 0.0009262314067294451, 'colsample_bytree': 0.4014600517822574, 'subsample': 0.5621654225289232, 'max_depth': 4}. Best is trial 89 with value: 0.8339998214837081.\n",
      "[I 2024-06-17 21:53:52,277] Trial 96 finished with value: 0.8331111546755539 and parameters: {'num_leaves': 375, 'learning_rate': 0.03613913502097738, 'n_estimators': 879, 'subsample_for_bin': 70127, 'min_child_samples': 314, 'reg_alpha': 1.4181312125160145e-06, 'reg_lambda': 0.0031679879656276834, 'colsample_bytree': 0.49958765715982206, 'subsample': 0.5058965605614355, 'max_depth': 7}. Best is trial 89 with value: 0.8339998214837081.\n",
      "[I 2024-06-17 21:54:24,351] Trial 97 finished with value: 0.8330458020336307 and parameters: {'num_leaves': 482, 'learning_rate': 0.026509412362006234, 'n_estimators': 942, 'subsample_for_bin': 174985, 'min_child_samples': 460, 'reg_alpha': 5.543685006965455e-06, 'reg_lambda': 0.0010436798097768463, 'colsample_bytree': 0.46298756007966174, 'subsample': 0.28384818020041747, 'max_depth': 9}. Best is trial 89 with value: 0.8339998214837081.\n",
      "[I 2024-06-17 21:54:48,320] Trial 98 finished with value: 0.8326406595483551 and parameters: {'num_leaves': 287, 'learning_rate': 0.04559756907967862, 'n_estimators': 743, 'subsample_for_bin': 76360, 'min_child_samples': 287, 'reg_alpha': 1.5236534924704882e-08, 'reg_lambda': 0.046703265320374665, 'colsample_bytree': 0.4357805278127236, 'subsample': 0.5719520412054664, 'max_depth': 8}. Best is trial 89 with value: 0.8339998214837081.\n",
      "[I 2024-06-17 21:55:27,376] Trial 99 finished with value: 0.8332026118238384 and parameters: {'num_leaves': 460, 'learning_rate': 0.01492412234698766, 'n_estimators': 1170, 'subsample_for_bin': 51403, 'min_child_samples': 436, 'reg_alpha': 3.915706277031395e-06, 'reg_lambda': 0.00011750999938967546, 'colsample_bytree': 0.53622579698706, 'subsample': 0.5210583972513035, 'max_depth': 8}. Best is trial 89 with value: 0.8339998214837081.\n"
     ]
    }
   ],
   "source": [
    "def objective(trial):\n",
    "    params = {\n",
    "        'num_leaves': trial.suggest_int('num_leaves', 100, 500),\n",
    "        'learning_rate': trial.suggest_float('learning_rate', 0.01, 1.0, log=True),\n",
    "        'n_estimators': trial.suggest_int('n_estimators', 300, 1200),\n",
    "        'subsample_for_bin': trial.suggest_int('subsample_for_bin', 20000, 300000),\n",
    "        'min_child_samples': trial.suggest_int('min_child_samples', 20, 500),\n",
    "        'reg_alpha': trial.suggest_float('reg_alpha', 1e-9, 10.0, log=True),\n",
    "        'reg_lambda': trial.suggest_float('reg_lambda', 1e-9, 10.0, log=True),\n",
    "        'colsample_bytree': trial.suggest_float('colsample_bytree', 0.4, 1.0),\n",
    "        'subsample': trial.suggest_float('subsample', 0.25, 1.0),\n",
    "        'max_depth': trial.suggest_int('max_depth', 1, 15)\n",
    "    }\n",
    "    \n",
    "    model = LGBMClassifier(**params, objective='multiclass', random_state=0, device='cpu', verbosity=-1)\n",
    "    \n",
    "    # Cross-validation with 5 folds using KFold\n",
    "    kf = KFold(n_splits=5, shuffle=True, random_state=42)\n",
    "    cv_results = cross_val_score(model, x_train, y_train, cv=kf, scoring='accuracy')\n",
    "    \n",
    "    # We maximize accuracy, so we return the mean accuracy of the cross-validation\n",
    "    return np.mean(cv_results)\n",
    "\n",
    "study = optuna.create_study(sampler=TPESampler(n_startup_trials=30, multivariate=True, seed=0), direction=\"maximize\")\n",
    "study.optimize(objective, n_trials=100)\n"
   ]
  },
  {
   "cell_type": "markdown",
   "id": "4f92b96e",
   "metadata": {},
   "source": [
    "## optunaによるチューニングパラメータを利用してモデルを作成"
   ]
  },
  {
   "cell_type": "code",
   "execution_count": 32,
   "id": "3f91581e",
   "metadata": {
    "execution": {
     "iopub.execute_input": "2024-05-08T11:00:19.722278Z",
     "iopub.status.busy": "2024-05-08T11:00:19.721970Z",
     "iopub.status.idle": "2024-05-08T11:00:19.726620Z",
     "shell.execute_reply": "2024-05-08T11:00:19.725792Z"
    },
    "papermill": {
     "duration": 0.015988,
     "end_time": "2024-05-08T11:00:19.728696",
     "exception": false,
     "start_time": "2024-05-08T11:00:19.712708",
     "status": "completed"
    },
    "tags": []
   },
   "outputs": [
    {
     "name": "stdout",
     "output_type": "stream",
     "text": [
      "Best value: 0.8339998214837081\n",
      "Best trial: {'num_leaves': 464, 'learning_rate': 0.01574193258343428, 'n_estimators': 1151, 'subsample_for_bin': 68638, 'min_child_samples': 440, 'reg_alpha': 2.106066174120728e-05, 'reg_lambda': 0.0003416360480277162, 'colsample_bytree': 0.47037718807948126, 'subsample': 0.39772831550793686, 'max_depth': 8}\n"
     ]
    }
   ],
   "source": [
    "lgb_model = LGBMClassifier(**study.best_params, objective='multiclass', random_state=0, device='cpu', verbosity=-1)\n",
    "print('Best value:', study.best_value)\n",
    "print('Best trial:', study.best_trial.params)"
   ]
  },
  {
   "cell_type": "markdown",
   "id": "f64e4348",
   "metadata": {},
   "source": [
    "## クロスバリデーション"
   ]
  },
  {
   "cell_type": "code",
   "execution_count": 33,
   "id": "0c8ec36e",
   "metadata": {
    "execution": {
     "iopub.execute_input": "2024-05-08T11:00:19.747144Z",
     "iopub.status.busy": "2024-05-08T11:00:19.746805Z",
     "iopub.status.idle": "2024-05-08T11:06:07.215679Z",
     "shell.execute_reply": "2024-05-08T11:06:07.214570Z"
    },
    "papermill": {
     "duration": 347.489601,
     "end_time": "2024-05-08T11:06:07.227000",
     "exception": false,
     "start_time": "2024-05-08T11:00:19.737399",
     "status": "completed"
    },
    "tags": []
   },
   "outputs": [
    {
     "name": "stderr",
     "output_type": "stream",
     "text": [
      "CV Progress:  20%|██        | 1/5 [00:07<00:29,  7.49s/it]"
     ]
    },
    {
     "name": "stdout",
     "output_type": "stream",
     "text": [
      "score: 0.8359252483010977\n"
     ]
    },
    {
     "name": "stderr",
     "output_type": "stream",
     "text": [
      "CV Progress:  40%|████      | 2/5 [00:15<00:22,  7.54s/it]"
     ]
    },
    {
     "name": "stdout",
     "output_type": "stream",
     "text": [
      "score: 0.8380815473078934\n"
     ]
    },
    {
     "name": "stderr",
     "output_type": "stream",
     "text": [
      "CV Progress:  60%|██████    | 3/5 [00:22<00:15,  7.69s/it]"
     ]
    },
    {
     "name": "stdout",
     "output_type": "stream",
     "text": [
      "score: 0.8296523784631469\n"
     ]
    },
    {
     "name": "stderr",
     "output_type": "stream",
     "text": [
      "CV Progress:  80%|████████  | 4/5 [00:30<00:07,  7.71s/it]"
     ]
    },
    {
     "name": "stdout",
     "output_type": "stream",
     "text": [
      "score: 0.8314056067437757\n"
     ]
    },
    {
     "name": "stderr",
     "output_type": "stream",
     "text": [
      "CV Progress: 100%|██████████| 5/5 [00:38<00:00,  7.64s/it]"
     ]
    },
    {
     "name": "stdout",
     "output_type": "stream",
     "text": [
      "score: 0.8349343266026269\n",
      "Mean Score ＝ 0.83400\n"
     ]
    },
    {
     "name": "stderr",
     "output_type": "stream",
     "text": [
      "\n"
     ]
    }
   ],
   "source": [
    "cv = KFold(5, shuffle=True, random_state=42)\n",
    "cv_splits = tqdm(cv.split(x_train, y_train), total=cv.get_n_splits(), desc='CV Progress')\n",
    "\n",
    "scores = []\n",
    "for train_idx, val_idx in cv_splits:\n",
    "    x_train_fold, x_val_fold = x_train.iloc[train_idx], x_train.iloc[val_idx]\n",
    "    y_train_fold, y_val_fold = y_train[train_idx], y_train[val_idx]\n",
    "    lgb_model.fit(x_train_fold, y_train_fold)\n",
    "    y_pred = lgb_model.predict(x_val_fold)\n",
    "    r2 = accuracy_score(y_val_fold, y_pred)\n",
    "    scores.append(r2)\n",
    "    \n",
    "    print(f'score: {r2}')\n",
    "\n",
    "print(f\"Mean Score ＝ {np.mean(scores):.5f}\") "
   ]
  },
  {
   "cell_type": "markdown",
   "id": "432bbe45",
   "metadata": {},
   "source": [
    "## 提出用ファイルの作成"
   ]
  },
  {
   "cell_type": "code",
   "execution_count": 34,
   "id": "9126847d",
   "metadata": {
    "execution": {
     "iopub.execute_input": "2024-05-08T11:06:07.496306Z",
     "iopub.status.busy": "2024-05-08T11:06:07.495989Z",
     "iopub.status.idle": "2024-05-08T11:07:47.527333Z",
     "shell.execute_reply": "2024-05-08T11:07:47.526303Z"
    },
    "papermill": {
     "duration": 100.043481,
     "end_time": "2024-05-08T11:07:47.529702",
     "exception": false,
     "start_time": "2024-05-08T11:06:07.486221",
     "status": "completed"
    },
    "tags": []
   },
   "outputs": [
    {
     "data": {
      "text/html": [
       "<div>\n",
       "<style scoped>\n",
       "    .dataframe tbody tr th:only-of-type {\n",
       "        vertical-align: middle;\n",
       "    }\n",
       "\n",
       "    .dataframe tbody tr th {\n",
       "        vertical-align: top;\n",
       "    }\n",
       "\n",
       "    .dataframe thead th {\n",
       "        text-align: right;\n",
       "    }\n",
       "</style>\n",
       "<table border=\"1\" class=\"dataframe\">\n",
       "  <thead>\n",
       "    <tr style=\"text-align: right;\">\n",
       "      <th></th>\n",
       "      <th>id</th>\n",
       "      <th>Target</th>\n",
       "    </tr>\n",
       "  </thead>\n",
       "  <tbody>\n",
       "    <tr>\n",
       "      <th>0</th>\n",
       "      <td>76518</td>\n",
       "      <td>Dropout</td>\n",
       "    </tr>\n",
       "    <tr>\n",
       "      <th>1</th>\n",
       "      <td>76519</td>\n",
       "      <td>Graduate</td>\n",
       "    </tr>\n",
       "    <tr>\n",
       "      <th>2</th>\n",
       "      <td>76520</td>\n",
       "      <td>Graduate</td>\n",
       "    </tr>\n",
       "    <tr>\n",
       "      <th>3</th>\n",
       "      <td>76521</td>\n",
       "      <td>Graduate</td>\n",
       "    </tr>\n",
       "    <tr>\n",
       "      <th>4</th>\n",
       "      <td>76522</td>\n",
       "      <td>Enrolled</td>\n",
       "    </tr>\n",
       "  </tbody>\n",
       "</table>\n",
       "</div>"
      ],
      "text/plain": [
       "      id    Target\n",
       "0  76518   Dropout\n",
       "1  76519  Graduate\n",
       "2  76520  Graduate\n",
       "3  76521  Graduate\n",
       "4  76522  Enrolled"
      ]
     },
     "execution_count": 34,
     "metadata": {},
     "output_type": "execute_result"
    }
   ],
   "source": [
    "submit = pd.read_csv(\"inputs/sample_submission.csv\")\n",
    "pred = lgb_model.predict(x_test)\n",
    "submit['Target'] = le.inverse_transform(pred)\n",
    "submit.to_csv(\"outputs/submission_add_feature.csv\", index=False)\n",
    "submit.head()"
   ]
  }
 ],
 "metadata": {
  "kaggle": {
   "accelerator": "gpu",
   "dataSources": [
    {
     "databundleVersionId": 8121328,
     "sourceId": 73278,
     "sourceType": "competition"
    }
   ],
   "dockerImageVersionId": 30699,
   "isGpuEnabled": true,
   "isInternetEnabled": true,
   "language": "python",
   "sourceType": "notebook"
  },
  "kernelspec": {
   "display_name": "Python 3",
   "language": "python",
   "name": "python3"
  },
  "language_info": {
   "codemirror_mode": {
    "name": "ipython",
    "version": 3
   },
   "file_extension": ".py",
   "mimetype": "text/x-python",
   "name": "python",
   "nbconvert_exporter": "python",
   "pygments_lexer": "ipython3",
   "version": "3.9.13"
  },
  "papermill": {
   "default_parameters": {},
   "duration": 816.592185,
   "end_time": "2024-05-08T11:07:50.065702",
   "environment_variables": {},
   "exception": null,
   "input_path": "__notebook__.ipynb",
   "output_path": "__notebook__.ipynb",
   "parameters": {},
   "start_time": "2024-05-08T10:54:13.473517",
   "version": "2.5.0"
  }
 },
 "nbformat": 4,
 "nbformat_minor": 5
}

{
 "cells": [
  {
   "cell_type": "markdown",
   "id": "e4716f3c",
   "metadata": {},
   "source": [
    "## カラムの日本語訳"
   ]
  },
  {
   "cell_type": "code",
   "execution_count": 1,
   "id": "6542b9c5",
   "metadata": {
    "execution": {
     "iopub.execute_input": "2024-05-08T10:54:30.415651Z",
     "iopub.status.busy": "2024-05-08T10:54:30.415328Z",
     "iopub.status.idle": "2024-05-08T10:54:30.419886Z",
     "shell.execute_reply": "2024-05-08T10:54:30.419060Z"
    },
    "papermill": {
     "duration": 0.013328,
     "end_time": "2024-05-08T10:54:30.421788",
     "exception": false,
     "start_time": "2024-05-08T10:54:30.408460",
     "status": "completed"
    },
    "tags": []
   },
   "outputs": [],
   "source": [
    "# Marital status - 配偶者の有無\n",
    "# Application mode - 応募形態\n",
    "# Application order - 応募順序\n",
    "# Course - コース\n",
    "# Daytime/evening attendance - 昼間/夜間の出席\n",
    "# Previous qualification - 以前の資格\n",
    "# Previous qualification (grade) - 以前の資格（成績）\n",
    "# Nacionality - 国籍\n",
    "# Mother's qualification - 母親の資格\n",
    "# Father's qualification - 父親の資格\n",
    "# Mother's occupation - 母親の職業\n",
    "# Father's occupation - 父親の職業\n",
    "# Admission grade - 入学成績\n",
    "# Displaced - 移住者\n",
    "# Educational special needs - 教育的特別支援\n",
    "# Debtor - 債務者\n",
    "# Tuition fees up to date - 授業料の支払い状況\n",
    "# Gender - 性別\n",
    "# Scholarship holder - 奨学生\n",
    "# Age at enrollment - 入学時の年齢\n",
    "# International - 国際的\n",
    "# Curricular units 1st sem (credited) - 1学期の履修単位（認定済み）\n",
    "# Curricular units 1st sem (enrolled) - 1学期の履修単位（登録済み）\n",
    "# Curricular units 1st sem (evaluations) - 1学期の履修単位（評価済み）\n",
    "# Curricular units 1st sem (approved) - 1学期の履修単位（合格済み）\n",
    "# Curricular units 1st sem (grade) - 1学期の履修単位（成績）\n",
    "# Curricular units 1st sem (without evaluations) - 1学期の履修単位（未評価）\n",
    "# Curricular units 2nd sem (credited) - 2学期の履修単位（認定済み）\n",
    "# Curricular units 2nd sem (enrolled) - 2学期の履修単位（登録済み）\n",
    "# Curricular units 2nd sem (evaluations) - 2学期の履修単位（評価済み）\n",
    "# Curricular units 2nd sem (approved) - 2学期の履修単位（合格済み）\n",
    "# Curricular units 2nd sem (grade) - 2学期の履修単位（成績）\n",
    "# Curricular units 2nd sem (without evaluations) - 2学期の履修単位（未評価）\n",
    "# Unemployment rate - 失業率\n",
    "# Inflation rate - インフレ率\n",
    "# GDP - 国内総生産"
   ]
  },
  {
   "cell_type": "markdown",
   "id": "9fe015b3",
   "metadata": {},
   "source": [
    "## import"
   ]
  },
  {
   "cell_type": "code",
   "execution_count": 1,
   "id": "1d9adfdd",
   "metadata": {
    "_cell_guid": "b1076dfc-b9ad-4769-8c92-a6c4dae69d19",
    "_uuid": "8f2839f25d086af736a60e9eeb907d3b93b6e0e5",
    "execution": {
     "iopub.execute_input": "2024-05-08T10:54:16.247315Z",
     "iopub.status.busy": "2024-05-08T10:54:16.246563Z",
     "iopub.status.idle": "2024-05-08T10:54:27.011059Z",
     "shell.execute_reply": "2024-05-08T10:54:27.010250Z"
    },
    "papermill": {
     "duration": 10.77434,
     "end_time": "2024-05-08T10:54:27.013578",
     "exception": false,
     "start_time": "2024-05-08T10:54:16.239238",
     "status": "completed"
    },
    "tags": []
   },
   "outputs": [
    {
     "name": "stderr",
     "output_type": "stream",
     "text": [
      "/home/ru/kaggle/venv/lib/python3.9/site-packages/tqdm/auto.py:21: TqdmWarning: IProgress not found. Please update jupyter and ipywidgets. See https://ipywidgets.readthedocs.io/en/stable/user_install.html\n",
      "  from .autonotebook import tqdm as notebook_tqdm\n"
     ]
    }
   ],
   "source": [
    "import pandas as pd\n",
    "import numpy as np\n",
    "import matplotlib.pyplot as plt\n",
    "import seaborn as sns\n",
    "from tqdm import tqdm\n",
    "from sklearn.preprocessing import StandardScaler\n",
    "from lightgbm import LGBMClassifier\n",
    "from sklearn.model_selection import KFold, cross_val_score\n",
    "from sklearn.metrics import accuracy_score\n",
    "from sklearn.preprocessing import LabelEncoder\n",
    "from optuna.samplers import TPESampler\n",
    "import optuna\n",
    "import warnings"
   ]
  },
  {
   "cell_type": "markdown",
   "id": "406e77d5",
   "metadata": {},
   "source": [
    "## データの読み込み"
   ]
  },
  {
   "cell_type": "code",
   "execution_count": 2,
   "id": "12d6b4d1",
   "metadata": {},
   "outputs": [],
   "source": [
    "train = pd.read_csv(\"inputs/train.csv\")\n",
    "test = pd.read_csv(\"inputs/test.csv\")"
   ]
  },
  {
   "cell_type": "code",
   "execution_count": null,
   "id": "e746566e",
   "metadata": {},
   "outputs": [],
   "source": [
    "columns = train.columns.tolist()\n",
    "for column in columns:\n",
    "    print(f\"{column}: {train[column].dtype}\")\n",
    "    print(f\"ユニークな値: {train[column].unique()}\")\n",
    "    print(f\"統計情報: {train[column].describe()}\\n\")"
   ]
  },
  {
   "cell_type": "code",
   "execution_count": 3,
   "id": "c3317fd2",
   "metadata": {
    "execution": {
     "iopub.execute_input": "2024-05-08T10:54:30.301512Z",
     "iopub.status.busy": "2024-05-08T10:54:30.301166Z",
     "iopub.status.idle": "2024-05-08T10:54:30.400020Z",
     "shell.execute_reply": "2024-05-08T10:54:30.399224Z"
    },
    "papermill": {
     "duration": 0.108057,
     "end_time": "2024-05-08T10:54:30.402384",
     "exception": false,
     "start_time": "2024-05-08T10:54:30.294327",
     "status": "completed"
    },
    "tags": []
   },
   "outputs": [],
   "source": [
    "x_train = train.drop(columns=[\"Target\", \"id\"], axis=1)\n",
    "y_train = train[\"Target\"]\n",
    "x_test = test.drop(columns=[\"id\"], axis=1)"
   ]
  },
  {
   "cell_type": "code",
   "execution_count": 4,
   "id": "7f38801d",
   "metadata": {},
   "outputs": [],
   "source": [
    "le = LabelEncoder()\n",
    "le.fit(y_train)\n",
    "y_train = le.transform(y_train)"
   ]
  },
  {
   "cell_type": "code",
   "execution_count": 24,
   "id": "2365bd3d",
   "metadata": {},
   "outputs": [
    {
     "data": {
      "text/html": [
       "<div>\n",
       "<style scoped>\n",
       "    .dataframe tbody tr th:only-of-type {\n",
       "        vertical-align: middle;\n",
       "    }\n",
       "\n",
       "    .dataframe tbody tr th {\n",
       "        vertical-align: top;\n",
       "    }\n",
       "\n",
       "    .dataframe thead th {\n",
       "        text-align: right;\n",
       "    }\n",
       "</style>\n",
       "<table border=\"1\" class=\"dataframe\">\n",
       "  <thead>\n",
       "    <tr style=\"text-align: right;\">\n",
       "      <th></th>\n",
       "      <th>Marital status</th>\n",
       "      <th>Application mode</th>\n",
       "      <th>Application order</th>\n",
       "      <th>Course</th>\n",
       "      <th>Daytime/evening attendance</th>\n",
       "      <th>Previous qualification</th>\n",
       "      <th>Previous qualification (grade)</th>\n",
       "      <th>Nacionality</th>\n",
       "      <th>Mother's qualification</th>\n",
       "      <th>Father's qualification</th>\n",
       "      <th>...</th>\n",
       "      <th>Curricular units 1st sem (without evaluations)</th>\n",
       "      <th>Curricular units 2nd sem (credited)</th>\n",
       "      <th>Curricular units 2nd sem (enrolled)</th>\n",
       "      <th>Curricular units 2nd sem (evaluations)</th>\n",
       "      <th>Curricular units 2nd sem (approved)</th>\n",
       "      <th>Curricular units 2nd sem (grade)</th>\n",
       "      <th>Curricular units 2nd sem (without evaluations)</th>\n",
       "      <th>Unemployment rate</th>\n",
       "      <th>Inflation rate</th>\n",
       "      <th>GDP</th>\n",
       "    </tr>\n",
       "  </thead>\n",
       "  <tbody>\n",
       "    <tr>\n",
       "      <th>0</th>\n",
       "      <td>1</td>\n",
       "      <td>1</td>\n",
       "      <td>1</td>\n",
       "      <td>9238</td>\n",
       "      <td>1</td>\n",
       "      <td>1</td>\n",
       "      <td>126.0</td>\n",
       "      <td>1</td>\n",
       "      <td>1</td>\n",
       "      <td>19</td>\n",
       "      <td>...</td>\n",
       "      <td>0</td>\n",
       "      <td>0</td>\n",
       "      <td>6</td>\n",
       "      <td>7</td>\n",
       "      <td>6</td>\n",
       "      <td>12.428571</td>\n",
       "      <td>0</td>\n",
       "      <td>11.1</td>\n",
       "      <td>0.6</td>\n",
       "      <td>2.02</td>\n",
       "    </tr>\n",
       "    <tr>\n",
       "      <th>1</th>\n",
       "      <td>1</td>\n",
       "      <td>17</td>\n",
       "      <td>1</td>\n",
       "      <td>9238</td>\n",
       "      <td>1</td>\n",
       "      <td>1</td>\n",
       "      <td>125.0</td>\n",
       "      <td>1</td>\n",
       "      <td>19</td>\n",
       "      <td>19</td>\n",
       "      <td>...</td>\n",
       "      <td>0</td>\n",
       "      <td>0</td>\n",
       "      <td>6</td>\n",
       "      <td>9</td>\n",
       "      <td>0</td>\n",
       "      <td>0.000000</td>\n",
       "      <td>0</td>\n",
       "      <td>11.1</td>\n",
       "      <td>0.6</td>\n",
       "      <td>2.02</td>\n",
       "    </tr>\n",
       "    <tr>\n",
       "      <th>2</th>\n",
       "      <td>1</td>\n",
       "      <td>17</td>\n",
       "      <td>2</td>\n",
       "      <td>9254</td>\n",
       "      <td>1</td>\n",
       "      <td>1</td>\n",
       "      <td>137.0</td>\n",
       "      <td>1</td>\n",
       "      <td>3</td>\n",
       "      <td>19</td>\n",
       "      <td>...</td>\n",
       "      <td>0</td>\n",
       "      <td>0</td>\n",
       "      <td>6</td>\n",
       "      <td>0</td>\n",
       "      <td>0</td>\n",
       "      <td>0.000000</td>\n",
       "      <td>0</td>\n",
       "      <td>16.2</td>\n",
       "      <td>0.3</td>\n",
       "      <td>-0.92</td>\n",
       "    </tr>\n",
       "    <tr>\n",
       "      <th>3</th>\n",
       "      <td>1</td>\n",
       "      <td>1</td>\n",
       "      <td>3</td>\n",
       "      <td>9500</td>\n",
       "      <td>1</td>\n",
       "      <td>1</td>\n",
       "      <td>131.0</td>\n",
       "      <td>1</td>\n",
       "      <td>19</td>\n",
       "      <td>3</td>\n",
       "      <td>...</td>\n",
       "      <td>0</td>\n",
       "      <td>0</td>\n",
       "      <td>8</td>\n",
       "      <td>11</td>\n",
       "      <td>7</td>\n",
       "      <td>12.820000</td>\n",
       "      <td>0</td>\n",
       "      <td>11.1</td>\n",
       "      <td>0.6</td>\n",
       "      <td>2.02</td>\n",
       "    </tr>\n",
       "    <tr>\n",
       "      <th>4</th>\n",
       "      <td>1</td>\n",
       "      <td>1</td>\n",
       "      <td>2</td>\n",
       "      <td>9500</td>\n",
       "      <td>1</td>\n",
       "      <td>1</td>\n",
       "      <td>132.0</td>\n",
       "      <td>1</td>\n",
       "      <td>19</td>\n",
       "      <td>37</td>\n",
       "      <td>...</td>\n",
       "      <td>0</td>\n",
       "      <td>0</td>\n",
       "      <td>7</td>\n",
       "      <td>12</td>\n",
       "      <td>6</td>\n",
       "      <td>12.933333</td>\n",
       "      <td>0</td>\n",
       "      <td>7.6</td>\n",
       "      <td>2.6</td>\n",
       "      <td>0.32</td>\n",
       "    </tr>\n",
       "  </tbody>\n",
       "</table>\n",
       "<p>5 rows × 36 columns</p>\n",
       "</div>"
      ],
      "text/plain": [
       "   Marital status  Application mode  Application order  Course  \\\n",
       "0               1                 1                  1    9238   \n",
       "1               1                17                  1    9238   \n",
       "2               1                17                  2    9254   \n",
       "3               1                 1                  3    9500   \n",
       "4               1                 1                  2    9500   \n",
       "\n",
       "   Daytime/evening attendance  Previous qualification  \\\n",
       "0                           1                       1   \n",
       "1                           1                       1   \n",
       "2                           1                       1   \n",
       "3                           1                       1   \n",
       "4                           1                       1   \n",
       "\n",
       "   Previous qualification (grade)  Nacionality  Mother's qualification  \\\n",
       "0                           126.0            1                       1   \n",
       "1                           125.0            1                      19   \n",
       "2                           137.0            1                       3   \n",
       "3                           131.0            1                      19   \n",
       "4                           132.0            1                      19   \n",
       "\n",
       "   Father's qualification  ...  \\\n",
       "0                      19  ...   \n",
       "1                      19  ...   \n",
       "2                      19  ...   \n",
       "3                       3  ...   \n",
       "4                      37  ...   \n",
       "\n",
       "   Curricular units 1st sem (without evaluations)  \\\n",
       "0                                               0   \n",
       "1                                               0   \n",
       "2                                               0   \n",
       "3                                               0   \n",
       "4                                               0   \n",
       "\n",
       "   Curricular units 2nd sem (credited)  Curricular units 2nd sem (enrolled)  \\\n",
       "0                                    0                                    6   \n",
       "1                                    0                                    6   \n",
       "2                                    0                                    6   \n",
       "3                                    0                                    8   \n",
       "4                                    0                                    7   \n",
       "\n",
       "   Curricular units 2nd sem (evaluations)  \\\n",
       "0                                       7   \n",
       "1                                       9   \n",
       "2                                       0   \n",
       "3                                      11   \n",
       "4                                      12   \n",
       "\n",
       "   Curricular units 2nd sem (approved)  Curricular units 2nd sem (grade)  \\\n",
       "0                                    6                         12.428571   \n",
       "1                                    0                          0.000000   \n",
       "2                                    0                          0.000000   \n",
       "3                                    7                         12.820000   \n",
       "4                                    6                         12.933333   \n",
       "\n",
       "   Curricular units 2nd sem (without evaluations)  Unemployment rate  \\\n",
       "0                                               0               11.1   \n",
       "1                                               0               11.1   \n",
       "2                                               0               16.2   \n",
       "3                                               0               11.1   \n",
       "4                                               0                7.6   \n",
       "\n",
       "   Inflation rate   GDP  \n",
       "0             0.6  2.02  \n",
       "1             0.6  2.02  \n",
       "2             0.3 -0.92  \n",
       "3             0.6  2.02  \n",
       "4             2.6  0.32  \n",
       "\n",
       "[5 rows x 36 columns]"
      ]
     },
     "execution_count": 24,
     "metadata": {},
     "output_type": "execute_result"
    }
   ],
   "source": [
    "x_train.head(5)"
   ]
  },
  {
   "cell_type": "markdown",
   "id": "df8def42",
   "metadata": {},
   "source": [
    "## 特徴量エンジニアリング"
   ]
  },
  {
   "cell_type": "code",
   "execution_count": 5,
   "id": "abae9477",
   "metadata": {},
   "outputs": [],
   "source": [
    "def cleaning(dataset):\n",
    "    features = dataset.columns.tolist()\n",
    "    dataset['total'] = dataset[features].sum(axis=1)\n",
    "    dataset['mean_features'] = 0.1*dataset[features].mean(axis=1)\n",
    "    dataset['std_features'] = dataset[features].std(axis=1)\n",
    "    dataset['max_features'] = dataset[features].max(axis=1)\n",
    "    dataset['min_features'] = dataset[features].min(axis=1)\n",
    "    dataset['range_features'] = dataset['max_features'] - dataset['min_features']\n",
    "    dataset['median_features'] = 0.1*dataset[features].median(axis=1)\n",
    "    dataset['skewness_features'] = dataset[features].skew(axis=1)\n",
    "    dataset['ptp'] = dataset[features].values.ptp(axis=1)\n",
    "    dataset['q25'] = dataset[features].quantile(0.25, axis=1)\n",
    "    dataset['q75'] = dataset[features].quantile(0.75, axis=1)\n",
    "\n",
    "cleaning(x_train)\n",
    "cleaning(x_test)"
   ]
  },
  {
   "cell_type": "code",
   "execution_count": 6,
   "id": "244c5e36",
   "metadata": {},
   "outputs": [],
   "source": [
    "def add_features(df):\n",
    "    df['ClimateImpact'] = df['MonsoonIntensity'] + df['ClimateChange']\n",
    "    df['AnthropogenicPressure'] = df['Deforestation'] + df['Urbanization'] + df['AgriculturalPractices'] + df['Encroachments']\n",
    "    df['InfrastructureQuality'] = df['DamsQuality'] + df['DrainageSystems'] + df['DeterioratingInfrastructure']\n",
    "    df['CoastalVulnerabilityTotal'] = df['CoastalVulnerability'] + df['Landslides']\n",
    "    df['PreventiveMeasuresEfficiency'] = df['RiverManagement'] + df['IneffectiveDisasterPreparedness'] + df['InadequatePlanning']\n",
    "    df['EcosystemImpact'] = df['WetlandLoss'] + df['Watersheds']\n",
    "    df['SocioPoliticalContext'] = df['PopulationScore'] * df['PoliticalFactors']\n",
    "\n",
    "add_features(x_train)\n",
    "add_features(x_test)"
   ]
  },
  {
   "cell_type": "markdown",
   "id": "8f090a9c",
   "metadata": {},
   "source": [
    "## trainとtestの分布を確認"
   ]
  },
  {
   "cell_type": "code",
   "execution_count": null,
   "id": "20d8f993",
   "metadata": {
    "execution": {
     "iopub.execute_input": "2024-05-08T10:54:30.516159Z",
     "iopub.status.busy": "2024-05-08T10:54:30.515904Z",
     "iopub.status.idle": "2024-05-08T10:54:30.520387Z",
     "shell.execute_reply": "2024-05-08T10:54:30.519599Z"
    },
    "papermill": {
     "duration": 0.013126,
     "end_time": "2024-05-08T10:54:30.522206",
     "exception": false,
     "start_time": "2024-05-08T10:54:30.509080",
     "status": "completed"
    },
    "tags": []
   },
   "outputs": [],
   "source": [
    "def plot_distribution_pairs(train, test, feature, hue=\"set\", palette=None):\n",
    "    data_df = train.copy()\n",
    "    data_df['set'] = 'train'\n",
    "    data_df = pd.concat([data_df, test.copy()]).fillna('test')\n",
    "    data_df.replace([np.inf, -np.inf], np.nan, inplace=True)\n",
    "\n",
    "    f, axes = plt.subplots(1, 2, figsize=(14, 6))\n",
    "    for i, s in enumerate(data_df[hue].unique()):\n",
    "        selection = data_df.loc[data_df[hue]==s, feature]\n",
    "        # Filter 'selection' to include only the central 95% of the data\n",
    "        # q_025, q_975 = np.percentile(selection, [2.5, 97.5])\n",
    "        # selection_filtered = selection[(selection >= q_025) & (selection <= q_975)]\n",
    "        with warnings.catch_warnings():\n",
    "            warnings.simplefilter(\"ignore\", category=FutureWarning)\n",
    "            sns.histplot(selection, color=palette[i], ax=axes[0], label=s)\n",
    "            sns.boxplot(x=hue, y=feature, data=data_df, palette=palette, ax=axes[1])\n",
    "    axes[0].set_title(f\"Paired train/test distributions of {feature}\")\n",
    "    axes[1].set_title(f\"Paired train/test boxplots of {feature}\")\n",
    "    axes[0].legend()\n",
    "    axes[1].legend()\n",
    "    plt.show()\n",
    "color_list = [\"#A5D7E8\", \"#576CBC\", \"#19376D\", \"#0B2447\"]\n",
    "for feature in x_train.columns:\n",
    "  plot_distribution_pairs(x_train, x_test, feature, palette=color_list)"
   ]
  },
  {
   "cell_type": "markdown",
   "id": "91c02e09",
   "metadata": {},
   "source": [
    "## 標準化"
   ]
  },
  {
   "cell_type": "code",
   "execution_count": 8,
   "id": "56e820e2",
   "metadata": {},
   "outputs": [],
   "source": [
    "# s = StandardScaler()\n",
    "# s.fit(pd.concat([x_train, x_test]))\n",
    "# x_train = s.transform(x_train)\n",
    "# x_test = s.transform(x_test)"
   ]
  },
  {
   "cell_type": "markdown",
   "id": "174d6d1f",
   "metadata": {},
   "source": [
    "## optunaによるチューニング"
   ]
  },
  {
   "cell_type": "code",
   "execution_count": 5,
   "id": "a50654d8",
   "metadata": {
    "execution": {
     "iopub.execute_input": "2024-05-08T10:54:30.572286Z",
     "iopub.status.busy": "2024-05-08T10:54:30.572033Z",
     "iopub.status.idle": "2024-05-08T11:00:19.671454Z",
     "shell.execute_reply": "2024-05-08T11:00:19.670215Z"
    },
    "papermill": {
     "duration": 349.11344,
     "end_time": "2024-05-08T11:00:19.678813",
     "exception": false,
     "start_time": "2024-05-08T10:54:30.565373",
     "status": "completed"
    },
    "tags": []
   },
   "outputs": [
    {
     "name": "stderr",
     "output_type": "stream",
     "text": [
      "/home/ru/kaggle/venv/lib/python3.9/site-packages/optuna/samplers/_tpe/sampler.py:319: ExperimentalWarning: ``multivariate`` option is an experimental feature. The interface can change in the future.\n",
      "  warnings.warn(\n",
      "[I 2024-06-17 14:06:01,210] A new study created in memory with name: no-name-5576c4ad-4ab8-469c-8dbb-f529365f458d\n",
      "[I 2024-06-17 14:06:15,296] Trial 0 finished with value: 0.8200292768768216 and parameters: {'num_leaves': 320, 'learning_rate': 0.269388301928541, 'n_estimators': 843, 'subsample_for_bin': 172567, 'min_child_samples': 223, 'reg_alpha': 0.0028770084050677926, 'reg_lambda': 2.3761404778025532e-05, 'colsample_bytree': 0.9350638004692479, 'subsample': 0.9727470703757719, 'max_depth': 6}. Best is trial 0 with value: 0.8200292768768216.\n",
      "[I 2024-06-17 14:07:37,218] Trial 1 finished with value: 0.8233356797328909 and parameters: {'num_leaves': 417, 'learning_rate': 0.11423254155608371, 'n_estimators': 811, 'subsample_for_bin': 279167, 'min_child_samples': 54, 'reg_alpha': 7.435205853060191e-09, 'reg_lambda': 1.5928833561691813e-09, 'colsample_bytree': 0.8995719073287628, 'subsample': 0.8336175632123879, 'max_depth': 14}. Best is trial 1 with value: 0.8233356797328909.\n",
      "[I 2024-06-17 14:07:57,527] Trial 2 finished with value: 0.8173371232690521 and parameters: {'num_leaves': 492, 'learning_rate': 0.39656750817710085, 'n_estimators': 715, 'subsample_for_bin': 238548, 'min_child_samples': 76, 'reg_alpha': 0.0025073225886269243, 'reg_lambda': 2.7135190452611042e-08, 'colsample_bytree': 0.9668013502297503, 'subsample': 0.6413862413125537, 'max_depth': 7}. Best is trial 1 with value: 0.8233356797328909.\n",
      "[I 2024-06-17 14:08:41,653] Trial 3 finished with value: 0.8223555352808962 and parameters: {'num_leaves': 206, 'learning_rate': 0.35356346291488117, 'n_estimators': 710, 'subsample_for_bin': 179162, 'min_child_samples': 29, 'reg_alpha': 0.0015009111045464082, 'reg_lambda': 0.0013211655088884039, 'colsample_bytree': 0.7701603981248542, 'subsample': 0.9578110588859681, 'max_depth': 11}. Best is trial 1 with value: 0.8233356797328909.\n",
      "[I 2024-06-17 14:09:02,508] Trial 4 finished with value: 0.8327975325331938 and parameters: {'num_leaves': 244, 'learning_rate': 0.07482796037620795, 'n_estimators': 928, 'subsample_for_bin': 36863, 'min_child_samples': 340, 'reg_alpha': 0.005086027407695681, 'reg_lambda': 1.270064013533415e-07, 'colsample_bytree': 0.477355778592912, 'subsample': 0.4865712631931379, 'max_depth': 6}. Best is trial 4 with value: 0.8327975325331938.\n",
      "[I 2024-06-17 14:09:22,733] Trial 5 finished with value: 0.8324315621791272 and parameters: {'num_leaves': 328, 'learning_rate': 0.07537078298264387, 'n_estimators': 1190, 'subsample_for_bin': 48572, 'min_child_samples': 120, 'reg_alpha': 4.1029401210349914e-08, 'reg_lambda': 0.003396903853102663, 'colsample_bytree': 0.5519749615238693, 'subsample': 0.5997330796422298, 'max_depth': 4}. Best is trial 4 with value: 0.8327975325331938.\n",
      "[I 2024-06-17 14:09:35,203] Trial 6 finished with value: 0.8260539583425777 and parameters: {'num_leaves': 163, 'learning_rate': 0.016624564693643644, 'n_estimators': 891, 'subsample_for_bin': 58691, 'min_child_samples': 114, 'reg_alpha': 4.866891972890967e-06, 'reg_lambda': 0.16215572955007182, 'colsample_bytree': 0.4582607654758368, 'subsample': 0.8784586806241029, 'max_depth': 2}. Best is trial 4 with value: 0.8327975325331938.\n",
      "[I 2024-06-17 14:09:51,346] Trial 7 finished with value: 0.8319349147226035 and parameters: {'num_leaves': 491, 'learning_rate': 0.08655704137361815, 'n_estimators': 1180, 'subsample_for_bin': 189357, 'min_child_samples': 375, 'reg_alpha': 2.465346246449577e-09, 'reg_lambda': 6.730845560437355e-07, 'colsample_bytree': 0.47211793672790137, 'subsample': 0.4721051481416087, 'max_depth': 2}. Best is trial 4 with value: 0.8327975325331938.\n",
      "[I 2024-06-17 14:10:08,825] Trial 8 finished with value: 0.8315559527480424 and parameters: {'num_leaves': 227, 'learning_rate': 0.06737922153052582, 'n_estimators': 357, 'subsample_for_bin': 213892, 'min_child_samples': 292, 'reg_alpha': 4.5070762908503614e-07, 'reg_lambda': 0.00017079711660762664, 'colsample_bytree': 0.45636430645506504, 'subsample': 0.6819598716671345, 'max_depth': 14}. Best is trial 4 with value: 0.8327975325331938.\n",
      "[I 2024-06-17 14:10:13,815] Trial 9 finished with value: 0.8276744949784011 and parameters: {'num_leaves': 227, 'learning_rate': 0.21618261203953767, 'n_estimators': 418, 'subsample_for_bin': 220572, 'min_child_samples': 159, 'reg_alpha': 6.790685543933639e-08, 'reg_lambda': 0.0007330428264462492, 'colsample_bytree': 0.41206452771249613, 'subsample': 0.8717050219130223, 'max_depth': 1}. Best is trial 4 with value: 0.8327975325331938.\n",
      "[I 2024-06-17 14:11:17,127] Trial 10 finished with value: 0.8279489731709416 and parameters: {'num_leaves': 371, 'learning_rate': 0.034674958213764526, 'n_estimators': 962, 'subsample_for_bin': 289413, 'min_child_samples': 139, 'reg_alpha': 0.0005775283981743605, 'reg_lambda': 0.0008325672295059356, 'colsample_bytree': 0.743351143474524, 'subsample': 0.41731122448046376, 'max_depth': 15}. Best is trial 4 with value: 0.8327975325331938.\n",
      "[I 2024-06-17 14:11:50,557] Trial 11 finished with value: 0.8117567034729276 and parameters: {'num_leaves': 279, 'learning_rate': 0.4929664291135949, 'n_estimators': 930, 'subsample_for_bin': 103282, 'min_child_samples': 411, 'reg_alpha': 9.226933879829092e-06, 'reg_lambda': 0.6471902576856449, 'colsample_bytree': 0.7487637235815152, 'subsample': 0.9113015213911396, 'max_depth': 11}. Best is trial 4 with value: 0.8327975325331938.\n",
      "[I 2024-06-17 14:12:12,261] Trial 12 finished with value: 0.8301706837443836 and parameters: {'num_leaves': 390, 'learning_rate': 0.10061176409589712, 'n_estimators': 1161, 'subsample_for_bin': 200317, 'min_child_samples': 223, 'reg_alpha': 0.001158596310782936, 'reg_lambda': 1.5557219635720717e-09, 'colsample_bytree': 0.5809448900047296, 'subsample': 0.7451301531195138, 'max_depth': 5}. Best is trial 4 with value: 0.8327975325331938.\n",
      "[I 2024-06-17 14:12:22,109] Trial 13 finished with value: 0.832222485305455 and parameters: {'num_leaves': 347, 'learning_rate': 0.07203397849770149, 'n_estimators': 422, 'subsample_for_bin': 103519, 'min_child_samples': 294, 'reg_alpha': 0.0008104525862492879, 'reg_lambda': 0.0005536719073590981, 'colsample_bytree': 0.7919204919142802, 'subsample': 0.7390774525012667, 'max_depth': 7}. Best is trial 4 with value: 0.8327975325331938.\n",
      "[I 2024-06-17 14:12:50,636] Trial 14 finished with value: 0.828432512011506 and parameters: {'num_leaves': 459, 'learning_rate': 0.05434051375704854, 'n_estimators': 692, 'subsample_for_bin': 269739, 'min_child_samples': 407, 'reg_alpha': 0.01093668831711293, 'reg_lambda': 1.0052379437428308e-08, 'colsample_bytree': 0.9516895682468042, 'subsample': 0.7856809746618336, 'max_depth': 15}. Best is trial 4 with value: 0.8327975325331938.\n",
      "[I 2024-06-17 14:12:54,239] Trial 15 finished with value: 0.8320917561101266 and parameters: {'num_leaves': 159, 'learning_rate': 0.5448188369110731, 'n_estimators': 446, 'subsample_for_bin': 192357, 'min_child_samples': 79, 'reg_alpha': 0.3020524016657344, 'reg_lambda': 0.11835581143450927, 'colsample_bytree': 0.7414604431687559, 'subsample': 0.5553874729194997, 'max_depth': 2}. Best is trial 4 with value: 0.8327975325331938.\n",
      "[I 2024-06-17 14:13:06,813] Trial 16 finished with value: 0.8327974992279152 and parameters: {'num_leaves': 379, 'learning_rate': 0.08073937167660734, 'n_estimators': 950, 'subsample_for_bin': 262587, 'min_child_samples': 489, 'reg_alpha': 0.36143767833126167, 'reg_lambda': 1.3096065599990615e-09, 'colsample_bytree': 0.6159868386870183, 'subsample': 0.7974929218180435, 'max_depth': 3}. Best is trial 4 with value: 0.8327975325331938.\n",
      "[I 2024-06-17 14:13:09,893] Trial 17 finished with value: 0.8133510621599809 and parameters: {'num_leaves': 308, 'learning_rate': 0.012843280764272384, 'n_estimators': 480, 'subsample_for_bin': 25186, 'min_child_samples': 401, 'reg_alpha': 1.7347898824062586e-07, 'reg_lambda': 2.841298139605767e-06, 'colsample_bytree': 0.9568487760793545, 'subsample': 0.7783108014426496, 'max_depth': 1}. Best is trial 4 with value: 0.8327975325331938.\n",
      "[I 2024-06-17 14:13:21,767] Trial 18 finished with value: 0.8287200749085241 and parameters: {'num_leaves': 166, 'learning_rate': 0.17496726491829132, 'n_estimators': 820, 'subsample_for_bin': 86610, 'min_child_samples': 469, 'reg_alpha': 0.0013793026152456194, 'reg_lambda': 0.00022715799683187434, 'colsample_bytree': 0.7539459858127426, 'subsample': 0.7975915221375772, 'max_depth': 5}. Best is trial 4 with value: 0.8327975325331938.\n",
      "[I 2024-06-17 14:13:35,609] Trial 19 finished with value: 0.8332156845725749 and parameters: {'num_leaves': 259, 'learning_rate': 0.02628376030296236, 'n_estimators': 467, 'subsample_for_bin': 284425, 'min_child_samples': 375, 'reg_alpha': 8.027643657785602e-05, 'reg_lambda': 1.8799499177898148e-07, 'colsample_bytree': 0.5526138890622357, 'subsample': 0.2935218702429067, 'max_depth': 7}. Best is trial 19 with value: 0.8332156845725749.\n",
      "[I 2024-06-17 14:14:22,541] Trial 20 finished with value: 0.823949886282116 and parameters: {'num_leaves': 225, 'learning_rate': 0.24699432654084996, 'n_estimators': 640, 'subsample_for_bin': 70289, 'min_child_samples': 31, 'reg_alpha': 4.704314136881364e-09, 'reg_lambda': 0.006221967452909479, 'colsample_bytree': 0.6722181067336273, 'subsample': 0.6524344083315416, 'max_depth': 14}. Best is trial 19 with value: 0.8332156845725749.\n",
      "[I 2024-06-17 14:16:08,377] Trial 21 finished with value: 0.8288768531014166 and parameters: {'num_leaves': 497, 'learning_rate': 0.027151508837924436, 'n_estimators': 897, 'subsample_for_bin': 93730, 'min_child_samples': 29, 'reg_alpha': 0.03835186945091964, 'reg_lambda': 1.5855192098504768e-06, 'colsample_bytree': 0.6300783365031388, 'subsample': 0.6912378351652043, 'max_depth': 13}. Best is trial 19 with value: 0.8332156845725749.\n",
      "[I 2024-06-17 14:16:25,073] Trial 22 finished with value: 0.8177291861737389 and parameters: {'num_leaves': 352, 'learning_rate': 0.5562900741178348, 'n_estimators': 546, 'subsample_for_bin': 243453, 'min_child_samples': 109, 'reg_alpha': 3.3722252019570647, 'reg_lambda': 0.007496918056006279, 'colsample_bytree': 0.529304606268135, 'subsample': 0.9605279428666932, 'max_depth': 11}. Best is trial 19 with value: 0.8332156845725749.\n",
      "[I 2024-06-17 14:16:55,052] Trial 23 finished with value: 0.8326929445654307 and parameters: {'num_leaves': 201, 'learning_rate': 0.026706929177169086, 'n_estimators': 766, 'subsample_for_bin': 27185, 'min_child_samples': 119, 'reg_alpha': 1.7654470132348484e-05, 'reg_lambda': 5.516959595638209e-06, 'colsample_bytree': 0.6781452546188864, 'subsample': 0.4582215297210489, 'max_depth': 9}. Best is trial 19 with value: 0.8332156845725749.\n",
      "[I 2024-06-17 14:17:20,795] Trial 24 finished with value: 0.8337122987238204 and parameters: {'num_leaves': 446, 'learning_rate': 0.01718160426458189, 'n_estimators': 766, 'subsample_for_bin': 56979, 'min_child_samples': 364, 'reg_alpha': 9.132654500629781e-06, 'reg_lambda': 0.0004510379852618006, 'colsample_bytree': 0.5099679017284472, 'subsample': 0.3586358195075329, 'max_depth': 8}. Best is trial 24 with value: 0.8337122987238204.\n",
      "[I 2024-06-17 14:17:36,800] Trial 25 finished with value: 0.8068167048960022 and parameters: {'num_leaves': 242, 'learning_rate': 0.7600880252137217, 'n_estimators': 989, 'subsample_for_bin': 229626, 'min_child_samples': 454, 'reg_alpha': 6.826912780609931e-09, 'reg_lambda': 0.000332601879637004, 'colsample_bytree': 0.7506856413734613, 'subsample': 0.9714522839104218, 'max_depth': 5}. Best is trial 24 with value: 0.8337122987238204.\n",
      "[I 2024-06-17 14:17:47,743] Trial 26 finished with value: 0.8304712143504144 and parameters: {'num_leaves': 196, 'learning_rate': 0.01587040042438617, 'n_estimators': 314, 'subsample_for_bin': 280269, 'min_child_samples': 342, 'reg_alpha': 0.07104428048823831, 'reg_lambda': 6.566002708470969e-07, 'colsample_bytree': 0.751846099711796, 'subsample': 0.2979664495907358, 'max_depth': 8}. Best is trial 24 with value: 0.8337122987238204.\n",
      "[I 2024-06-17 14:18:02,932] Trial 27 finished with value: 0.8175723037951039 and parameters: {'num_leaves': 491, 'learning_rate': 0.5662529670393953, 'n_estimators': 604, 'subsample_for_bin': 289240, 'min_child_samples': 131, 'reg_alpha': 3.1130652539087995, 'reg_lambda': 2.5928479349620495, 'colsample_bytree': 0.879521552411435, 'subsample': 0.7228359526500934, 'max_depth': 14}. Best is trial 24 with value: 0.8337122987238204.\n",
      "[I 2024-06-17 14:18:40,768] Trial 28 finished with value: 0.8146972145412281 and parameters: {'num_leaves': 217, 'learning_rate': 0.4987548255810925, 'n_estimators': 856, 'subsample_for_bin': 23706, 'min_child_samples': 187, 'reg_alpha': 3.029762664275365e-08, 'reg_lambda': 6.581030418565184, 'colsample_bytree': 0.6870221842239929, 'subsample': 0.623043524123997, 'max_depth': 10}. Best is trial 24 with value: 0.8337122987238204.\n",
      "[I 2024-06-17 14:19:34,774] Trial 29 finished with value: 0.8314644827900354 and parameters: {'num_leaves': 247, 'learning_rate': 0.01878453908916086, 'n_estimators': 1040, 'subsample_for_bin': 73157, 'min_child_samples': 265, 'reg_alpha': 1.7505329496544223e-07, 'reg_lambda': 9.515789906508596e-09, 'colsample_bytree': 0.91731491045301, 'subsample': 0.9796896167673477, 'max_depth': 15}. Best is trial 24 with value: 0.8337122987238204.\n",
      "[I 2024-06-17 14:20:00,447] Trial 30 finished with value: 0.8332810303826461 and parameters: {'num_leaves': 288, 'learning_rate': 0.035342468187526684, 'n_estimators': 945, 'subsample_for_bin': 70019, 'min_child_samples': 381, 'reg_alpha': 1.3656501902543616, 'reg_lambda': 4.299257807350144e-07, 'colsample_bytree': 0.48511158359197665, 'subsample': 0.5037868454842583, 'max_depth': 7}. Best is trial 24 with value: 0.8337122987238204.\n",
      "[I 2024-06-17 14:20:18,487] Trial 31 finished with value: 0.8338429971758149 and parameters: {'num_leaves': 384, 'learning_rate': 0.024894804847823433, 'n_estimators': 724, 'subsample_for_bin': 66594, 'min_child_samples': 349, 'reg_alpha': 9.908312111542791e-07, 'reg_lambda': 0.0001213887117005106, 'colsample_bytree': 0.4579423141436087, 'subsample': 0.425243719082655, 'max_depth': 6}. Best is trial 31 with value: 0.8338429971758149.\n",
      "[I 2024-06-17 14:20:38,644] Trial 32 finished with value: 0.8332287470735336 and parameters: {'num_leaves': 430, 'learning_rate': 0.030050995415371654, 'n_estimators': 610, 'subsample_for_bin': 38844, 'min_child_samples': 270, 'reg_alpha': 4.4226815961328795e-07, 'reg_lambda': 0.05075327674211654, 'colsample_bytree': 0.510563738077777, 'subsample': 0.39729190602485187, 'max_depth': 8}. Best is trial 31 with value: 0.8338429971758149.\n",
      "[I 2024-06-17 14:21:04,284] Trial 33 finished with value: 0.833307163070397 and parameters: {'num_leaves': 409, 'learning_rate': 0.018499050180344218, 'n_estimators': 831, 'subsample_for_bin': 36301, 'min_child_samples': 442, 'reg_alpha': 2.7930740072086326e-08, 'reg_lambda': 2.0235440525855982e-05, 'colsample_bytree': 0.4626416113801258, 'subsample': 0.3922380575937561, 'max_depth': 8}. Best is trial 31 with value: 0.8338429971758149.\n",
      "[I 2024-06-17 14:21:43,289] Trial 34 finished with value: 0.8328236455793698 and parameters: {'num_leaves': 425, 'learning_rate': 0.022558526030606568, 'n_estimators': 922, 'subsample_for_bin': 106494, 'min_child_samples': 380, 'reg_alpha': 7.211554511232396e-09, 'reg_lambda': 7.077564493324303e-06, 'colsample_bytree': 0.6021230325804698, 'subsample': 0.5186972798425937, 'max_depth': 13}. Best is trial 31 with value: 0.8338429971758149.\n",
      "[I 2024-06-17 14:22:00,822] Trial 35 finished with value: 0.8327974966659708 and parameters: {'num_leaves': 375, 'learning_rate': 0.019033780079250006, 'n_estimators': 718, 'subsample_for_bin': 104424, 'min_child_samples': 499, 'reg_alpha': 7.275279289746742e-08, 'reg_lambda': 0.0017715484123910598, 'colsample_bytree': 0.4160335358445294, 'subsample': 0.46926510823145035, 'max_depth': 6}. Best is trial 31 with value: 0.8338429971758149.\n",
      "[I 2024-06-17 14:22:37,717] Trial 36 finished with value: 0.8332026126778199 and parameters: {'num_leaves': 462, 'learning_rate': 0.011524908462446908, 'n_estimators': 900, 'subsample_for_bin': 41043, 'min_child_samples': 399, 'reg_alpha': 0.0006166026255127604, 'reg_lambda': 0.0024200740716569503, 'colsample_bytree': 0.5629983189467265, 'subsample': 0.4263426655806441, 'max_depth': 10}. Best is trial 31 with value: 0.8338429971758149.\n",
      "[I 2024-06-17 14:23:03,567] Trial 37 finished with value: 0.8327582886675392 and parameters: {'num_leaves': 396, 'learning_rate': 0.034519512324008544, 'n_estimators': 923, 'subsample_for_bin': 40820, 'min_child_samples': 428, 'reg_alpha': 2.4684548067534927e-08, 'reg_lambda': 7.754300011266015e-08, 'colsample_bytree': 0.46723952983929734, 'subsample': 0.31627924874597113, 'max_depth': 8}. Best is trial 31 with value: 0.8338429971758149.\n",
      "[I 2024-06-17 14:23:49,459] Trial 38 finished with value: 0.8295041554568787 and parameters: {'num_leaves': 342, 'learning_rate': 0.05266906724959702, 'n_estimators': 999, 'subsample_for_bin': 115029, 'min_child_samples': 318, 'reg_alpha': 4.992377069155537, 'reg_lambda': 6.486689679086646e-09, 'colsample_bytree': 0.5236195234345556, 'subsample': 0.3482144582246752, 'max_depth': 12}. Best is trial 31 with value: 0.8338429971758149.\n",
      "[I 2024-06-17 14:24:17,614] Trial 39 finished with value: 0.8326798555910457 and parameters: {'num_leaves': 233, 'learning_rate': 0.01201299239940955, 'n_estimators': 985, 'subsample_for_bin': 121908, 'min_child_samples': 383, 'reg_alpha': 8.740858290034573, 'reg_lambda': 5.436142728783441e-09, 'colsample_bytree': 0.52197336683971, 'subsample': 0.5844455231601967, 'max_depth': 7}. Best is trial 31 with value: 0.8338429971758149.\n",
      "[I 2024-06-17 14:24:26,195] Trial 40 finished with value: 0.8277528947496158 and parameters: {'num_leaves': 451, 'learning_rate': 0.03406961636242647, 'n_estimators': 665, 'subsample_for_bin': 67633, 'min_child_samples': 232, 'reg_alpha': 2.5580107709031902e-05, 'reg_lambda': 7.239737203695707e-07, 'colsample_bytree': 0.5748265784225052, 'subsample': 0.29293371173062355, 'max_depth': 2}. Best is trial 31 with value: 0.8338429971758149.\n",
      "[I 2024-06-17 14:24:41,397] Trial 41 finished with value: 0.8320656106126535 and parameters: {'num_leaves': 451, 'learning_rate': 0.015363340635335145, 'n_estimators': 389, 'subsample_for_bin': 82596, 'min_child_samples': 255, 'reg_alpha': 5.285828744091509e-09, 'reg_lambda': 0.0006679305358288646, 'colsample_bytree': 0.6163369820173671, 'subsample': 0.5382639881172437, 'max_depth': 8}. Best is trial 31 with value: 0.8338429971758149.\n",
      "[I 2024-06-17 14:25:06,283] Trial 42 finished with value: 0.8302490929093951 and parameters: {'num_leaves': 405, 'learning_rate': 0.07966888985676225, 'n_estimators': 691, 'subsample_for_bin': 147631, 'min_child_samples': 334, 'reg_alpha': 0.00011987136012580367, 'reg_lambda': 0.0006977471862434304, 'colsample_bytree': 0.4410639916191949, 'subsample': 0.3410587116618918, 'max_depth': 11}. Best is trial 31 with value: 0.8338429971758149.\n",
      "[I 2024-06-17 14:25:41,475] Trial 43 finished with value: 0.832902014607251 and parameters: {'num_leaves': 433, 'learning_rate': 0.015529704707589423, 'n_estimators': 507, 'subsample_for_bin': 52340, 'min_child_samples': 163, 'reg_alpha': 0.0006263735127842487, 'reg_lambda': 0.0011535896181704482, 'colsample_bytree': 0.48525108295467406, 'subsample': 0.43612748966583587, 'max_depth': 12}. Best is trial 31 with value: 0.8338429971758149.\n",
      "[I 2024-06-17 14:26:09,556] Trial 44 finished with value: 0.8334901303138189 and parameters: {'num_leaves': 419, 'learning_rate': 0.02414848308072608, 'n_estimators': 677, 'subsample_for_bin': 29873, 'min_child_samples': 343, 'reg_alpha': 5.1290380779443444e-08, 'reg_lambda': 0.054340442679059534, 'colsample_bytree': 0.4511656073705427, 'subsample': 0.25790536901239985, 'max_depth': 11}. Best is trial 31 with value: 0.8338429971758149.\n",
      "[I 2024-06-17 14:26:23,490] Trial 45 finished with value: 0.8303405210223087 and parameters: {'num_leaves': 307, 'learning_rate': 0.020056335332267927, 'n_estimators': 914, 'subsample_for_bin': 51653, 'min_child_samples': 434, 'reg_alpha': 0.04812191064210979, 'reg_lambda': 3.7476526966827095e-06, 'colsample_bytree': 0.40801672925321797, 'subsample': 0.43550510068279746, 'max_depth': 3}. Best is trial 31 with value: 0.8338429971758149.\n",
      "[I 2024-06-17 14:26:50,533] Trial 46 finished with value: 0.8324053987480425 and parameters: {'num_leaves': 347, 'learning_rate': 0.012905369271435074, 'n_estimators': 581, 'subsample_for_bin': 48495, 'min_child_samples': 439, 'reg_alpha': 1.2802615363645677e-08, 'reg_lambda': 0.042351861716128945, 'colsample_bytree': 0.6178423432282528, 'subsample': 0.4614855403695787, 'max_depth': 13}. Best is trial 31 with value: 0.8338429971758149.\n",
      "[I 2024-06-17 14:27:11,041] Trial 47 finished with value: 0.8331895288273239 and parameters: {'num_leaves': 304, 'learning_rate': 0.018202206420778317, 'n_estimators': 711, 'subsample_for_bin': 43356, 'min_child_samples': 423, 'reg_alpha': 2.629848923080442e-05, 'reg_lambda': 0.0012361040454248518, 'colsample_bytree': 0.5266746928175909, 'subsample': 0.2693042707499564, 'max_depth': 7}. Best is trial 31 with value: 0.8338429971758149.\n",
      "[I 2024-06-17 14:27:34,364] Trial 48 finished with value: 0.8320786825074084 and parameters: {'num_leaves': 490, 'learning_rate': 0.01285990174228708, 'n_estimators': 510, 'subsample_for_bin': 41042, 'min_child_samples': 407, 'reg_alpha': 3.711614378559284e-07, 'reg_lambda': 1.9372772396884652e-05, 'colsample_bytree': 0.4343152354486405, 'subsample': 0.2774130672482368, 'max_depth': 11}. Best is trial 31 with value: 0.8338429971758149.\n",
      "[I 2024-06-17 14:27:51,736] Trial 49 finished with value: 0.8334901379996522 and parameters: {'num_leaves': 459, 'learning_rate': 0.041673306904011345, 'n_estimators': 722, 'subsample_for_bin': 105107, 'min_child_samples': 373, 'reg_alpha': 2.1030002048040103e-05, 'reg_lambda': 0.00031764263161269127, 'colsample_bytree': 0.5044052512301238, 'subsample': 0.5361949553305875, 'max_depth': 6}. Best is trial 31 with value: 0.8338429971758149.\n",
      "[I 2024-06-17 14:28:33,351] Trial 50 finished with value: 0.8324184988241872 and parameters: {'num_leaves': 380, 'learning_rate': 0.025308539324893926, 'n_estimators': 934, 'subsample_for_bin': 68097, 'min_child_samples': 360, 'reg_alpha': 2.789519406039273e-09, 'reg_lambda': 0.7005773017390126, 'colsample_bytree': 0.47632607548576406, 'subsample': 0.29244379545081667, 'max_depth': 14}. Best is trial 31 with value: 0.8338429971758149.\n",
      "[I 2024-06-17 14:28:42,100] Trial 51 finished with value: 0.8324315468074601 and parameters: {'num_leaves': 384, 'learning_rate': 0.1666272511156822, 'n_estimators': 756, 'subsample_for_bin': 90990, 'min_child_samples': 453, 'reg_alpha': 7.107322463362087e-06, 'reg_lambda': 1.6047332686522095e-06, 'colsample_bytree': 0.59739049536557, 'subsample': 0.6783364893744308, 'max_depth': 2}. Best is trial 31 with value: 0.8338429971758149.\n",
      "[I 2024-06-17 14:29:02,512] Trial 52 finished with value: 0.8322224451683248 and parameters: {'num_leaves': 448, 'learning_rate': 0.013154476208713696, 'n_estimators': 908, 'subsample_for_bin': 110440, 'min_child_samples': 251, 'reg_alpha': 0.00025901852904555863, 'reg_lambda': 0.00652067138189891, 'colsample_bytree': 0.4700862266315875, 'subsample': 0.5315211054450493, 'max_depth': 5}. Best is trial 31 with value: 0.8338429971758149.\n",
      "[I 2024-06-17 14:29:10,837] Trial 53 finished with value: 0.8326798769405833 and parameters: {'num_leaves': 450, 'learning_rate': 0.0921690170183694, 'n_estimators': 481, 'subsample_for_bin': 93465, 'min_child_samples': 403, 'reg_alpha': 1.0765857159103772e-05, 'reg_lambda': 0.21799903066308543, 'colsample_bytree': 0.6513470416716095, 'subsample': 0.6520673694144643, 'max_depth': 5}. Best is trial 31 with value: 0.8338429971758149.\n",
      "[I 2024-06-17 14:29:38,101] Trial 54 finished with value: 0.8330457909318711 and parameters: {'num_leaves': 288, 'learning_rate': 0.026928550653057798, 'n_estimators': 881, 'subsample_for_bin': 61338, 'min_child_samples': 332, 'reg_alpha': 1.7126631519132143, 'reg_lambda': 0.015864363350513645, 'colsample_bytree': 0.44936528764890526, 'subsample': 0.5373075369724846, 'max_depth': 8}. Best is trial 31 with value: 0.8338429971758149.\n",
      "[I 2024-06-17 14:29:53,557] Trial 55 finished with value: 0.833437862376373 and parameters: {'num_leaves': 395, 'learning_rate': 0.041805499422611865, 'n_estimators': 645, 'subsample_for_bin': 95366, 'min_child_samples': 381, 'reg_alpha': 7.215969500856062e-06, 'reg_lambda': 4.000289366287114e-06, 'colsample_bytree': 0.4955745002103368, 'subsample': 0.6898256066874835, 'max_depth': 6}. Best is trial 31 with value: 0.8338429971758149.\n",
      "[I 2024-06-17 14:30:17,012] Trial 56 finished with value: 0.8339867572747865 and parameters: {'num_leaves': 429, 'learning_rate': 0.025355751209213052, 'n_estimators': 660, 'subsample_for_bin': 122661, 'min_child_samples': 390, 'reg_alpha': 1.149659987277261e-05, 'reg_lambda': 2.3293680332394752e-05, 'colsample_bytree': 0.5758409684476786, 'subsample': 0.5721023355561136, 'max_depth': 9}. Best is trial 56 with value: 0.8339867572747865.\n",
      "[I 2024-06-17 14:30:42,889] Trial 57 finished with value: 0.8327974676305999 and parameters: {'num_leaves': 382, 'learning_rate': 0.013213880398330935, 'n_estimators': 607, 'subsample_for_bin': 169894, 'min_child_samples': 463, 'reg_alpha': 3.0731354378969494e-06, 'reg_lambda': 4.79804495414278e-06, 'colsample_bytree': 0.6493193436501609, 'subsample': 0.8031171655359403, 'max_depth': 12}. Best is trial 56 with value: 0.8339867572747865.\n",
      "[I 2024-06-17 14:30:51,349] Trial 58 finished with value: 0.8314775196715493 and parameters: {'num_leaves': 380, 'learning_rate': 0.027763171643818193, 'n_estimators': 395, 'subsample_for_bin': 20056, 'min_child_samples': 368, 'reg_alpha': 1.8881832928763316e-05, 'reg_lambda': 1.3210560520754047e-05, 'colsample_bytree': 0.5655369321332776, 'subsample': 0.8819998872383822, 'max_depth': 5}. Best is trial 56 with value: 0.8339867572747865.\n",
      "[I 2024-06-17 14:31:06,461] Trial 59 finished with value: 0.8295041742444715 and parameters: {'num_leaves': 468, 'learning_rate': 0.1656650882046423, 'n_estimators': 773, 'subsample_for_bin': 97705, 'min_child_samples': 299, 'reg_alpha': 0.0001152444731265226, 'reg_lambda': 5.232464791639691e-05, 'colsample_bytree': 0.4257593493510317, 'subsample': 0.5275726059014295, 'max_depth': 5}. Best is trial 56 with value: 0.8339867572747865.\n",
      "[I 2024-06-17 14:31:23,948] Trial 60 finished with value: 0.8338168516783417 and parameters: {'num_leaves': 413, 'learning_rate': 0.025676357909766915, 'n_estimators': 546, 'subsample_for_bin': 180469, 'min_child_samples': 429, 'reg_alpha': 0.00016986111705203958, 'reg_lambda': 0.0035362738464686993, 'colsample_bytree': 0.6672172111837035, 'subsample': 0.5289053223276512, 'max_depth': 9}. Best is trial 56 with value: 0.8339867572747865.\n",
      "[I 2024-06-17 14:31:36,134] Trial 61 finished with value: 0.8300399485711848 and parameters: {'num_leaves': 379, 'learning_rate': 0.011407366617933064, 'n_estimators': 510, 'subsample_for_bin': 211431, 'min_child_samples': 287, 'reg_alpha': 1.4226340106786403e-05, 'reg_lambda': 0.01572457780135531, 'colsample_bytree': 0.8396596621057344, 'subsample': 0.43933516063239436, 'max_depth': 6}. Best is trial 56 with value: 0.8339867572747865.\n",
      "[I 2024-06-17 14:31:50,972] Trial 62 finished with value: 0.833058871366441 and parameters: {'num_leaves': 301, 'learning_rate': 0.034282558922421415, 'n_estimators': 815, 'subsample_for_bin': 130681, 'min_child_samples': 242, 'reg_alpha': 2.7511627873535006e-09, 'reg_lambda': 0.002775029505220222, 'colsample_bytree': 0.4981686046855768, 'subsample': 0.34000469266153127, 'max_depth': 4}. Best is trial 56 with value: 0.8339867572747865.\n",
      "[I 2024-06-17 14:32:12,836] Trial 63 finished with value: 0.8306281069768273 and parameters: {'num_leaves': 483, 'learning_rate': 0.058544893857474106, 'n_estimators': 743, 'subsample_for_bin': 174278, 'min_child_samples': 403, 'reg_alpha': 0.005994674938876369, 'reg_lambda': 0.020456857661667466, 'colsample_bytree': 0.80118120049935, 'subsample': 0.6604963616930767, 'max_depth': 10}. Best is trial 56 with value: 0.8339867572747865.\n",
      "[I 2024-06-17 14:32:30,986] Trial 64 finished with value: 0.8336600495739674 and parameters: {'num_leaves': 243, 'learning_rate': 0.04238055194507832, 'n_estimators': 487, 'subsample_for_bin': 114908, 'min_child_samples': 368, 'reg_alpha': 1.3056758180071604e-06, 'reg_lambda': 7.411960581174874e-07, 'colsample_bytree': 0.5297056158093816, 'subsample': 0.5601733169513524, 'max_depth': 10}. Best is trial 56 with value: 0.8339867572747865.\n",
      "[I 2024-06-17 14:32:50,803] Trial 65 finished with value: 0.8274654454321366 and parameters: {'num_leaves': 464, 'learning_rate': 0.09816452236921931, 'n_estimators': 496, 'subsample_for_bin': 49915, 'min_child_samples': 374, 'reg_alpha': 1.503452643212612e-08, 'reg_lambda': 0.049446103652063665, 'colsample_bytree': 0.5931685139534244, 'subsample': 0.2681714596363587, 'max_depth': 13}. Best is trial 56 with value: 0.8339867572747865.\n",
      "[I 2024-06-17 14:33:07,362] Trial 66 finished with value: 0.8333725020486161 and parameters: {'num_leaves': 228, 'learning_rate': 0.027044050557357317, 'n_estimators': 350, 'subsample_for_bin': 131967, 'min_child_samples': 294, 'reg_alpha': 5.922201299578545e-07, 'reg_lambda': 2.7230589386094047e-08, 'colsample_bytree': 0.6716385708953635, 'subsample': 0.5446637047902935, 'max_depth': 11}. Best is trial 56 with value: 0.8339867572747865.\n",
      "[I 2024-06-17 14:33:24,927] Trial 67 finished with value: 0.8272694028780337 and parameters: {'num_leaves': 236, 'learning_rate': 0.12926001160037892, 'n_estimators': 730, 'subsample_for_bin': 169958, 'min_child_samples': 381, 'reg_alpha': 1.4321677651782008e-07, 'reg_lambda': 4.119039060524925e-05, 'colsample_bytree': 0.6708211365001431, 'subsample': 0.6771452504095803, 'max_depth': 8}. Best is trial 56 with value: 0.8339867572747865.\n",
      "[I 2024-06-17 14:33:40,360] Trial 68 finished with value: 0.8328889683319408 and parameters: {'num_leaves': 400, 'learning_rate': 0.027596091121485318, 'n_estimators': 428, 'subsample_for_bin': 183152, 'min_child_samples': 397, 'reg_alpha': 0.01551370826298286, 'reg_lambda': 3.985535073672787e-05, 'colsample_bytree': 0.6100093332156983, 'subsample': 0.6189748227538963, 'max_depth': 9}. Best is trial 56 with value: 0.8339867572747865.\n",
      "[I 2024-06-17 14:33:55,051] Trial 69 finished with value: 0.8336208057083129 and parameters: {'num_leaves': 229, 'learning_rate': 0.039789488319590297, 'n_estimators': 562, 'subsample_for_bin': 61920, 'min_child_samples': 418, 'reg_alpha': 4.081264422061131e-07, 'reg_lambda': 3.013159755680565e-09, 'colsample_bytree': 0.5895389855636205, 'subsample': 0.6799304238783399, 'max_depth': 7}. Best is trial 56 with value: 0.8339867572747865.\n",
      "[I 2024-06-17 14:34:08,308] Trial 70 finished with value: 0.833424783649766 and parameters: {'num_leaves': 209, 'learning_rate': 0.02753494358759606, 'n_estimators': 482, 'subsample_for_bin': 120971, 'min_child_samples': 456, 'reg_alpha': 4.610176024693883e-07, 'reg_lambda': 1.7757284072968736e-07, 'colsample_bytree': 0.6017531380850243, 'subsample': 0.5664240042589626, 'max_depth': 7}. Best is trial 56 with value: 0.8339867572747865.\n",
      "[I 2024-06-17 14:34:20,713] Trial 71 finished with value: 0.8321832824309123 and parameters: {'num_leaves': 258, 'learning_rate': 0.10294045278779851, 'n_estimators': 502, 'subsample_for_bin': 73364, 'min_child_samples': 367, 'reg_alpha': 5.2761404311549585e-08, 'reg_lambda': 6.913714641252941e-09, 'colsample_bytree': 0.5640001719675258, 'subsample': 0.7284847014080623, 'max_depth': 7}. Best is trial 56 with value: 0.8339867572747865.\n",
      "[I 2024-06-17 14:34:38,101] Trial 72 finished with value: 0.8310070698053698 and parameters: {'num_leaves': 210, 'learning_rate': 0.09096378359216635, 'n_estimators': 554, 'subsample_for_bin': 89216, 'min_child_samples': 364, 'reg_alpha': 2.7199179523258014e-06, 'reg_lambda': 5.419797067280867e-07, 'colsample_bytree': 0.5016915624721326, 'subsample': 0.5189663322503544, 'max_depth': 9}. Best is trial 56 with value: 0.8339867572747865.\n",
      "[I 2024-06-17 14:35:02,214] Trial 73 finished with value: 0.8315820692101447 and parameters: {'num_leaves': 400, 'learning_rate': 0.010091675687698452, 'n_estimators': 478, 'subsample_for_bin': 73827, 'min_child_samples': 292, 'reg_alpha': 1.2270905575203003e-09, 'reg_lambda': 1.08127420499382, 'colsample_bytree': 0.5233992859865039, 'subsample': 0.29203846745655904, 'max_depth': 11}. Best is trial 56 with value: 0.8339867572747865.\n",
      "[I 2024-06-17 14:35:29,654] Trial 74 finished with value: 0.8333725114424126 and parameters: {'num_leaves': 240, 'learning_rate': 0.023709104621529045, 'n_estimators': 722, 'subsample_for_bin': 49203, 'min_child_samples': 382, 'reg_alpha': 2.115983533573621e-07, 'reg_lambda': 4.0787804384192446e-07, 'colsample_bytree': 0.6556958566828184, 'subsample': 0.7500458320900831, 'max_depth': 11}. Best is trial 56 with value: 0.8339867572747865.\n",
      "[I 2024-06-17 14:35:53,294] Trial 75 finished with value: 0.8325491571390513 and parameters: {'num_leaves': 450, 'learning_rate': 0.035365881259663744, 'n_estimators': 796, 'subsample_for_bin': 287761, 'min_child_samples': 447, 'reg_alpha': 1.243064667931612e-07, 'reg_lambda': 0.008318504662735114, 'colsample_bytree': 0.5978312207275047, 'subsample': 0.5781579036620089, 'max_depth': 9}. Best is trial 56 with value: 0.8339867572747865.\n",
      "[I 2024-06-17 14:36:18,802] Trial 76 finished with value: 0.8325492075239594 and parameters: {'num_leaves': 475, 'learning_rate': 0.0338764757984064, 'n_estimators': 585, 'subsample_for_bin': 50772, 'min_child_samples': 333, 'reg_alpha': 1.9761859659840688e-05, 'reg_lambda': 6.919090910871565e-07, 'colsample_bytree': 0.6454828527817343, 'subsample': 0.6142385614323653, 'max_depth': 13}. Best is trial 56 with value: 0.8339867572747865.\n",
      "[I 2024-06-17 14:36:31,572] Trial 77 finished with value: 0.8329935084767399 and parameters: {'num_leaves': 333, 'learning_rate': 0.035884646039978714, 'n_estimators': 404, 'subsample_for_bin': 241051, 'min_child_samples': 457, 'reg_alpha': 2.5670597302077164e-06, 'reg_lambda': 0.005098646834827348, 'colsample_bytree': 0.7391176699873869, 'subsample': 0.4385067593895515, 'max_depth': 9}. Best is trial 56 with value: 0.8339867572747865.\n",
      "[I 2024-06-17 14:36:49,314] Trial 78 finished with value: 0.8328497577715647 and parameters: {'num_leaves': 428, 'learning_rate': 0.020122835265799062, 'n_estimators': 696, 'subsample_for_bin': 131017, 'min_child_samples': 454, 'reg_alpha': 0.002140448385810949, 'reg_lambda': 0.001174817069890578, 'colsample_bytree': 0.6516142019849114, 'subsample': 0.43948407672889456, 'max_depth': 7}. Best is trial 56 with value: 0.8339867572747865.\n",
      "[I 2024-06-17 14:36:51,905] Trial 79 finished with value: 0.817232512243789 and parameters: {'num_leaves': 138, 'learning_rate': 0.030749163256270456, 'n_estimators': 317, 'subsample_for_bin': 68539, 'min_child_samples': 401, 'reg_alpha': 1.4839548329017918e-05, 'reg_lambda': 3.715930201523852e-08, 'colsample_bytree': 0.6682290836956654, 'subsample': 0.8565088667855892, 'max_depth': 1}. Best is trial 56 with value: 0.8339867572747865.\n",
      "[I 2024-06-17 14:37:23,575] Trial 80 finished with value: 0.8335293434361393 and parameters: {'num_leaves': 397, 'learning_rate': 0.02104057471900672, 'n_estimators': 850, 'subsample_for_bin': 85055, 'min_child_samples': 263, 'reg_alpha': 6.090515709735046e-05, 'reg_lambda': 1.0031127324688675e-06, 'colsample_bytree': 0.46748548256499434, 'subsample': 0.27793677881289874, 'max_depth': 9}. Best is trial 56 with value: 0.8339867572747865.\n",
      "[I 2024-06-17 14:37:52,619] Trial 81 finished with value: 0.8333855705274453 and parameters: {'num_leaves': 427, 'learning_rate': 0.011012177363551845, 'n_estimators': 928, 'subsample_for_bin': 196879, 'min_child_samples': 254, 'reg_alpha': 1.610529174270184e-05, 'reg_lambda': 2.7186667278236123e-09, 'colsample_bytree': 0.5479695004310394, 'subsample': 0.3003834249904884, 'max_depth': 7}. Best is trial 56 with value: 0.8339867572747865.\n",
      "[I 2024-06-17 14:38:34,370] Trial 82 finished with value: 0.8335946747285252 and parameters: {'num_leaves': 355, 'learning_rate': 0.012719164748319623, 'n_estimators': 827, 'subsample_for_bin': 77280, 'min_child_samples': 297, 'reg_alpha': 0.0001221707629248929, 'reg_lambda': 6.27297680720526e-06, 'colsample_bytree': 0.429622444385587, 'subsample': 0.48053180263066686, 'max_depth': 12}. Best is trial 56 with value: 0.8339867572747865.\n",
      "[I 2024-06-17 14:39:05,993] Trial 83 finished with value: 0.8330588508708852 and parameters: {'num_leaves': 376, 'learning_rate': 0.011010847000746487, 'n_estimators': 670, 'subsample_for_bin': 80128, 'min_child_samples': 299, 'reg_alpha': 0.012492114599291606, 'reg_lambda': 4.0241631599484157e-07, 'colsample_bytree': 0.4712525821326377, 'subsample': 0.3575017932640257, 'max_depth': 10}. Best is trial 56 with value: 0.8339867572747865.\n",
      "[I 2024-06-17 14:39:50,010] Trial 84 finished with value: 0.8317650697588448 and parameters: {'num_leaves': 343, 'learning_rate': 0.026778990720891592, 'n_estimators': 877, 'subsample_for_bin': 128989, 'min_child_samples': 209, 'reg_alpha': 0.0003812795516994915, 'reg_lambda': 0.00010061200646357416, 'colsample_bytree': 0.6025614224633192, 'subsample': 0.4411919804079098, 'max_depth': 13}. Best is trial 56 with value: 0.8339867572747865.\n",
      "[I 2024-06-17 14:40:44,403] Trial 85 finished with value: 0.8333725122963941 and parameters: {'num_leaves': 351, 'learning_rate': 0.014877505964350888, 'n_estimators': 991, 'subsample_for_bin': 62106, 'min_child_samples': 197, 'reg_alpha': 0.01099352648758012, 'reg_lambda': 1.7493980491893313e-06, 'colsample_bytree': 0.47133218575418273, 'subsample': 0.5287891672643631, 'max_depth': 12}. Best is trial 56 with value: 0.8339867572747865.\n",
      "[I 2024-06-17 14:41:02,495] Trial 86 finished with value: 0.8327844213552897 and parameters: {'num_leaves': 123, 'learning_rate': 0.02858299343885906, 'n_estimators': 399, 'subsample_for_bin': 107193, 'min_child_samples': 428, 'reg_alpha': 1.9940554552756296e-06, 'reg_lambda': 6.071037262586119e-06, 'colsample_bytree': 0.43675525407440635, 'subsample': 0.5847157950054834, 'max_depth': 14}. Best is trial 56 with value: 0.8339867572747865.\n",
      "[I 2024-06-17 14:41:40,073] Trial 87 finished with value: 0.8327452329984325 and parameters: {'num_leaves': 333, 'learning_rate': 0.03289283183327202, 'n_estimators': 1092, 'subsample_for_bin': 49763, 'min_child_samples': 228, 'reg_alpha': 8.877180338144859e-07, 'reg_lambda': 3.252388649377821e-05, 'colsample_bytree': 0.4635819774186889, 'subsample': 0.37431084827965344, 'max_depth': 9}. Best is trial 56 with value: 0.8339867572747865.\n",
      "[I 2024-06-17 14:42:07,751] Trial 88 finished with value: 0.8334639796924567 and parameters: {'num_leaves': 438, 'learning_rate': 0.017260649334955174, 'n_estimators': 890, 'subsample_for_bin': 104166, 'min_child_samples': 153, 'reg_alpha': 0.0023334297904951053, 'reg_lambda': 1.6861052689732897e-07, 'colsample_bytree': 0.40488663889038573, 'subsample': 0.2739986380960937, 'max_depth': 7}. Best is trial 56 with value: 0.8339867572747865.\n",
      "[I 2024-06-17 14:42:26,942] Trial 89 finished with value: 0.8315951752641595 and parameters: {'num_leaves': 487, 'learning_rate': 0.07551879356415939, 'n_estimators': 750, 'subsample_for_bin': 155239, 'min_child_samples': 399, 'reg_alpha': 2.2819759093681372e-05, 'reg_lambda': 0.0010677794224385818, 'colsample_bytree': 0.6045714277733513, 'subsample': 0.5549472338562313, 'max_depth': 8}. Best is trial 56 with value: 0.8339867572747865.\n",
      "[I 2024-06-17 14:42:56,257] Trial 90 finished with value: 0.8334509300012206 and parameters: {'num_leaves': 264, 'learning_rate': 0.035122874308783095, 'n_estimators': 788, 'subsample_for_bin': 41416, 'min_child_samples': 393, 'reg_alpha': 3.622477213113222e-05, 'reg_lambda': 0.0008030113374948236, 'colsample_bytree': 0.4444829331024841, 'subsample': 0.6584265193094225, 'max_depth': 11}. Best is trial 56 with value: 0.8339867572747865.\n",
      "[I 2024-06-17 14:43:30,182] Trial 91 finished with value: 0.8326667725945315 and parameters: {'num_leaves': 445, 'learning_rate': 0.010088899818414362, 'n_estimators': 893, 'subsample_for_bin': 174842, 'min_child_samples': 355, 'reg_alpha': 6.871992029336638e-08, 'reg_lambda': 0.0003912166528048566, 'colsample_bytree': 0.6211960428827239, 'subsample': 0.2802249201204364, 'max_depth': 9}. Best is trial 56 with value: 0.8339867572747865.\n",
      "[I 2024-06-17 14:43:52,830] Trial 92 finished with value: 0.8332941039853642 and parameters: {'num_leaves': 498, 'learning_rate': 0.031318382318829385, 'n_estimators': 734, 'subsample_for_bin': 114575, 'min_child_samples': 261, 'reg_alpha': 0.004331695153488126, 'reg_lambda': 3.7875161417897406e-05, 'colsample_bytree': 0.5868446234677991, 'subsample': 0.7290266045423841, 'max_depth': 8}. Best is trial 56 with value: 0.8339867572747865.\n",
      "[I 2024-06-17 14:44:10,220] Trial 93 finished with value: 0.8332418258001404 and parameters: {'num_leaves': 450, 'learning_rate': 0.02340550627306796, 'n_estimators': 717, 'subsample_for_bin': 51554, 'min_child_samples': 357, 'reg_alpha': 1.7113184051525584e-05, 'reg_lambda': 8.586611108065228e-06, 'colsample_bytree': 0.5826772407990803, 'subsample': 0.4854532378906835, 'max_depth': 6}. Best is trial 56 with value: 0.8339867572747865.\n",
      "[I 2024-06-17 14:44:43,320] Trial 94 finished with value: 0.8326275799677667 and parameters: {'num_leaves': 487, 'learning_rate': 0.011212523086184154, 'n_estimators': 735, 'subsample_for_bin': 162004, 'min_child_samples': 439, 'reg_alpha': 1.0467547657022953e-05, 'reg_lambda': 0.6884584247955938, 'colsample_bytree': 0.48130070666204233, 'subsample': 0.6504337130465927, 'max_depth': 13}. Best is trial 56 with value: 0.8339867572747865.\n",
      "[I 2024-06-17 14:44:56,820] Trial 95 finished with value: 0.8327844162314009 and parameters: {'num_leaves': 391, 'learning_rate': 0.05108944931726115, 'n_estimators': 761, 'subsample_for_bin': 196293, 'min_child_samples': 423, 'reg_alpha': 7.983007125610263e-06, 'reg_lambda': 8.573139433406267e-06, 'colsample_bytree': 0.45371026094870714, 'subsample': 0.4906819791781919, 'max_depth': 4}. Best is trial 56 with value: 0.8339867572747865.\n",
      "[I 2024-06-17 14:45:23,191] Trial 96 finished with value: 0.8323008953244478 and parameters: {'num_leaves': 330, 'learning_rate': 0.03332972113549661, 'n_estimators': 618, 'subsample_for_bin': 41613, 'min_child_samples': 343, 'reg_alpha': 4.8147532632090024e-06, 'reg_lambda': 3.1054765614943713, 'colsample_bytree': 0.5539422038248193, 'subsample': 0.3133646048600686, 'max_depth': 13}. Best is trial 56 with value: 0.8339867572747865.\n",
      "[I 2024-06-17 14:46:03,832] Trial 97 finished with value: 0.831582097391534 and parameters: {'num_leaves': 392, 'learning_rate': 0.03330290511855375, 'n_estimators': 948, 'subsample_for_bin': 126322, 'min_child_samples': 356, 'reg_alpha': 0.0010270222494102052, 'reg_lambda': 6.227158690190757e-06, 'colsample_bytree': 0.4396155117944276, 'subsample': 0.5024086211755445, 'max_depth': 14}. Best is trial 56 with value: 0.8339867572747865.\n",
      "[I 2024-06-17 14:46:20,747] Trial 98 finished with value: 0.8334117109010293 and parameters: {'num_leaves': 405, 'learning_rate': 0.03225859005891766, 'n_estimators': 629, 'subsample_for_bin': 97357, 'min_child_samples': 421, 'reg_alpha': 0.00034922031790746215, 'reg_lambda': 0.004321002279949219, 'colsample_bytree': 0.4155736764334778, 'subsample': 0.45736522625285936, 'max_depth': 7}. Best is trial 56 with value: 0.8339867572747865.\n",
      "[I 2024-06-17 14:46:39,836] Trial 99 finished with value: 0.8331634089492956 and parameters: {'num_leaves': 168, 'learning_rate': 0.020936074564839355, 'n_estimators': 753, 'subsample_for_bin': 88176, 'min_child_samples': 500, 'reg_alpha': 0.0002544801369367839, 'reg_lambda': 2.255377479506486e-08, 'colsample_bytree': 0.6642397012049062, 'subsample': 0.8366930493609436, 'max_depth': 7}. Best is trial 56 with value: 0.8339867572747865.\n"
     ]
    }
   ],
   "source": [
    "def objective(trial):\n",
    "    params = {\n",
    "        'num_leaves': trial.suggest_int('num_leaves', 100, 500),\n",
    "        'learning_rate': trial.suggest_float('learning_rate', 0.01, 1.0, log=True),\n",
    "        'n_estimators': trial.suggest_int('n_estimators', 300, 1200),\n",
    "        'subsample_for_bin': trial.suggest_int('subsample_for_bin', 20000, 300000),\n",
    "        'min_child_samples': trial.suggest_int('min_child_samples', 20, 500),\n",
    "        'reg_alpha': trial.suggest_float('reg_alpha', 1e-9, 10.0, log=True),\n",
    "        'reg_lambda': trial.suggest_float('reg_lambda', 1e-9, 10.0, log=True),\n",
    "        'colsample_bytree': trial.suggest_float('colsample_bytree', 0.4, 1.0),\n",
    "        'subsample': trial.suggest_float('subsample', 0.25, 1.0),\n",
    "        'max_depth': trial.suggest_int('max_depth', 1, 15)\n",
    "    }\n",
    "    \n",
    "    model = LGBMClassifier(**params, objective='multiclass', random_state=0, device='cpu', verbosity=-1)\n",
    "    \n",
    "    # Cross-validation with 5 folds using KFold\n",
    "    kf = KFold(n_splits=5, shuffle=True, random_state=42)\n",
    "    cv_results = cross_val_score(model, x_train, y_train, cv=kf, scoring='accuracy')\n",
    "    \n",
    "    # We maximize accuracy, so we return the mean accuracy of the cross-validation\n",
    "    return np.mean(cv_results)\n",
    "\n",
    "study = optuna.create_study(sampler=TPESampler(n_startup_trials=30, multivariate=True, seed=0), direction=\"maximize\")\n",
    "study.optimize(objective, n_trials=100)\n"
   ]
  },
  {
   "cell_type": "markdown",
   "id": "4f92b96e",
   "metadata": {},
   "source": [
    "## optunaによるチューニングパラメータを利用してモデルを作成"
   ]
  },
  {
   "cell_type": "code",
   "execution_count": 6,
   "id": "3f91581e",
   "metadata": {
    "execution": {
     "iopub.execute_input": "2024-05-08T11:00:19.722278Z",
     "iopub.status.busy": "2024-05-08T11:00:19.721970Z",
     "iopub.status.idle": "2024-05-08T11:00:19.726620Z",
     "shell.execute_reply": "2024-05-08T11:00:19.725792Z"
    },
    "papermill": {
     "duration": 0.015988,
     "end_time": "2024-05-08T11:00:19.728696",
     "exception": false,
     "start_time": "2024-05-08T11:00:19.712708",
     "status": "completed"
    },
    "tags": []
   },
   "outputs": [
    {
     "name": "stdout",
     "output_type": "stream",
     "text": [
      "Best value: 0.8339867572747865\n",
      "Best trial: {'num_leaves': 429, 'learning_rate': 0.025355751209213052, 'n_estimators': 660, 'subsample_for_bin': 122661, 'min_child_samples': 390, 'reg_alpha': 1.149659987277261e-05, 'reg_lambda': 2.3293680332394752e-05, 'colsample_bytree': 0.5758409684476786, 'subsample': 0.5721023355561136, 'max_depth': 9}\n"
     ]
    }
   ],
   "source": [
    "lgb_model = LGBMClassifier(**study.best_params, objective='multiclass', random_state=0, device='cpu', verbosity=-1)\n",
    "print('Best value:', study.best_value)\n",
    "print('Best trial:', study.best_trial.params)"
   ]
  },
  {
   "cell_type": "markdown",
   "id": "f64e4348",
   "metadata": {},
   "source": [
    "## クロスバリデーション"
   ]
  },
  {
   "cell_type": "code",
   "execution_count": 8,
   "id": "0c8ec36e",
   "metadata": {
    "execution": {
     "iopub.execute_input": "2024-05-08T11:00:19.747144Z",
     "iopub.status.busy": "2024-05-08T11:00:19.746805Z",
     "iopub.status.idle": "2024-05-08T11:06:07.215679Z",
     "shell.execute_reply": "2024-05-08T11:06:07.214570Z"
    },
    "papermill": {
     "duration": 347.489601,
     "end_time": "2024-05-08T11:06:07.227000",
     "exception": false,
     "start_time": "2024-05-08T11:00:19.737399",
     "status": "completed"
    },
    "tags": []
   },
   "outputs": [
    {
     "name": "stderr",
     "output_type": "stream",
     "text": [
      "CV Progress:  20%|██        | 1/5 [00:04<00:16,  4.20s/it]"
     ]
    },
    {
     "name": "stdout",
     "output_type": "stream",
     "text": [
      "score: 0.8360559330893884\n"
     ]
    },
    {
     "name": "stderr",
     "output_type": "stream",
     "text": [
      "CV Progress:  40%|████      | 2/5 [00:08<00:12,  4.13s/it]"
     ]
    },
    {
     "name": "stdout",
     "output_type": "stream",
     "text": [
      "score: 0.83840825927862\n"
     ]
    },
    {
     "name": "stderr",
     "output_type": "stream",
     "text": [
      "CV Progress:  60%|██████    | 3/5 [00:12<00:08,  4.10s/it]"
     ]
    },
    {
     "name": "stdout",
     "output_type": "stream",
     "text": [
      "score: 0.8288029273392578\n"
     ]
    },
    {
     "name": "stderr",
     "output_type": "stream",
     "text": [
      "CV Progress:  80%|████████  | 4/5 [00:16<00:04,  4.08s/it]"
     ]
    },
    {
     "name": "stdout",
     "output_type": "stream",
     "text": [
      "score: 0.8321244200483565\n"
     ]
    },
    {
     "name": "stderr",
     "output_type": "stream",
     "text": [
      "CV Progress: 100%|██████████| 5/5 [00:20<00:00,  4.11s/it]"
     ]
    },
    {
     "name": "stdout",
     "output_type": "stream",
     "text": [
      "score: 0.8345422466183101\n",
      "Mean Score ＝ 0.83399\n"
     ]
    },
    {
     "name": "stderr",
     "output_type": "stream",
     "text": [
      "\n"
     ]
    }
   ],
   "source": [
    "cv = KFold(5, shuffle=True, random_state=42)\n",
    "cv_splits = tqdm(cv.split(x_train, y_train), total=cv.get_n_splits(), desc='CV Progress')\n",
    "\n",
    "scores = []\n",
    "for train_idx, val_idx in cv_splits:\n",
    "    x_train_fold, x_val_fold = x_train.iloc[train_idx], x_train.iloc[val_idx]\n",
    "    y_train_fold, y_val_fold = y_train[train_idx], y_train[val_idx]\n",
    "    lgb_model.fit(x_train_fold, y_train_fold)\n",
    "    y_pred = lgb_model.predict(x_val_fold)\n",
    "    r2 = accuracy_score(y_val_fold, y_pred)\n",
    "    scores.append(r2)\n",
    "    \n",
    "    print(f'score: {r2}')\n",
    "\n",
    "print(f\"Mean Score ＝ {np.mean(scores):.5f}\") "
   ]
  },
  {
   "cell_type": "markdown",
   "id": "432bbe45",
   "metadata": {},
   "source": [
    "## 提出用ファイルの作成"
   ]
  },
  {
   "cell_type": "code",
   "execution_count": 9,
   "id": "9126847d",
   "metadata": {
    "execution": {
     "iopub.execute_input": "2024-05-08T11:06:07.496306Z",
     "iopub.status.busy": "2024-05-08T11:06:07.495989Z",
     "iopub.status.idle": "2024-05-08T11:07:47.527333Z",
     "shell.execute_reply": "2024-05-08T11:07:47.526303Z"
    },
    "papermill": {
     "duration": 100.043481,
     "end_time": "2024-05-08T11:07:47.529702",
     "exception": false,
     "start_time": "2024-05-08T11:06:07.486221",
     "status": "completed"
    },
    "tags": []
   },
   "outputs": [
    {
     "data": {
      "text/html": [
       "<div>\n",
       "<style scoped>\n",
       "    .dataframe tbody tr th:only-of-type {\n",
       "        vertical-align: middle;\n",
       "    }\n",
       "\n",
       "    .dataframe tbody tr th {\n",
       "        vertical-align: top;\n",
       "    }\n",
       "\n",
       "    .dataframe thead th {\n",
       "        text-align: right;\n",
       "    }\n",
       "</style>\n",
       "<table border=\"1\" class=\"dataframe\">\n",
       "  <thead>\n",
       "    <tr style=\"text-align: right;\">\n",
       "      <th></th>\n",
       "      <th>id</th>\n",
       "      <th>Target</th>\n",
       "    </tr>\n",
       "  </thead>\n",
       "  <tbody>\n",
       "    <tr>\n",
       "      <th>0</th>\n",
       "      <td>76518</td>\n",
       "      <td>Dropout</td>\n",
       "    </tr>\n",
       "    <tr>\n",
       "      <th>1</th>\n",
       "      <td>76519</td>\n",
       "      <td>Graduate</td>\n",
       "    </tr>\n",
       "    <tr>\n",
       "      <th>2</th>\n",
       "      <td>76520</td>\n",
       "      <td>Graduate</td>\n",
       "    </tr>\n",
       "    <tr>\n",
       "      <th>3</th>\n",
       "      <td>76521</td>\n",
       "      <td>Graduate</td>\n",
       "    </tr>\n",
       "    <tr>\n",
       "      <th>4</th>\n",
       "      <td>76522</td>\n",
       "      <td>Enrolled</td>\n",
       "    </tr>\n",
       "  </tbody>\n",
       "</table>\n",
       "</div>"
      ],
      "text/plain": [
       "      id    Target\n",
       "0  76518   Dropout\n",
       "1  76519  Graduate\n",
       "2  76520  Graduate\n",
       "3  76521  Graduate\n",
       "4  76522  Enrolled"
      ]
     },
     "execution_count": 9,
     "metadata": {},
     "output_type": "execute_result"
    }
   ],
   "source": [
    "submit = pd.read_csv(\"inputs/sample_submission.csv\")\n",
    "pred = lgb_model.predict(x_test)\n",
    "submit['Target'] = le.inverse_transform(pred)\n",
    "submit.to_csv(\"outputs/submission.csv\", index=False)\n",
    "submit.head()"
   ]
  }
 ],
 "metadata": {
  "kaggle": {
   "accelerator": "gpu",
   "dataSources": [
    {
     "databundleVersionId": 8121328,
     "sourceId": 73278,
     "sourceType": "competition"
    }
   ],
   "dockerImageVersionId": 30699,
   "isGpuEnabled": true,
   "isInternetEnabled": true,
   "language": "python",
   "sourceType": "notebook"
  },
  "kernelspec": {
   "display_name": "Python 3",
   "language": "python",
   "name": "python3"
  },
  "language_info": {
   "codemirror_mode": {
    "name": "ipython",
    "version": 3
   },
   "file_extension": ".py",
   "mimetype": "text/x-python",
   "name": "python",
   "nbconvert_exporter": "python",
   "pygments_lexer": "ipython3",
   "version": "3.9.13"
  },
  "papermill": {
   "default_parameters": {},
   "duration": 816.592185,
   "end_time": "2024-05-08T11:07:50.065702",
   "environment_variables": {},
   "exception": null,
   "input_path": "__notebook__.ipynb",
   "output_path": "__notebook__.ipynb",
   "parameters": {},
   "start_time": "2024-05-08T10:54:13.473517",
   "version": "2.5.0"
  }
 },
 "nbformat": 4,
 "nbformat_minor": 5
}

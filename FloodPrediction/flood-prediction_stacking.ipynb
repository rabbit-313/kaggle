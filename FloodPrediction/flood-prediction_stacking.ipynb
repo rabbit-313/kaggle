{
 "cells": [
  {
   "cell_type": "markdown",
   "id": "6ed1ed64",
   "metadata": {},
   "source": [
    "## カラムの日本語訳"
   ]
  },
  {
   "cell_type": "code",
   "execution_count": null,
   "id": "6542b9c5",
   "metadata": {
    "execution": {
     "iopub.execute_input": "2024-05-08T10:54:30.415651Z",
     "iopub.status.busy": "2024-05-08T10:54:30.415328Z",
     "iopub.status.idle": "2024-05-08T10:54:30.419886Z",
     "shell.execute_reply": "2024-05-08T10:54:30.419060Z"
    },
    "papermill": {
     "duration": 0.013328,
     "end_time": "2024-05-08T10:54:30.421788",
     "exception": false,
     "start_time": "2024-05-08T10:54:30.408460",
     "status": "completed"
    },
    "tags": []
   },
   "outputs": [],
   "source": [
    "# MonsoonIntensity - モンスーンの強度\n",
    "# TopographyDrainage - 地形排水\n",
    "# RiverManagement - 河川管理\n",
    "# Deforestation - 森林破壊\n",
    "# Urbanization - 都市化\n",
    "# ClimateChange - 気候変動\n",
    "# DamsQuality - ダムの品質\n",
    "# Siltation - 堆積\n",
    "# AgriculturalPractices - 農業の慣行\n",
    "# Encroachments - 侵害\n",
    "# IneffectiveDisasterPreparedness - 効果のない災害対策\n",
    "# DrainageSystems - 排水システム\n",
    "# CoastalVulnerability - 沿岸の脆弱性\n",
    "# Landslides - 地滑り\n",
    "# Watersheds - 流域\n",
    "# DeterioratingInfrastructure - 低下するインフラ\n",
    "# PopulationScore - 人口スコア\n",
    "# WetlandLoss - 湿地の喪失\n",
    "# InadequatePlanning - 不十分な計画\n",
    "# PoliticalFactors - 政治的要因\n",
    "# FloodProbability - 洪水確率"
   ]
  },
  {
   "cell_type": "markdown",
   "id": "9fe015b3",
   "metadata": {},
   "source": [
    "## import"
   ]
  },
  {
   "cell_type": "code",
   "execution_count": 2,
   "id": "1d9adfdd",
   "metadata": {
    "_cell_guid": "b1076dfc-b9ad-4769-8c92-a6c4dae69d19",
    "_uuid": "8f2839f25d086af736a60e9eeb907d3b93b6e0e5",
    "execution": {
     "iopub.execute_input": "2024-05-08T10:54:16.247315Z",
     "iopub.status.busy": "2024-05-08T10:54:16.246563Z",
     "iopub.status.idle": "2024-05-08T10:54:27.011059Z",
     "shell.execute_reply": "2024-05-08T10:54:27.010250Z"
    },
    "papermill": {
     "duration": 10.77434,
     "end_time": "2024-05-08T10:54:27.013578",
     "exception": false,
     "start_time": "2024-05-08T10:54:16.239238",
     "status": "completed"
    },
    "tags": []
   },
   "outputs": [
    {
     "name": "stderr",
     "output_type": "stream",
     "text": [
      "/home/ru/kaggle/venv/lib/python3.9/site-packages/tqdm/auto.py:21: TqdmWarning: IProgress not found. Please update jupyter and ipywidgets. See https://ipywidgets.readthedocs.io/en/stable/user_install.html\n",
      "  from .autonotebook import tqdm as notebook_tqdm\n"
     ]
    }
   ],
   "source": [
    "import pandas as pd\n",
    "import numpy as np\n",
    "from tqdm import tqdm\n",
    "import matplotlib.pyplot as plt\n",
    "import seaborn as sns\n",
    "import xgboost as xgb\n",
    "import lightgbm as lgb\n",
    "import optuna\n",
    "from catboost import CatBoostRegressor\n",
    "from sklearn.linear_model import LinearRegression, Ridge\n",
    "from sklearn.neural_network import MLPRegressor\n",
    "from sklearn.ensemble import RandomForestRegressor\n",
    "from sklearn.neighbors import KNeighborsRegressor\n",
    "from rgf.sklearn import RGFRegressor\n",
    "\n",
    "from sklearn.model_selection import KFold, train_test_split\n",
    "from sklearn.metrics import r2_score\n",
    "import warnings\n",
    "warnings.filterwarnings('ignore')"
   ]
  },
  {
   "cell_type": "markdown",
   "id": "406e77d5",
   "metadata": {},
   "source": [
    "## データの読み込み"
   ]
  },
  {
   "cell_type": "code",
   "execution_count": 3,
   "id": "c877c004",
   "metadata": {
    "execution": {
     "iopub.execute_input": "2024-05-08T10:54:27.029731Z",
     "iopub.status.busy": "2024-05-08T10:54:27.028732Z",
     "iopub.status.idle": "2024-05-08T10:54:30.239751Z",
     "shell.execute_reply": "2024-05-08T10:54:30.238778Z"
    },
    "papermill": {
     "duration": 3.221399,
     "end_time": "2024-05-08T10:54:30.242250",
     "exception": false,
     "start_time": "2024-05-08T10:54:27.020851",
     "status": "completed"
    },
    "tags": []
   },
   "outputs": [],
   "source": [
    "train = pd.read_csv(\"inputs/train.csv\")\n",
    "test = pd.read_csv(\"inputs/test.csv\")"
   ]
  },
  {
   "cell_type": "code",
   "execution_count": 4,
   "id": "c3317fd2",
   "metadata": {
    "execution": {
     "iopub.execute_input": "2024-05-08T10:54:30.301512Z",
     "iopub.status.busy": "2024-05-08T10:54:30.301166Z",
     "iopub.status.idle": "2024-05-08T10:54:30.400020Z",
     "shell.execute_reply": "2024-05-08T10:54:30.399224Z"
    },
    "papermill": {
     "duration": 0.108057,
     "end_time": "2024-05-08T10:54:30.402384",
     "exception": false,
     "start_time": "2024-05-08T10:54:30.294327",
     "status": "completed"
    },
    "tags": []
   },
   "outputs": [],
   "source": [
    "x_train = train.drop(columns=[\"FloodProbability\", \"id\"], axis=1)\n",
    "y_train = train[\"FloodProbability\"]\n",
    "x_test = test.drop(columns=[\"id\"], axis=1)"
   ]
  },
  {
   "cell_type": "markdown",
   "id": "df8def42",
   "metadata": {},
   "source": [
    "## 特徴量エンジニアリング"
   ]
  },
  {
   "cell_type": "code",
   "execution_count": 5,
   "id": "abae9477",
   "metadata": {},
   "outputs": [],
   "source": [
    "# 統計データの追加\n",
    "def cleaning(dataset):\n",
    "    features = dataset.columns.tolist()\n",
    "    dataset['total'] = dataset[features].sum(axis=1)\n",
    "    dataset['mean_features'] = 0.1*dataset[features].mean(axis=1)\n",
    "    dataset['std_features'] = dataset[features].std(axis=1)\n",
    "    dataset['max_features'] = dataset[features].max(axis=1)\n",
    "    dataset['min_features'] = dataset[features].min(axis=1)\n",
    "    dataset['range_features'] = dataset['max_features'] - dataset['min_features']\n",
    "    dataset['median_features'] = 0.1*dataset[features].median(axis=1)\n",
    "    dataset['skewness_features'] = dataset[features].skew(axis=1)\n",
    "    dataset['ptp'] = dataset[features].values.ptp(axis=1)\n",
    "    dataset['q25'] = dataset[features].quantile(0.25, axis=1)\n",
    "    dataset['q75'] = dataset[features].quantile(0.75, axis=1)\n",
    "\n",
    "cleaning(x_train)\n",
    "cleaning(x_test)"
   ]
  },
  {
   "cell_type": "code",
   "execution_count": 6,
   "id": "244c5e36",
   "metadata": {},
   "outputs": [],
   "source": [
    "# 特徴量の追加\n",
    "def add_features(df):\n",
    "    df['ClimateImpact'] = df['MonsoonIntensity'] + df['ClimateChange']\n",
    "    df['AnthropogenicPressure'] = df['Deforestation'] + df['Urbanization'] + df['AgriculturalPractices'] + df['Encroachments']\n",
    "    df['InfrastructureQuality'] = df['DamsQuality'] + df['DrainageSystems'] + df['DeterioratingInfrastructure']\n",
    "    df['CoastalVulnerabilityTotal'] = df['CoastalVulnerability'] + df['Landslides']\n",
    "    df['PreventiveMeasuresEfficiency'] = df['RiverManagement'] + df['IneffectiveDisasterPreparedness'] + df['InadequatePlanning']\n",
    "    df['EcosystemImpact'] = df['WetlandLoss'] + df['Watersheds']\n",
    "    df['SocioPoliticalContext'] = df['PopulationScore'] * df['PoliticalFactors']\n",
    "\n",
    "add_features(x_train)\n",
    "add_features(x_test)"
   ]
  },
  {
   "cell_type": "markdown",
   "id": "174d6d1f",
   "metadata": {},
   "source": [
    "## stackingによるアンサンブル"
   ]
  },
  {
   "cell_type": "code",
   "execution_count": 7,
   "id": "7d404abd",
   "metadata": {},
   "outputs": [],
   "source": [
    "def objective(trial, model, x_train_op, y_train_op, x_test_op, y_test_op):\n",
    "    base_params = model.get_params()\n",
    "    \n",
    "    if isinstance(model, xgb.XGBRegressor):\n",
    "        new_params = {\n",
    "            'learning_rate': trial.suggest_loguniform('learning_rate', 0.01, 1.0),\n",
    "            'n_estimators': trial.suggest_int('n_estimators', 300, 1200),\n",
    "            'max_depth': trial.suggest_int('max_depth', 1, 15),\n",
    "            'subsample': trial.suggest_uniform('subsample', 0.25, 1.0),\n",
    "            'colsample_bytree': trial.suggest_uniform('colsample_bytree', 0.4, 1.0),\n",
    "            'reg_alpha': trial.suggest_loguniform('reg_alpha', 1e-9, 10.0),\n",
    "            'reg_lambda': trial.suggest_loguniform('reg_lambda', 1e-9, 10.0),\n",
    "            'min_child_weight': trial.suggest_int('min_child_weight', 1, 10)\n",
    "        }\n",
    "    elif isinstance(model, lgb.LGBMRegressor):\n",
    "        new_params = {\n",
    "            'learning_rate': trial.suggest_loguniform('learning_rate', 0.01, 1.0),\n",
    "            'n_estimators': trial.suggest_int('n_estimators', 300, 1200),\n",
    "            'max_depth': trial.suggest_int('max_depth', 1, 15),\n",
    "            'subsample': trial.suggest_uniform('subsample', 0.25, 1.0),\n",
    "            'colsample_bytree': trial.suggest_uniform('colsample_bytree', 0.4, 1.0),\n",
    "            'reg_alpha': trial.suggest_loguniform('reg_alpha', 1e-9, 10.0),\n",
    "            'reg_lambda': trial.suggest_loguniform('reg_lambda', 1e-9, 10.0),\n",
    "            'min_child_samples': trial.suggest_int('min_child_samples', 1, 20)\n",
    "        }\n",
    "    elif isinstance(model, CatBoostRegressor):\n",
    "        new_params = {\n",
    "            'iterations': trial.suggest_int('iterations', 100, 1000),\n",
    "            'depth': trial.suggest_int('depth', 1, 10),\n",
    "            'learning_rate': trial.suggest_loguniform('learning_rate', 1e-3, 1e-1),\n",
    "            'l2_leaf_reg': trial.suggest_loguniform('l2_leaf_reg', 1e-3, 10),\n",
    "            'border_count': trial.suggest_int('border_count', 1, 255),\n",
    "            'random_strength': trial.suggest_loguniform('random_strength', 1e-3, 10),\n",
    "            'bagging_temperature': trial.suggest_loguniform('bagging_temperature', 1e-3, 10),\n",
    "            'od_type': trial.suggest_categorical('od_type', ['IncToDec', 'Iter']),\n",
    "            'od_wait': trial.suggest_int('od_wait', 10, 50)\n",
    "        }\n",
    "    else:\n",
    "        raise ValueError(\"Unsupported model type!\")\n",
    "\n",
    "    base_params.update(new_params)\n",
    "    model = model.__class__(**base_params)\n",
    "    model.fit(x_train_op, y_train_op)\n",
    "    y_pred = model.predict(x_test_op)\n",
    "    r2 = r2_score(y_test_op, y_pred)\n",
    "\n",
    "    return r2\n",
    "\n",
    "def predict_cv(model, x_train, y_train, x_test):\n",
    "    preds = list()\n",
    "    preds_test = list()\n",
    "    va_idxes = list()\n",
    "    \n",
    "    kf = KFold(n_splits=5, shuffle=True, random_state=71)\n",
    "    iterator = tqdm(enumerate(kf.split(x_train)), total=kf.get_n_splits(), desc='CV Progress')  # tqdmを使ってプログレスバーを表示\n",
    "    \n",
    "    for _, (tr_idx, va_idx) in iterator:\n",
    "        tr_x, va_x = x_train.iloc[tr_idx], x_train.iloc[va_idx]\n",
    "        tr_y, va_y = y_train.iloc[tr_idx], y_train.iloc[va_idx]\n",
    "        \n",
    "        model.fit(tr_x, tr_y)\n",
    "        \n",
    "        pred = model.predict(va_x)\n",
    "        preds.append(pred)\n",
    "        \n",
    "        pred_test = model.predict(x_test)\n",
    "        preds_test.append(pred_test)\n",
    "        \n",
    "        va_idxes.append(va_idx)\n",
    "\n",
    "    va_idxes = np.concatenate(va_idxes)\n",
    "    preds = np.concatenate(preds, axis=0)\n",
    "    order = np.argsort(va_idxes)\n",
    "    pred_train = preds[order]\n",
    "    preds_test = np.mean(preds_test, axis=0)\n",
    "    \n",
    "    return pred_train, preds_test"
   ]
  },
  {
   "cell_type": "markdown",
   "id": "779f5bdc",
   "metadata": {},
   "source": [
    "## Model"
   ]
  },
  {
   "cell_type": "code",
   "execution_count": null,
   "id": "f78f0acd",
   "metadata": {},
   "outputs": [],
   "source": [
    "x_train_op, x_test_op, y_train_op, y_test_op = train_test_split(x_train, y_train, test_size=0.2, random_state=42)\n",
    "initial_model = lgb.LGBMRegressor(objective='regression', random_state=0, device='cpu', verbosity=-1)\n",
    "study = optuna.create_study(direction='maximize')\n",
    "study.optimize(lambda trial: objective(trial, initial_model, x_train_op, y_train_op, x_test_op, y_test_op), n_trials=100)"
   ]
  },
  {
   "cell_type": "code",
   "execution_count": null,
   "id": "1d056c37",
   "metadata": {},
   "outputs": [],
   "source": [
    "x_train_op, x_test_op, y_train_op, y_test_op = train_test_split(x_train, y_train, test_size=0.2, random_state=42)\n",
    "initial_model = xgb.XGBRegressor(objective='reg:squarederror', random_state=0)\n",
    "study = optuna.create_study(direction='maximize')\n",
    "study.optimize(lambda trial: objective(trial, initial_model, x_train_op, y_train_op, x_test_op, y_test_op), n_trials=100)"
   ]
  },
  {
   "cell_type": "code",
   "execution_count": null,
   "id": "cf2c4a90",
   "metadata": {},
   "outputs": [],
   "source": [
    "x_train_op, x_test_op, y_train_op, y_test_op = train_test_split(x_train, y_train, test_size=0.2, random_state=42)\n",
    "initial_model = CatBoostRegressor(objective='RMSE', random_seed=0,task_type='GPU', verbose=0)\n",
    "study = optuna.create_study(direction='maximize')\n",
    "study.optimize(lambda trial: objective(trial, initial_model, x_train_op, y_train_op, x_test_op, y_test_op), n_trials=100)"
   ]
  },
  {
   "cell_type": "code",
   "execution_count": 10,
   "id": "8c104734",
   "metadata": {},
   "outputs": [],
   "source": [
    "lgb_best_params = {'learning_rate': 0.03448065557991946, 'n_estimators': 1139, 'max_depth': 14, 'subsample': 0.7117013506265009, 'colsample_bytree': 0.8453899699874292, 'reg_alpha': 8.707740542701372e-06, 'reg_lambda': 1.3473848421538016e-07, 'min_child_samples': 19}\n",
    "xgb_best_params = {'learning_rate': 0.011266220048489109, 'n_estimators': 673, 'max_depth': 9, 'subsample': 0.8719725913762578, 'colsample_bytree': 0.8055042169347792, 'reg_alpha': 0.00018948835810392984, 'reg_lambda': 3.8477359926778826e-09, 'min_child_weight': 10}\n",
    "cat_best_params = {'iterations': 974, 'depth': 7, 'learning_rate': 0.06074053195699405, 'l2_leaf_reg': 6.255562336483921, 'border_count': 159, 'random_strength': 0.006997658088887226, 'bagging_temperature': 0.015062515205916959, 'od_type': 'IncToDec', 'od_wait': 43}\n",
    "lgb_model = lgb.LGBMRegressor(**lgb_best_params, objective='regression', random_state=0, device='cpu', verbosity=-1)\n",
    "xgb_model = xgb.XGBRegressor(**xgb_best_params, objective='reg:squarederror', random_state=0)\n",
    "cat_model = CatBoostRegressor(**cat_best_params, objective='RMSE', random_seed=0)"
   ]
  },
  {
   "cell_type": "code",
   "execution_count": null,
   "id": "845181d3",
   "metadata": {},
   "outputs": [],
   "source": [
    "pred_train_lgb, pred_test_lgb = predict_cv(lgb_model, x_train, y_train, x_test)\n",
    "pred_train_xgb, pred_test_xgb = predict_cv(xgb_model, x_train, y_train, x_test)\n",
    "pred_train_cat, pred_test_cat = predict_cv(cat_model, x_train, y_train, x_test)"
   ]
  },
  {
   "cell_type": "code",
   "execution_count": 23,
   "id": "9d55b270",
   "metadata": {},
   "outputs": [],
   "source": [
    "x2_train = pd.DataFrame({'lgb': pred_train_lgb, 'xgb': pred_train_xgb, 'cat': pred_train_cat})\n",
    "x2_test = pd.DataFrame({'lgb': pred_test_lgb, 'xgb': pred_test_xgb, 'cat': pred_test_cat})"
   ]
  },
  {
   "cell_type": "code",
   "execution_count": 27,
   "id": "c9b4c627",
   "metadata": {},
   "outputs": [],
   "source": [
    "liner_model = LinearRegression()"
   ]
  },
  {
   "cell_type": "code",
   "execution_count": 36,
   "id": "8915e140",
   "metadata": {},
   "outputs": [
    {
     "name": "stderr",
     "output_type": "stream",
     "text": [
      "CV Progress:  80%|████████  | 4/5 [00:00<00:00, 15.58it/s]"
     ]
    },
    {
     "name": "stdout",
     "output_type": "stream",
     "text": [
      "score: 0.8683306236987806\n",
      "score: 0.8691986975717285\n",
      "score: 0.8696091484942055\n",
      "score: 0.8694933004081825\n"
     ]
    },
    {
     "name": "stderr",
     "output_type": "stream",
     "text": [
      "CV Progress: 100%|██████████| 5/5 [00:00<00:00, 15.20it/s]"
     ]
    },
    {
     "name": "stdout",
     "output_type": "stream",
     "text": [
      "score: 0.8691689959336155\n",
      "Mean Score ＝ 0.86916\n"
     ]
    },
    {
     "name": "stderr",
     "output_type": "stream",
     "text": [
      "\n"
     ]
    }
   ],
   "source": [
    "cv = KFold(5, shuffle=True, random_state=0)\n",
    "cv_splits = tqdm(cv.split(x2_train, y_train), total=cv.get_n_splits(), desc='CV Progress')\n",
    "\n",
    "scores = []\n",
    "for train_idx, val_idx in cv_splits:\n",
    "    x_train_fold, x_val_fold = x2_train.iloc[train_idx], x2_train.iloc[val_idx]\n",
    "    y_train_fold, y_val_fold = y_train.iloc[train_idx], y_train.iloc[val_idx]\n",
    "    liner_model.fit(x_train_fold, y_train_fold)\n",
    "    y_pred = liner_model.predict(x_val_fold)\n",
    "    r2 = r2_score(y_val_fold, y_pred)\n",
    "    scores.append(r2)\n",
    "    \n",
    "    print(f'score: {r2}')\n",
    "\n",
    "print(f\"Mean Score ＝ {np.mean(scores):.5f}\") "
   ]
  },
  {
   "cell_type": "code",
   "execution_count": 38,
   "id": "a11e5696",
   "metadata": {},
   "outputs": [],
   "source": [
    "y_pred = liner_model.predict(x2_test)"
   ]
  },
  {
   "cell_type": "markdown",
   "id": "432bbe45",
   "metadata": {},
   "source": [
    "## 提出用ファイルの作成"
   ]
  },
  {
   "cell_type": "code",
   "execution_count": 39,
   "id": "9126847d",
   "metadata": {
    "execution": {
     "iopub.execute_input": "2024-05-08T11:06:07.496306Z",
     "iopub.status.busy": "2024-05-08T11:06:07.495989Z",
     "iopub.status.idle": "2024-05-08T11:07:47.527333Z",
     "shell.execute_reply": "2024-05-08T11:07:47.526303Z"
    },
    "papermill": {
     "duration": 100.043481,
     "end_time": "2024-05-08T11:07:47.529702",
     "exception": false,
     "start_time": "2024-05-08T11:06:07.486221",
     "status": "completed"
    },
    "tags": []
   },
   "outputs": [
    {
     "data": {
      "text/html": [
       "<div>\n",
       "<style scoped>\n",
       "    .dataframe tbody tr th:only-of-type {\n",
       "        vertical-align: middle;\n",
       "    }\n",
       "\n",
       "    .dataframe tbody tr th {\n",
       "        vertical-align: top;\n",
       "    }\n",
       "\n",
       "    .dataframe thead th {\n",
       "        text-align: right;\n",
       "    }\n",
       "</style>\n",
       "<table border=\"1\" class=\"dataframe\">\n",
       "  <thead>\n",
       "    <tr style=\"text-align: right;\">\n",
       "      <th></th>\n",
       "      <th>id</th>\n",
       "      <th>FloodProbability</th>\n",
       "    </tr>\n",
       "  </thead>\n",
       "  <tbody>\n",
       "    <tr>\n",
       "      <th>0</th>\n",
       "      <td>1117957</td>\n",
       "      <td>0.577717</td>\n",
       "    </tr>\n",
       "    <tr>\n",
       "      <th>1</th>\n",
       "      <td>1117958</td>\n",
       "      <td>0.456253</td>\n",
       "    </tr>\n",
       "    <tr>\n",
       "      <th>2</th>\n",
       "      <td>1117959</td>\n",
       "      <td>0.448419</td>\n",
       "    </tr>\n",
       "    <tr>\n",
       "      <th>3</th>\n",
       "      <td>1117960</td>\n",
       "      <td>0.466890</td>\n",
       "    </tr>\n",
       "    <tr>\n",
       "      <th>4</th>\n",
       "      <td>1117961</td>\n",
       "      <td>0.467345</td>\n",
       "    </tr>\n",
       "  </tbody>\n",
       "</table>\n",
       "</div>"
      ],
      "text/plain": [
       "        id  FloodProbability\n",
       "0  1117957          0.577717\n",
       "1  1117958          0.456253\n",
       "2  1117959          0.448419\n",
       "3  1117960          0.466890\n",
       "4  1117961          0.467345"
      ]
     },
     "execution_count": 39,
     "metadata": {},
     "output_type": "execute_result"
    }
   ],
   "source": [
    "submit = pd.read_csv(\"inputs/sample_submission.csv\")\n",
    "submit[\"FloodProbability\"] = y_pred\n",
    "submit.to_csv(\"outputs/submission_stacking.csv\", index=False)\n",
    "submit.head()"
   ]
  }
 ],
 "metadata": {
  "kaggle": {
   "accelerator": "gpu",
   "dataSources": [
    {
     "databundleVersionId": 8121328,
     "sourceId": 73278,
     "sourceType": "competition"
    }
   ],
   "dockerImageVersionId": 30699,
   "isGpuEnabled": true,
   "isInternetEnabled": true,
   "language": "python",
   "sourceType": "notebook"
  },
  "kernelspec": {
   "display_name": "Python 3",
   "language": "python",
   "name": "python3"
  },
  "language_info": {
   "codemirror_mode": {
    "name": "ipython",
    "version": 3
   },
   "file_extension": ".py",
   "mimetype": "text/x-python",
   "name": "python",
   "nbconvert_exporter": "python",
   "pygments_lexer": "ipython3",
   "version": "3.9.13"
  },
  "papermill": {
   "default_parameters": {},
   "duration": 816.592185,
   "end_time": "2024-05-08T11:07:50.065702",
   "environment_variables": {},
   "exception": null,
   "input_path": "__notebook__.ipynb",
   "output_path": "__notebook__.ipynb",
   "parameters": {},
   "start_time": "2024-05-08T10:54:13.473517",
   "version": "2.5.0"
  }
 },
 "nbformat": 4,
 "nbformat_minor": 5
}

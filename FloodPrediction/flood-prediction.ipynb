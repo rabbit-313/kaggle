{
 "cells": [
  {
   "cell_type": "markdown",
   "id": "e4716f3c",
   "metadata": {},
   "source": [
    "## カラムの日本語訳"
   ]
  },
  {
   "cell_type": "code",
   "execution_count": 1,
   "id": "6542b9c5",
   "metadata": {
    "execution": {
     "iopub.execute_input": "2024-05-08T10:54:30.415651Z",
     "iopub.status.busy": "2024-05-08T10:54:30.415328Z",
     "iopub.status.idle": "2024-05-08T10:54:30.419886Z",
     "shell.execute_reply": "2024-05-08T10:54:30.419060Z"
    },
    "papermill": {
     "duration": 0.013328,
     "end_time": "2024-05-08T10:54:30.421788",
     "exception": false,
     "start_time": "2024-05-08T10:54:30.408460",
     "status": "completed"
    },
    "tags": []
   },
   "outputs": [],
   "source": [
    "# MonsoonIntensity - モンスーンの強度\n",
    "# TopographyDrainage - 地形排水\n",
    "# RiverManagement - 河川管理\n",
    "# Deforestation - 森林破壊\n",
    "# Urbanization - 都市化\n",
    "# ClimateChange - 気候変動\n",
    "# DamsQuality - ダムの品質\n",
    "# Siltation - 堆積\n",
    "# AgriculturalPractices - 農業の慣行\n",
    "# Encroachments - 侵害\n",
    "# IneffectiveDisasterPreparedness - 効果のない災害対策\n",
    "# DrainageSystems - 排水システム\n",
    "# CoastalVulnerability - 沿岸の脆弱性\n",
    "# Landslides - 地滑り\n",
    "# Watersheds - 流域\n",
    "# DeterioratingInfrastructure - 低下するインフラ\n",
    "# PopulationScore - 人口スコア\n",
    "# WetlandLoss - 湿地の喪失\n",
    "# InadequatePlanning - 不十分な計画\n",
    "# PoliticalFactors - 政治的要因\n",
    "# FloodProbability - 洪水確率"
   ]
  },
  {
   "cell_type": "markdown",
   "id": "9fe015b3",
   "metadata": {},
   "source": [
    "## import"
   ]
  },
  {
   "cell_type": "code",
   "execution_count": 1,
   "id": "1d9adfdd",
   "metadata": {
    "_cell_guid": "b1076dfc-b9ad-4769-8c92-a6c4dae69d19",
    "_uuid": "8f2839f25d086af736a60e9eeb907d3b93b6e0e5",
    "execution": {
     "iopub.execute_input": "2024-05-08T10:54:16.247315Z",
     "iopub.status.busy": "2024-05-08T10:54:16.246563Z",
     "iopub.status.idle": "2024-05-08T10:54:27.011059Z",
     "shell.execute_reply": "2024-05-08T10:54:27.010250Z"
    },
    "papermill": {
     "duration": 10.77434,
     "end_time": "2024-05-08T10:54:27.013578",
     "exception": false,
     "start_time": "2024-05-08T10:54:16.239238",
     "status": "completed"
    },
    "tags": []
   },
   "outputs": [
    {
     "name": "stderr",
     "output_type": "stream",
     "text": [
      "/home/ru/kaggle/venv/lib/python3.9/site-packages/tqdm/auto.py:21: TqdmWarning: IProgress not found. Please update jupyter and ipywidgets. See https://ipywidgets.readthedocs.io/en/stable/user_install.html\n",
      "  from .autonotebook import tqdm as notebook_tqdm\n"
     ]
    }
   ],
   "source": [
    "import pandas as pd\n",
    "import numpy as np\n",
    "import matplotlib.pyplot as plt\n",
    "import seaborn as sns\n",
    "from lightgbm import LGBMRegressor\n",
    "from sklearn.model_selection import KFold, train_test_split\n",
    "from sklearn.metrics import r2_score\n",
    "import optuna"
   ]
  },
  {
   "cell_type": "markdown",
   "id": "406e77d5",
   "metadata": {},
   "source": [
    "## データの読み込み"
   ]
  },
  {
   "cell_type": "code",
   "execution_count": 2,
   "id": "c877c004",
   "metadata": {
    "execution": {
     "iopub.execute_input": "2024-05-08T10:54:27.029731Z",
     "iopub.status.busy": "2024-05-08T10:54:27.028732Z",
     "iopub.status.idle": "2024-05-08T10:54:30.239751Z",
     "shell.execute_reply": "2024-05-08T10:54:30.238778Z"
    },
    "papermill": {
     "duration": 3.221399,
     "end_time": "2024-05-08T10:54:30.242250",
     "exception": false,
     "start_time": "2024-05-08T10:54:27.020851",
     "status": "completed"
    },
    "tags": []
   },
   "outputs": [],
   "source": [
    "train = pd.read_csv(\"inputs/train.csv\")\n",
    "test = pd.read_csv(\"inputs/test.csv\")"
   ]
  },
  {
   "cell_type": "code",
   "execution_count": 3,
   "id": "c3317fd2",
   "metadata": {
    "execution": {
     "iopub.execute_input": "2024-05-08T10:54:30.301512Z",
     "iopub.status.busy": "2024-05-08T10:54:30.301166Z",
     "iopub.status.idle": "2024-05-08T10:54:30.400020Z",
     "shell.execute_reply": "2024-05-08T10:54:30.399224Z"
    },
    "papermill": {
     "duration": 0.108057,
     "end_time": "2024-05-08T10:54:30.402384",
     "exception": false,
     "start_time": "2024-05-08T10:54:30.294327",
     "status": "completed"
    },
    "tags": []
   },
   "outputs": [],
   "source": [
    "x_train = train.drop(columns=[\"FloodProbability\", \"id\"], axis=1)\n",
    "y_train = train[\"FloodProbability\"]\n",
    "x_test = test.drop(columns=[\"id\"], axis=1)"
   ]
  },
  {
   "cell_type": "markdown",
   "id": "df8def42",
   "metadata": {},
   "source": [
    "## 特徴量エンジニアリング"
   ]
  },
  {
   "cell_type": "code",
   "execution_count": 4,
   "id": "abae9477",
   "metadata": {},
   "outputs": [],
   "source": [
    "def cleaning(dataset):\n",
    "    features = dataset.columns.tolist()\n",
    "    dataset['total'] = dataset[features].sum(axis=1)\n",
    "    dataset['mean_features'] = 0.1*dataset[features].mean(axis=1)\n",
    "    dataset['std_features'] = dataset[features].std(axis=1)\n",
    "    dataset['max_features'] = dataset[features].max(axis=1)\n",
    "    dataset['min_features'] = dataset[features].min(axis=1)\n",
    "    dataset['median_features'] = 0.1*dataset[features].median(axis=1)\n",
    "    dataset['ptp'] = dataset[features].values.ptp(axis=1)\n",
    "    dataset['q25'] = dataset[features].quantile(0.25, axis=1)\n",
    "    dataset['q75'] = dataset[features].quantile(0.75, axis=1)\n",
    "\n",
    "cleaning(x_train)\n",
    "cleaning(x_test)"
   ]
  },
  {
   "cell_type": "code",
   "execution_count": 5,
   "id": "244c5e36",
   "metadata": {},
   "outputs": [],
   "source": [
    "def add_features(df):\n",
    "    df['ClimateImpact'] = df['MonsoonIntensity'] + df['ClimateChange']\n",
    "    df['AnthropogenicPressure'] = df['Deforestation'] + df['Urbanization'] + df['AgriculturalPractices'] + df['Encroachments']\n",
    "    df['InfrastructureQuality'] = df['DamsQuality'] + df['DrainageSystems'] + df['DeterioratingInfrastructure']\n",
    "    df['CoastalVulnerabilityTotal'] = df['CoastalVulnerability'] + df['Landslides']\n",
    "    df['PreventiveMeasuresEfficiency'] = df['RiverManagement'] + df['IneffectiveDisasterPreparedness'] + df['InadequatePlanning']\n",
    "    df['EcosystemImpact'] = df['WetlandLoss'] + df['Watersheds']\n",
    "    df['SocioPoliticalContext'] = df['PopulationScore'] * df['PoliticalFactors']\n",
    "\n",
    "add_features(x_train)\n",
    "add_features(x_test)"
   ]
  },
  {
   "cell_type": "markdown",
   "id": "8f090a9c",
   "metadata": {},
   "source": [
    "## trainとtestの分布を確認"
   ]
  },
  {
   "cell_type": "code",
   "execution_count": 9,
   "id": "20d8f993",
   "metadata": {
    "execution": {
     "iopub.execute_input": "2024-05-08T10:54:30.516159Z",
     "iopub.status.busy": "2024-05-08T10:54:30.515904Z",
     "iopub.status.idle": "2024-05-08T10:54:30.520387Z",
     "shell.execute_reply": "2024-05-08T10:54:30.519599Z"
    },
    "papermill": {
     "duration": 0.013126,
     "end_time": "2024-05-08T10:54:30.522206",
     "exception": false,
     "start_time": "2024-05-08T10:54:30.509080",
     "status": "completed"
    },
    "tags": []
   },
   "outputs": [],
   "source": [
    "# def plot_distribution_pairs(train, test, feature, hue=\"set\", palette=None):\n",
    "#     data_df = train.copy()\n",
    "#     data_df['set'] = 'train'\n",
    "#     data_df = pd.concat([data_df, test.copy()]).fillna('test')\n",
    "#     data_df.replace([np.inf, -np.inf], np.nan, inplace=True)\n",
    "\n",
    "#     f, axes = plt.subplots(1, 2, figsize=(14, 6))\n",
    "#     for i, s in enumerate(data_df[hue].unique()):\n",
    "#         selection = data_df.loc[data_df[hue]==s, feature]\n",
    "#         # Filter 'selection' to include only the central 95% of the data\n",
    "#         q_025, q_975 = np.percentile(selection, [2.5, 97.5])\n",
    "#         selection_filtered = selection[(selection >= q_025) & (selection <= q_975)]\n",
    "#         with warnings.catch_warnings():\n",
    "#             warnings.simplefilter(\"ignore\", category=FutureWarning)\n",
    "#             sns.histplot(selection_filtered, color=palette[i], ax=axes[0], label=s)\n",
    "#             sns.boxplot(x=hue, y=feature, data=data_df, palette=palette, ax=axes[1])\n",
    "#     axes[0].set_title(f\"Paired train/test distributions of {feature}\")\n",
    "#     axes[1].set_title(f\"Paired train/test boxplots of {feature}\")\n",
    "#     axes[0].legend()\n",
    "#     axes[1].legend()\n",
    "#     plt.show()\n",
    "# color_list = [\"#A5D7E8\", \"#576CBC\", \"#19376D\", \"#0B2447\"]\n",
    "# for feature in x_train.columns:\n",
    "#   plot_distribution_pairs(x_train, x_test, feature, palette=color_list)"
   ]
  },
  {
   "cell_type": "markdown",
   "id": "174d6d1f",
   "metadata": {},
   "source": [
    "## optunaによるチューニング"
   ]
  },
  {
   "cell_type": "code",
   "execution_count": 6,
   "id": "a50654d8",
   "metadata": {
    "execution": {
     "iopub.execute_input": "2024-05-08T10:54:30.572286Z",
     "iopub.status.busy": "2024-05-08T10:54:30.572033Z",
     "iopub.status.idle": "2024-05-08T11:00:19.671454Z",
     "shell.execute_reply": "2024-05-08T11:00:19.670215Z"
    },
    "papermill": {
     "duration": 349.11344,
     "end_time": "2024-05-08T11:00:19.678813",
     "exception": false,
     "start_time": "2024-05-08T10:54:30.565373",
     "status": "completed"
    },
    "tags": []
   },
   "outputs": [
    {
     "name": "stderr",
     "output_type": "stream",
     "text": [
      "[I 2024-05-16 15:27:30,897] A new study created in memory with name: no-name-d7f6faf2-65c2-485b-a2e7-601ea4cd4cf5\n",
      "[I 2024-05-16 15:27:34,372] Trial 0 finished with value: 0.8677104921370952 and parameters: {'num_leaves': 212, 'learning_rate': 0.016865920320135744, 'n_estimators': 374, 'subsample_for_bin': 162242, 'min_child_samples': 457, 'reg_alpha': 3.100979412504212e-06, 'reg_lambda': 0.0002336157853237338, 'colsample_bytree': 0.7183178283828382, 'subsample': 0.49828590989000765, 'max_depth': 5}. Best is trial 0 with value: 0.8677104921370952.\n",
      "[I 2024-05-16 15:27:36,641] Trial 1 finished with value: 0.8670324984552997 and parameters: {'num_leaves': 462, 'learning_rate': 0.7404743499848364, 'n_estimators': 350, 'subsample_for_bin': 54608, 'min_child_samples': 340, 'reg_alpha': 5.820940488643845, 'reg_lambda': 2.5172728661626707e-07, 'colsample_bytree': 0.5219269691388674, 'subsample': 0.8297468937552126, 'max_depth': 15}. Best is trial 0 with value: 0.8677104921370952.\n",
      "[I 2024-05-16 15:27:44,418] Trial 2 finished with value: 0.8650958887713228 and parameters: {'num_leaves': 265, 'learning_rate': 0.388775082260314, 'n_estimators': 850, 'subsample_for_bin': 260472, 'min_child_samples': 489, 'reg_alpha': 5.121468627412241e-08, 'reg_lambda': 8.779217718837305, 'colsample_bytree': 0.9059294269892981, 'subsample': 0.33820952030168094, 'max_depth': 7}. Best is trial 0 with value: 0.8677104921370952.\n",
      "[I 2024-05-16 15:27:59,477] Trial 3 finished with value: 0.8686992521709676 and parameters: {'num_leaves': 461, 'learning_rate': 0.02201038246484027, 'n_estimators': 662, 'subsample_for_bin': 58272, 'min_child_samples': 373, 'reg_alpha': 2.4812369325986787e-09, 'reg_lambda': 0.005613637658821429, 'colsample_bytree': 0.8465722863097656, 'subsample': 0.9301798496845418, 'max_depth': 13}. Best is trial 3 with value: 0.8686992521709676.\n",
      "[W 2024-05-16 15:28:13,351] Trial 4 failed with parameters: {'num_leaves': 433, 'learning_rate': 0.025963152158442117, 'n_estimators': 1027, 'subsample_for_bin': 60204, 'min_child_samples': 381, 'reg_alpha': 0.005477261321893216, 'reg_lambda': 1.0792827508764895e-06, 'colsample_bytree': 0.9271836857685541, 'subsample': 0.30032803296886, 'max_depth': 11} because of the following error: KeyboardInterrupt().\n",
      "Traceback (most recent call last):\n",
      "  File \"/home/ru/kaggle/venv/lib/python3.9/site-packages/optuna/study/_optimize.py\", line 196, in _run_trial\n",
      "    value_or_values = func(trial)\n",
      "  File \"/tmp/ipykernel_104919/597125111.py\", line 18, in objective\n",
      "    model.fit(x_train_op, y_train_op)\n",
      "  File \"/home/ru/kaggle/venv/lib/python3.9/site-packages/lightgbm/sklearn.py\", line 1092, in fit\n",
      "    super().fit(\n",
      "  File \"/home/ru/kaggle/venv/lib/python3.9/site-packages/lightgbm/sklearn.py\", line 885, in fit\n",
      "    self._Booster = train(\n",
      "  File \"/home/ru/kaggle/venv/lib/python3.9/site-packages/lightgbm/engine.py\", line 276, in train\n",
      "    booster.update(fobj=fobj)\n",
      "  File \"/home/ru/kaggle/venv/lib/python3.9/site-packages/lightgbm/basic.py\", line 3891, in update\n",
      "    _safe_call(_LIB.LGBM_BoosterUpdateOneIter(\n",
      "KeyboardInterrupt\n",
      "[W 2024-05-16 15:28:13,352] Trial 4 failed with value None.\n"
     ]
    },
    {
     "ename": "KeyboardInterrupt",
     "evalue": "",
     "output_type": "error",
     "traceback": [
      "\u001b[0;31m---------------------------------------------------------------------------\u001b[0m",
      "\u001b[0;31mKeyboardInterrupt\u001b[0m                         Traceback (most recent call last)",
      "Cell \u001b[0;32mIn[6], line 25\u001b[0m\n\u001b[1;32m     22\u001b[0m     \u001b[38;5;28;01mreturn\u001b[39;00m r2\n\u001b[1;32m     24\u001b[0m study \u001b[38;5;241m=\u001b[39m optuna\u001b[38;5;241m.\u001b[39mcreate_study(direction\u001b[38;5;241m=\u001b[39m\u001b[38;5;124m'\u001b[39m\u001b[38;5;124mmaximize\u001b[39m\u001b[38;5;124m'\u001b[39m)\n\u001b[0;32m---> 25\u001b[0m \u001b[43mstudy\u001b[49m\u001b[38;5;241;43m.\u001b[39;49m\u001b[43moptimize\u001b[49m\u001b[43m(\u001b[49m\u001b[43mobjective\u001b[49m\u001b[43m,\u001b[49m\u001b[43m \u001b[49m\u001b[43mn_trials\u001b[49m\u001b[38;5;241;43m=\u001b[39;49m\u001b[38;5;241;43m15\u001b[39;49m\u001b[43m)\u001b[49m\n",
      "File \u001b[0;32m~/kaggle/venv/lib/python3.9/site-packages/optuna/study/study.py:451\u001b[0m, in \u001b[0;36mStudy.optimize\u001b[0;34m(self, func, n_trials, timeout, n_jobs, catch, callbacks, gc_after_trial, show_progress_bar)\u001b[0m\n\u001b[1;32m    348\u001b[0m \u001b[38;5;28;01mdef\u001b[39;00m \u001b[38;5;21moptimize\u001b[39m(\n\u001b[1;32m    349\u001b[0m     \u001b[38;5;28mself\u001b[39m,\n\u001b[1;32m    350\u001b[0m     func: ObjectiveFuncType,\n\u001b[0;32m   (...)\u001b[0m\n\u001b[1;32m    357\u001b[0m     show_progress_bar: \u001b[38;5;28mbool\u001b[39m \u001b[38;5;241m=\u001b[39m \u001b[38;5;28;01mFalse\u001b[39;00m,\n\u001b[1;32m    358\u001b[0m ) \u001b[38;5;241m-\u001b[39m\u001b[38;5;241m>\u001b[39m \u001b[38;5;28;01mNone\u001b[39;00m:\n\u001b[1;32m    359\u001b[0m \u001b[38;5;250m    \u001b[39m\u001b[38;5;124;03m\"\"\"Optimize an objective function.\u001b[39;00m\n\u001b[1;32m    360\u001b[0m \n\u001b[1;32m    361\u001b[0m \u001b[38;5;124;03m    Optimization is done by choosing a suitable set of hyperparameter values from a given\u001b[39;00m\n\u001b[0;32m   (...)\u001b[0m\n\u001b[1;32m    449\u001b[0m \u001b[38;5;124;03m            If nested invocation of this method occurs.\u001b[39;00m\n\u001b[1;32m    450\u001b[0m \u001b[38;5;124;03m    \"\"\"\u001b[39;00m\n\u001b[0;32m--> 451\u001b[0m     \u001b[43m_optimize\u001b[49m\u001b[43m(\u001b[49m\n\u001b[1;32m    452\u001b[0m \u001b[43m        \u001b[49m\u001b[43mstudy\u001b[49m\u001b[38;5;241;43m=\u001b[39;49m\u001b[38;5;28;43mself\u001b[39;49m\u001b[43m,\u001b[49m\n\u001b[1;32m    453\u001b[0m \u001b[43m        \u001b[49m\u001b[43mfunc\u001b[49m\u001b[38;5;241;43m=\u001b[39;49m\u001b[43mfunc\u001b[49m\u001b[43m,\u001b[49m\n\u001b[1;32m    454\u001b[0m \u001b[43m        \u001b[49m\u001b[43mn_trials\u001b[49m\u001b[38;5;241;43m=\u001b[39;49m\u001b[43mn_trials\u001b[49m\u001b[43m,\u001b[49m\n\u001b[1;32m    455\u001b[0m \u001b[43m        \u001b[49m\u001b[43mtimeout\u001b[49m\u001b[38;5;241;43m=\u001b[39;49m\u001b[43mtimeout\u001b[49m\u001b[43m,\u001b[49m\n\u001b[1;32m    456\u001b[0m \u001b[43m        \u001b[49m\u001b[43mn_jobs\u001b[49m\u001b[38;5;241;43m=\u001b[39;49m\u001b[43mn_jobs\u001b[49m\u001b[43m,\u001b[49m\n\u001b[1;32m    457\u001b[0m \u001b[43m        \u001b[49m\u001b[43mcatch\u001b[49m\u001b[38;5;241;43m=\u001b[39;49m\u001b[38;5;28;43mtuple\u001b[39;49m\u001b[43m(\u001b[49m\u001b[43mcatch\u001b[49m\u001b[43m)\u001b[49m\u001b[43m \u001b[49m\u001b[38;5;28;43;01mif\u001b[39;49;00m\u001b[43m \u001b[49m\u001b[38;5;28;43misinstance\u001b[39;49m\u001b[43m(\u001b[49m\u001b[43mcatch\u001b[49m\u001b[43m,\u001b[49m\u001b[43m \u001b[49m\u001b[43mIterable\u001b[49m\u001b[43m)\u001b[49m\u001b[43m \u001b[49m\u001b[38;5;28;43;01melse\u001b[39;49;00m\u001b[43m \u001b[49m\u001b[43m(\u001b[49m\u001b[43mcatch\u001b[49m\u001b[43m,\u001b[49m\u001b[43m)\u001b[49m\u001b[43m,\u001b[49m\n\u001b[1;32m    458\u001b[0m \u001b[43m        \u001b[49m\u001b[43mcallbacks\u001b[49m\u001b[38;5;241;43m=\u001b[39;49m\u001b[43mcallbacks\u001b[49m\u001b[43m,\u001b[49m\n\u001b[1;32m    459\u001b[0m \u001b[43m        \u001b[49m\u001b[43mgc_after_trial\u001b[49m\u001b[38;5;241;43m=\u001b[39;49m\u001b[43mgc_after_trial\u001b[49m\u001b[43m,\u001b[49m\n\u001b[1;32m    460\u001b[0m \u001b[43m        \u001b[49m\u001b[43mshow_progress_bar\u001b[49m\u001b[38;5;241;43m=\u001b[39;49m\u001b[43mshow_progress_bar\u001b[49m\u001b[43m,\u001b[49m\n\u001b[1;32m    461\u001b[0m \u001b[43m    \u001b[49m\u001b[43m)\u001b[49m\n",
      "File \u001b[0;32m~/kaggle/venv/lib/python3.9/site-packages/optuna/study/_optimize.py:62\u001b[0m, in \u001b[0;36m_optimize\u001b[0;34m(study, func, n_trials, timeout, n_jobs, catch, callbacks, gc_after_trial, show_progress_bar)\u001b[0m\n\u001b[1;32m     60\u001b[0m \u001b[38;5;28;01mtry\u001b[39;00m:\n\u001b[1;32m     61\u001b[0m     \u001b[38;5;28;01mif\u001b[39;00m n_jobs \u001b[38;5;241m==\u001b[39m \u001b[38;5;241m1\u001b[39m:\n\u001b[0;32m---> 62\u001b[0m         \u001b[43m_optimize_sequential\u001b[49m\u001b[43m(\u001b[49m\n\u001b[1;32m     63\u001b[0m \u001b[43m            \u001b[49m\u001b[43mstudy\u001b[49m\u001b[43m,\u001b[49m\n\u001b[1;32m     64\u001b[0m \u001b[43m            \u001b[49m\u001b[43mfunc\u001b[49m\u001b[43m,\u001b[49m\n\u001b[1;32m     65\u001b[0m \u001b[43m            \u001b[49m\u001b[43mn_trials\u001b[49m\u001b[43m,\u001b[49m\n\u001b[1;32m     66\u001b[0m \u001b[43m            \u001b[49m\u001b[43mtimeout\u001b[49m\u001b[43m,\u001b[49m\n\u001b[1;32m     67\u001b[0m \u001b[43m            \u001b[49m\u001b[43mcatch\u001b[49m\u001b[43m,\u001b[49m\n\u001b[1;32m     68\u001b[0m \u001b[43m            \u001b[49m\u001b[43mcallbacks\u001b[49m\u001b[43m,\u001b[49m\n\u001b[1;32m     69\u001b[0m \u001b[43m            \u001b[49m\u001b[43mgc_after_trial\u001b[49m\u001b[43m,\u001b[49m\n\u001b[1;32m     70\u001b[0m \u001b[43m            \u001b[49m\u001b[43mreseed_sampler_rng\u001b[49m\u001b[38;5;241;43m=\u001b[39;49m\u001b[38;5;28;43;01mFalse\u001b[39;49;00m\u001b[43m,\u001b[49m\n\u001b[1;32m     71\u001b[0m \u001b[43m            \u001b[49m\u001b[43mtime_start\u001b[49m\u001b[38;5;241;43m=\u001b[39;49m\u001b[38;5;28;43;01mNone\u001b[39;49;00m\u001b[43m,\u001b[49m\n\u001b[1;32m     72\u001b[0m \u001b[43m            \u001b[49m\u001b[43mprogress_bar\u001b[49m\u001b[38;5;241;43m=\u001b[39;49m\u001b[43mprogress_bar\u001b[49m\u001b[43m,\u001b[49m\n\u001b[1;32m     73\u001b[0m \u001b[43m        \u001b[49m\u001b[43m)\u001b[49m\n\u001b[1;32m     74\u001b[0m     \u001b[38;5;28;01melse\u001b[39;00m:\n\u001b[1;32m     75\u001b[0m         \u001b[38;5;28;01mif\u001b[39;00m n_jobs \u001b[38;5;241m==\u001b[39m \u001b[38;5;241m-\u001b[39m\u001b[38;5;241m1\u001b[39m:\n",
      "File \u001b[0;32m~/kaggle/venv/lib/python3.9/site-packages/optuna/study/_optimize.py:159\u001b[0m, in \u001b[0;36m_optimize_sequential\u001b[0;34m(study, func, n_trials, timeout, catch, callbacks, gc_after_trial, reseed_sampler_rng, time_start, progress_bar)\u001b[0m\n\u001b[1;32m    156\u001b[0m         \u001b[38;5;28;01mbreak\u001b[39;00m\n\u001b[1;32m    158\u001b[0m \u001b[38;5;28;01mtry\u001b[39;00m:\n\u001b[0;32m--> 159\u001b[0m     frozen_trial \u001b[38;5;241m=\u001b[39m \u001b[43m_run_trial\u001b[49m\u001b[43m(\u001b[49m\u001b[43mstudy\u001b[49m\u001b[43m,\u001b[49m\u001b[43m \u001b[49m\u001b[43mfunc\u001b[49m\u001b[43m,\u001b[49m\u001b[43m \u001b[49m\u001b[43mcatch\u001b[49m\u001b[43m)\u001b[49m\n\u001b[1;32m    160\u001b[0m \u001b[38;5;28;01mfinally\u001b[39;00m:\n\u001b[1;32m    161\u001b[0m     \u001b[38;5;66;03m# The following line mitigates memory problems that can be occurred in some\u001b[39;00m\n\u001b[1;32m    162\u001b[0m     \u001b[38;5;66;03m# environments (e.g., services that use computing containers such as GitHub Actions).\u001b[39;00m\n\u001b[1;32m    163\u001b[0m     \u001b[38;5;66;03m# Please refer to the following PR for further details:\u001b[39;00m\n\u001b[1;32m    164\u001b[0m     \u001b[38;5;66;03m# https://github.com/optuna/optuna/pull/325.\u001b[39;00m\n\u001b[1;32m    165\u001b[0m     \u001b[38;5;28;01mif\u001b[39;00m gc_after_trial:\n",
      "File \u001b[0;32m~/kaggle/venv/lib/python3.9/site-packages/optuna/study/_optimize.py:247\u001b[0m, in \u001b[0;36m_run_trial\u001b[0;34m(study, func, catch)\u001b[0m\n\u001b[1;32m    240\u001b[0m         \u001b[38;5;28;01massert\u001b[39;00m \u001b[38;5;28;01mFalse\u001b[39;00m, \u001b[38;5;124m\"\u001b[39m\u001b[38;5;124mShould not reach.\u001b[39m\u001b[38;5;124m\"\u001b[39m\n\u001b[1;32m    242\u001b[0m \u001b[38;5;28;01mif\u001b[39;00m (\n\u001b[1;32m    243\u001b[0m     frozen_trial\u001b[38;5;241m.\u001b[39mstate \u001b[38;5;241m==\u001b[39m TrialState\u001b[38;5;241m.\u001b[39mFAIL\n\u001b[1;32m    244\u001b[0m     \u001b[38;5;129;01mand\u001b[39;00m func_err \u001b[38;5;129;01mis\u001b[39;00m \u001b[38;5;129;01mnot\u001b[39;00m \u001b[38;5;28;01mNone\u001b[39;00m\n\u001b[1;32m    245\u001b[0m     \u001b[38;5;129;01mand\u001b[39;00m \u001b[38;5;129;01mnot\u001b[39;00m \u001b[38;5;28misinstance\u001b[39m(func_err, catch)\n\u001b[1;32m    246\u001b[0m ):\n\u001b[0;32m--> 247\u001b[0m     \u001b[38;5;28;01mraise\u001b[39;00m func_err\n\u001b[1;32m    248\u001b[0m \u001b[38;5;28;01mreturn\u001b[39;00m frozen_trial\n",
      "File \u001b[0;32m~/kaggle/venv/lib/python3.9/site-packages/optuna/study/_optimize.py:196\u001b[0m, in \u001b[0;36m_run_trial\u001b[0;34m(study, func, catch)\u001b[0m\n\u001b[1;32m    194\u001b[0m \u001b[38;5;28;01mwith\u001b[39;00m get_heartbeat_thread(trial\u001b[38;5;241m.\u001b[39m_trial_id, study\u001b[38;5;241m.\u001b[39m_storage):\n\u001b[1;32m    195\u001b[0m     \u001b[38;5;28;01mtry\u001b[39;00m:\n\u001b[0;32m--> 196\u001b[0m         value_or_values \u001b[38;5;241m=\u001b[39m \u001b[43mfunc\u001b[49m\u001b[43m(\u001b[49m\u001b[43mtrial\u001b[49m\u001b[43m)\u001b[49m\n\u001b[1;32m    197\u001b[0m     \u001b[38;5;28;01mexcept\u001b[39;00m exceptions\u001b[38;5;241m.\u001b[39mTrialPruned \u001b[38;5;28;01mas\u001b[39;00m e:\n\u001b[1;32m    198\u001b[0m         \u001b[38;5;66;03m# TODO(mamu): Handle multi-objective cases.\u001b[39;00m\n\u001b[1;32m    199\u001b[0m         state \u001b[38;5;241m=\u001b[39m TrialState\u001b[38;5;241m.\u001b[39mPRUNED\n",
      "Cell \u001b[0;32mIn[6], line 18\u001b[0m, in \u001b[0;36mobjective\u001b[0;34m(trial)\u001b[0m\n\u001b[1;32m      4\u001b[0m params \u001b[38;5;241m=\u001b[39m {\n\u001b[1;32m      5\u001b[0m         \u001b[38;5;124m'\u001b[39m\u001b[38;5;124mnum_leaves\u001b[39m\u001b[38;5;124m'\u001b[39m: trial\u001b[38;5;241m.\u001b[39msuggest_int(\u001b[38;5;124m'\u001b[39m\u001b[38;5;124mnum_leaves\u001b[39m\u001b[38;5;124m'\u001b[39m, \u001b[38;5;241m100\u001b[39m, \u001b[38;5;241m500\u001b[39m),\n\u001b[1;32m      6\u001b[0m         \u001b[38;5;124m'\u001b[39m\u001b[38;5;124mlearning_rate\u001b[39m\u001b[38;5;124m'\u001b[39m: trial\u001b[38;5;241m.\u001b[39msuggest_float(\u001b[38;5;124m'\u001b[39m\u001b[38;5;124mlearning_rate\u001b[39m\u001b[38;5;124m'\u001b[39m, \u001b[38;5;241m0.01\u001b[39m, \u001b[38;5;241m1.0\u001b[39m, log\u001b[38;5;241m=\u001b[39m\u001b[38;5;28;01mTrue\u001b[39;00m),\n\u001b[0;32m   (...)\u001b[0m\n\u001b[1;32m     14\u001b[0m         \u001b[38;5;124m'\u001b[39m\u001b[38;5;124mmax_depth\u001b[39m\u001b[38;5;124m'\u001b[39m: trial\u001b[38;5;241m.\u001b[39msuggest_int(\u001b[38;5;124m'\u001b[39m\u001b[38;5;124mmax_depth\u001b[39m\u001b[38;5;124m'\u001b[39m, \u001b[38;5;241m1\u001b[39m, \u001b[38;5;241m15\u001b[39m)\n\u001b[1;32m     15\u001b[0m         }\n\u001b[1;32m     17\u001b[0m model \u001b[38;5;241m=\u001b[39m LGBMRegressor(\u001b[38;5;241m*\u001b[39m\u001b[38;5;241m*\u001b[39mparams, objective\u001b[38;5;241m=\u001b[39m\u001b[38;5;124m'\u001b[39m\u001b[38;5;124mregression\u001b[39m\u001b[38;5;124m'\u001b[39m, random_state\u001b[38;5;241m=\u001b[39m\u001b[38;5;241m0\u001b[39m, device\u001b[38;5;241m=\u001b[39m\u001b[38;5;124m'\u001b[39m\u001b[38;5;124mgpu\u001b[39m\u001b[38;5;124m'\u001b[39m, verbosity\u001b[38;5;241m=\u001b[39m\u001b[38;5;241m-\u001b[39m\u001b[38;5;241m1\u001b[39m)\n\u001b[0;32m---> 18\u001b[0m \u001b[43mmodel\u001b[49m\u001b[38;5;241;43m.\u001b[39;49m\u001b[43mfit\u001b[49m\u001b[43m(\u001b[49m\u001b[43mx_train_op\u001b[49m\u001b[43m,\u001b[49m\u001b[43m \u001b[49m\u001b[43my_train_op\u001b[49m\u001b[43m)\u001b[49m\n\u001b[1;32m     19\u001b[0m y_pred \u001b[38;5;241m=\u001b[39m model\u001b[38;5;241m.\u001b[39mpredict(x_test_op)\n\u001b[1;32m     20\u001b[0m r2 \u001b[38;5;241m=\u001b[39m r2_score(y_test_op, y_pred)\n",
      "File \u001b[0;32m~/kaggle/venv/lib/python3.9/site-packages/lightgbm/sklearn.py:1092\u001b[0m, in \u001b[0;36mLGBMRegressor.fit\u001b[0;34m(self, X, y, sample_weight, init_score, eval_set, eval_names, eval_sample_weight, eval_init_score, eval_metric, feature_name, categorical_feature, callbacks, init_model)\u001b[0m\n\u001b[1;32m   1075\u001b[0m \u001b[38;5;28;01mdef\u001b[39;00m \u001b[38;5;21mfit\u001b[39m(  \u001b[38;5;66;03m# type: ignore[override]\u001b[39;00m\n\u001b[1;32m   1076\u001b[0m     \u001b[38;5;28mself\u001b[39m,\n\u001b[1;32m   1077\u001b[0m     X: _LGBM_ScikitMatrixLike,\n\u001b[0;32m   (...)\u001b[0m\n\u001b[1;32m   1089\u001b[0m     init_model: Optional[Union[\u001b[38;5;28mstr\u001b[39m, Path, Booster, LGBMModel]] \u001b[38;5;241m=\u001b[39m \u001b[38;5;28;01mNone\u001b[39;00m\n\u001b[1;32m   1090\u001b[0m ) \u001b[38;5;241m-\u001b[39m\u001b[38;5;241m>\u001b[39m \u001b[38;5;124m\"\u001b[39m\u001b[38;5;124mLGBMRegressor\u001b[39m\u001b[38;5;124m\"\u001b[39m:\n\u001b[1;32m   1091\u001b[0m \u001b[38;5;250m    \u001b[39m\u001b[38;5;124;03m\"\"\"Docstring is inherited from the LGBMModel.\"\"\"\u001b[39;00m\n\u001b[0;32m-> 1092\u001b[0m     \u001b[38;5;28;43msuper\u001b[39;49m\u001b[43m(\u001b[49m\u001b[43m)\u001b[49m\u001b[38;5;241;43m.\u001b[39;49m\u001b[43mfit\u001b[49m\u001b[43m(\u001b[49m\n\u001b[1;32m   1093\u001b[0m \u001b[43m        \u001b[49m\u001b[43mX\u001b[49m\u001b[43m,\u001b[49m\n\u001b[1;32m   1094\u001b[0m \u001b[43m        \u001b[49m\u001b[43my\u001b[49m\u001b[43m,\u001b[49m\n\u001b[1;32m   1095\u001b[0m \u001b[43m        \u001b[49m\u001b[43msample_weight\u001b[49m\u001b[38;5;241;43m=\u001b[39;49m\u001b[43msample_weight\u001b[49m\u001b[43m,\u001b[49m\n\u001b[1;32m   1096\u001b[0m \u001b[43m        \u001b[49m\u001b[43minit_score\u001b[49m\u001b[38;5;241;43m=\u001b[39;49m\u001b[43minit_score\u001b[49m\u001b[43m,\u001b[49m\n\u001b[1;32m   1097\u001b[0m \u001b[43m        \u001b[49m\u001b[43meval_set\u001b[49m\u001b[38;5;241;43m=\u001b[39;49m\u001b[43meval_set\u001b[49m\u001b[43m,\u001b[49m\n\u001b[1;32m   1098\u001b[0m \u001b[43m        \u001b[49m\u001b[43meval_names\u001b[49m\u001b[38;5;241;43m=\u001b[39;49m\u001b[43meval_names\u001b[49m\u001b[43m,\u001b[49m\n\u001b[1;32m   1099\u001b[0m \u001b[43m        \u001b[49m\u001b[43meval_sample_weight\u001b[49m\u001b[38;5;241;43m=\u001b[39;49m\u001b[43meval_sample_weight\u001b[49m\u001b[43m,\u001b[49m\n\u001b[1;32m   1100\u001b[0m \u001b[43m        \u001b[49m\u001b[43meval_init_score\u001b[49m\u001b[38;5;241;43m=\u001b[39;49m\u001b[43meval_init_score\u001b[49m\u001b[43m,\u001b[49m\n\u001b[1;32m   1101\u001b[0m \u001b[43m        \u001b[49m\u001b[43meval_metric\u001b[49m\u001b[38;5;241;43m=\u001b[39;49m\u001b[43meval_metric\u001b[49m\u001b[43m,\u001b[49m\n\u001b[1;32m   1102\u001b[0m \u001b[43m        \u001b[49m\u001b[43mfeature_name\u001b[49m\u001b[38;5;241;43m=\u001b[39;49m\u001b[43mfeature_name\u001b[49m\u001b[43m,\u001b[49m\n\u001b[1;32m   1103\u001b[0m \u001b[43m        \u001b[49m\u001b[43mcategorical_feature\u001b[49m\u001b[38;5;241;43m=\u001b[39;49m\u001b[43mcategorical_feature\u001b[49m\u001b[43m,\u001b[49m\n\u001b[1;32m   1104\u001b[0m \u001b[43m        \u001b[49m\u001b[43mcallbacks\u001b[49m\u001b[38;5;241;43m=\u001b[39;49m\u001b[43mcallbacks\u001b[49m\u001b[43m,\u001b[49m\n\u001b[1;32m   1105\u001b[0m \u001b[43m        \u001b[49m\u001b[43minit_model\u001b[49m\u001b[38;5;241;43m=\u001b[39;49m\u001b[43minit_model\u001b[49m\n\u001b[1;32m   1106\u001b[0m \u001b[43m    \u001b[49m\u001b[43m)\u001b[49m\n\u001b[1;32m   1107\u001b[0m     \u001b[38;5;28;01mreturn\u001b[39;00m \u001b[38;5;28mself\u001b[39m\n",
      "File \u001b[0;32m~/kaggle/venv/lib/python3.9/site-packages/lightgbm/sklearn.py:885\u001b[0m, in \u001b[0;36mLGBMModel.fit\u001b[0;34m(self, X, y, sample_weight, init_score, group, eval_set, eval_names, eval_sample_weight, eval_class_weight, eval_init_score, eval_group, eval_metric, feature_name, categorical_feature, callbacks, init_model)\u001b[0m\n\u001b[1;32m    882\u001b[0m evals_result: _EvalResultDict \u001b[38;5;241m=\u001b[39m {}\n\u001b[1;32m    883\u001b[0m callbacks\u001b[38;5;241m.\u001b[39mappend(record_evaluation(evals_result))\n\u001b[0;32m--> 885\u001b[0m \u001b[38;5;28mself\u001b[39m\u001b[38;5;241m.\u001b[39m_Booster \u001b[38;5;241m=\u001b[39m \u001b[43mtrain\u001b[49m\u001b[43m(\u001b[49m\n\u001b[1;32m    886\u001b[0m \u001b[43m    \u001b[49m\u001b[43mparams\u001b[49m\u001b[38;5;241;43m=\u001b[39;49m\u001b[43mparams\u001b[49m\u001b[43m,\u001b[49m\n\u001b[1;32m    887\u001b[0m \u001b[43m    \u001b[49m\u001b[43mtrain_set\u001b[49m\u001b[38;5;241;43m=\u001b[39;49m\u001b[43mtrain_set\u001b[49m\u001b[43m,\u001b[49m\n\u001b[1;32m    888\u001b[0m \u001b[43m    \u001b[49m\u001b[43mnum_boost_round\u001b[49m\u001b[38;5;241;43m=\u001b[39;49m\u001b[38;5;28;43mself\u001b[39;49m\u001b[38;5;241;43m.\u001b[39;49m\u001b[43mn_estimators\u001b[49m\u001b[43m,\u001b[49m\n\u001b[1;32m    889\u001b[0m \u001b[43m    \u001b[49m\u001b[43mvalid_sets\u001b[49m\u001b[38;5;241;43m=\u001b[39;49m\u001b[43mvalid_sets\u001b[49m\u001b[43m,\u001b[49m\n\u001b[1;32m    890\u001b[0m \u001b[43m    \u001b[49m\u001b[43mvalid_names\u001b[49m\u001b[38;5;241;43m=\u001b[39;49m\u001b[43meval_names\u001b[49m\u001b[43m,\u001b[49m\n\u001b[1;32m    891\u001b[0m \u001b[43m    \u001b[49m\u001b[43mfeval\u001b[49m\u001b[38;5;241;43m=\u001b[39;49m\u001b[43meval_metrics_callable\u001b[49m\u001b[43m,\u001b[49m\u001b[43m  \u001b[49m\u001b[38;5;66;43;03m# type: ignore[arg-type]\u001b[39;49;00m\n\u001b[1;32m    892\u001b[0m \u001b[43m    \u001b[49m\u001b[43minit_model\u001b[49m\u001b[38;5;241;43m=\u001b[39;49m\u001b[43minit_model\u001b[49m\u001b[43m,\u001b[49m\n\u001b[1;32m    893\u001b[0m \u001b[43m    \u001b[49m\u001b[43mfeature_name\u001b[49m\u001b[38;5;241;43m=\u001b[39;49m\u001b[43mfeature_name\u001b[49m\u001b[43m,\u001b[49m\n\u001b[1;32m    894\u001b[0m \u001b[43m    \u001b[49m\u001b[43mcallbacks\u001b[49m\u001b[38;5;241;43m=\u001b[39;49m\u001b[43mcallbacks\u001b[49m\n\u001b[1;32m    895\u001b[0m \u001b[43m\u001b[49m\u001b[43m)\u001b[49m\n\u001b[1;32m    897\u001b[0m \u001b[38;5;28mself\u001b[39m\u001b[38;5;241m.\u001b[39m_evals_result \u001b[38;5;241m=\u001b[39m evals_result\n\u001b[1;32m    898\u001b[0m \u001b[38;5;28mself\u001b[39m\u001b[38;5;241m.\u001b[39m_best_iteration \u001b[38;5;241m=\u001b[39m \u001b[38;5;28mself\u001b[39m\u001b[38;5;241m.\u001b[39m_Booster\u001b[38;5;241m.\u001b[39mbest_iteration\n",
      "File \u001b[0;32m~/kaggle/venv/lib/python3.9/site-packages/lightgbm/engine.py:276\u001b[0m, in \u001b[0;36mtrain\u001b[0;34m(params, train_set, num_boost_round, valid_sets, valid_names, feval, init_model, feature_name, categorical_feature, keep_training_booster, callbacks)\u001b[0m\n\u001b[1;32m    268\u001b[0m \u001b[38;5;28;01mfor\u001b[39;00m cb \u001b[38;5;129;01min\u001b[39;00m callbacks_before_iter:\n\u001b[1;32m    269\u001b[0m     cb(callback\u001b[38;5;241m.\u001b[39mCallbackEnv(model\u001b[38;5;241m=\u001b[39mbooster,\n\u001b[1;32m    270\u001b[0m                             params\u001b[38;5;241m=\u001b[39mparams,\n\u001b[1;32m    271\u001b[0m                             iteration\u001b[38;5;241m=\u001b[39mi,\n\u001b[1;32m    272\u001b[0m                             begin_iteration\u001b[38;5;241m=\u001b[39minit_iteration,\n\u001b[1;32m    273\u001b[0m                             end_iteration\u001b[38;5;241m=\u001b[39minit_iteration \u001b[38;5;241m+\u001b[39m num_boost_round,\n\u001b[1;32m    274\u001b[0m                             evaluation_result_list\u001b[38;5;241m=\u001b[39m\u001b[38;5;28;01mNone\u001b[39;00m))\n\u001b[0;32m--> 276\u001b[0m \u001b[43mbooster\u001b[49m\u001b[38;5;241;43m.\u001b[39;49m\u001b[43mupdate\u001b[49m\u001b[43m(\u001b[49m\u001b[43mfobj\u001b[49m\u001b[38;5;241;43m=\u001b[39;49m\u001b[43mfobj\u001b[49m\u001b[43m)\u001b[49m\n\u001b[1;32m    278\u001b[0m evaluation_result_list: List[_LGBM_BoosterEvalMethodResultType] \u001b[38;5;241m=\u001b[39m []\n\u001b[1;32m    279\u001b[0m \u001b[38;5;66;03m# check evaluation result.\u001b[39;00m\n",
      "File \u001b[0;32m~/kaggle/venv/lib/python3.9/site-packages/lightgbm/basic.py:3891\u001b[0m, in \u001b[0;36mBooster.update\u001b[0;34m(self, train_set, fobj)\u001b[0m\n\u001b[1;32m   3889\u001b[0m \u001b[38;5;28;01mif\u001b[39;00m \u001b[38;5;28mself\u001b[39m\u001b[38;5;241m.\u001b[39m__set_objective_to_none:\n\u001b[1;32m   3890\u001b[0m     \u001b[38;5;28;01mraise\u001b[39;00m LightGBMError(\u001b[38;5;124m'\u001b[39m\u001b[38;5;124mCannot update due to null objective function.\u001b[39m\u001b[38;5;124m'\u001b[39m)\n\u001b[0;32m-> 3891\u001b[0m _safe_call(\u001b[43m_LIB\u001b[49m\u001b[38;5;241;43m.\u001b[39;49m\u001b[43mLGBM_BoosterUpdateOneIter\u001b[49m\u001b[43m(\u001b[49m\n\u001b[1;32m   3892\u001b[0m \u001b[43m    \u001b[49m\u001b[38;5;28;43mself\u001b[39;49m\u001b[38;5;241;43m.\u001b[39;49m\u001b[43m_handle\u001b[49m\u001b[43m,\u001b[49m\n\u001b[1;32m   3893\u001b[0m \u001b[43m    \u001b[49m\u001b[43mctypes\u001b[49m\u001b[38;5;241;43m.\u001b[39;49m\u001b[43mbyref\u001b[49m\u001b[43m(\u001b[49m\u001b[43mis_finished\u001b[49m\u001b[43m)\u001b[49m\u001b[43m)\u001b[49m)\n\u001b[1;32m   3894\u001b[0m \u001b[38;5;28mself\u001b[39m\u001b[38;5;241m.\u001b[39m__is_predicted_cur_iter \u001b[38;5;241m=\u001b[39m [\u001b[38;5;28;01mFalse\u001b[39;00m \u001b[38;5;28;01mfor\u001b[39;00m _ \u001b[38;5;129;01min\u001b[39;00m \u001b[38;5;28mrange\u001b[39m(\u001b[38;5;28mself\u001b[39m\u001b[38;5;241m.\u001b[39m__num_dataset)]\n\u001b[1;32m   3895\u001b[0m \u001b[38;5;28;01mreturn\u001b[39;00m is_finished\u001b[38;5;241m.\u001b[39mvalue \u001b[38;5;241m==\u001b[39m \u001b[38;5;241m1\u001b[39m\n",
      "\u001b[0;31mKeyboardInterrupt\u001b[0m: "
     ]
    }
   ],
   "source": [
    "x_train_op, x_test_op, y_train_op, y_test_op = train_test_split(x_train, y_train, test_size=0.2, random_state=42)\n",
    "\n",
    "def objective(trial):\n",
    "    params = {\n",
    "            'num_leaves': trial.suggest_int('num_leaves', 100, 500),\n",
    "            'learning_rate': trial.suggest_float('learning_rate', 0.01, 1.0, log=True),\n",
    "            'n_estimators': trial.suggest_int('n_estimators', 300, 1200),\n",
    "            'subsample_for_bin': trial.suggest_int('subsample_for_bin', 20000, 300000),\n",
    "            'min_child_samples': trial.suggest_int('min_child_samples', 20, 500),\n",
    "            'reg_alpha': trial.suggest_float('reg_alpha', 1e-9, 10.0, log=True),\n",
    "            'reg_lambda': trial.suggest_float('reg_lambda', 1e-9, 10.0, log=True),\n",
    "            'colsample_bytree': trial.suggest_float('colsample_bytree', 0.4, 1.0),\n",
    "            'subsample': trial.suggest_float('subsample', 0.25, 1.0),\n",
    "            'max_depth': trial.suggest_int('max_depth', 1, 15)\n",
    "            }\n",
    "    \n",
    "    model = LGBMRegressor(**params, objective='regression', random_state=0, device='gpu', verbosity=-1)\n",
    "    model.fit(x_train_op, y_train_op)\n",
    "    y_pred = model.predict(x_test_op)\n",
    "    r2 = r2_score(y_test_op, y_pred)\n",
    "\n",
    "    return r2\n",
    "\n",
    "study = optuna.create_study(direction='maximize')\n",
    "study.optimize(objective, n_trials=15)"
   ]
  },
  {
   "cell_type": "markdown",
   "id": "4f92b96e",
   "metadata": {},
   "source": [
    "## optunaによるチューニングパラメータを利用してモデルを作成"
   ]
  },
  {
   "cell_type": "code",
   "execution_count": 21,
   "id": "3f91581e",
   "metadata": {
    "execution": {
     "iopub.execute_input": "2024-05-08T11:00:19.722278Z",
     "iopub.status.busy": "2024-05-08T11:00:19.721970Z",
     "iopub.status.idle": "2024-05-08T11:00:19.726620Z",
     "shell.execute_reply": "2024-05-08T11:00:19.725792Z"
    },
    "papermill": {
     "duration": 0.015988,
     "end_time": "2024-05-08T11:00:19.728696",
     "exception": false,
     "start_time": "2024-05-08T11:00:19.712708",
     "status": "completed"
    },
    "tags": []
   },
   "outputs": [],
   "source": [
    "model = LGBMRegressor(**study.best_params, objective='regression', random_state=0, device='gpu', verbosity=-1)"
   ]
  },
  {
   "cell_type": "markdown",
   "id": "f64e4348",
   "metadata": {},
   "source": [
    "## クロスバリデーション"
   ]
  },
  {
   "cell_type": "code",
   "execution_count": 26,
   "id": "0c8ec36e",
   "metadata": {
    "execution": {
     "iopub.execute_input": "2024-05-08T11:00:19.747144Z",
     "iopub.status.busy": "2024-05-08T11:00:19.746805Z",
     "iopub.status.idle": "2024-05-08T11:06:07.215679Z",
     "shell.execute_reply": "2024-05-08T11:06:07.214570Z"
    },
    "papermill": {
     "duration": 347.489601,
     "end_time": "2024-05-08T11:06:07.227000",
     "exception": false,
     "start_time": "2024-05-08T11:00:19.737399",
     "status": "completed"
    },
    "tags": []
   },
   "outputs": [
    {
     "name": "stdout",
     "output_type": "stream",
     "text": [
      "score: 0.8681206562366337\n",
      "score: 0.8690832475984227\n",
      "score: 0.869744857717879\n",
      "score: 0.8687887480329332\n",
      "Mean Score ＝ 0.86893\n"
     ]
    }
   ],
   "source": [
    "cv = KFold(4, shuffle=True, random_state=0)\n",
    "cv_splits = cv.split(x_train, y_train)\n",
    "scores = []\n",
    "for train_idx, val_idx in cv_splits:\n",
    "    x_train_fold, x_val_fold = x_train.iloc[train_idx], x_train.iloc[val_idx]\n",
    "    y_train_fold, y_val_fold = y_train.iloc[train_idx], y_train.iloc[val_idx]\n",
    "    model.fit(x_train_fold, y_train_fold)\n",
    "    y_pred = model.predict(x_val_fold)\n",
    "    r2 = r2_score(y_val_fold, y_pred)\n",
    "    print(f'score: {r2}')\n",
    "    scores.append(r2)\n",
    "\n",
    "print(f\"Mean Score ＝ {np.mean(scores):.5f}\") "
   ]
  },
  {
   "cell_type": "markdown",
   "id": "e18bcbc7",
   "metadata": {},
   "source": [
    "## 特徴量の重要度を確認"
   ]
  },
  {
   "cell_type": "code",
   "execution_count": 23,
   "id": "952cd5f7",
   "metadata": {},
   "outputs": [
    {
     "data": {
      "text/html": [
       "<div>\n",
       "<style scoped>\n",
       "    .dataframe tbody tr th:only-of-type {\n",
       "        vertical-align: middle;\n",
       "    }\n",
       "\n",
       "    .dataframe tbody tr th {\n",
       "        vertical-align: top;\n",
       "    }\n",
       "\n",
       "    .dataframe thead th {\n",
       "        text-align: right;\n",
       "    }\n",
       "</style>\n",
       "<table border=\"1\" class=\"dataframe\">\n",
       "  <thead>\n",
       "    <tr style=\"text-align: right;\">\n",
       "      <th></th>\n",
       "      <th>importance</th>\n",
       "    </tr>\n",
       "  </thead>\n",
       "  <tbody>\n",
       "    <tr>\n",
       "      <th>MonsoonIntensity</th>\n",
       "      <td>1908</td>\n",
       "    </tr>\n",
       "    <tr>\n",
       "      <th>TopographyDrainage</th>\n",
       "      <td>1349</td>\n",
       "    </tr>\n",
       "    <tr>\n",
       "      <th>RiverManagement</th>\n",
       "      <td>1509</td>\n",
       "    </tr>\n",
       "    <tr>\n",
       "      <th>Deforestation</th>\n",
       "      <td>1183</td>\n",
       "    </tr>\n",
       "    <tr>\n",
       "      <th>Urbanization</th>\n",
       "      <td>1395</td>\n",
       "    </tr>\n",
       "    <tr>\n",
       "      <th>ClimateChange</th>\n",
       "      <td>1527</td>\n",
       "    </tr>\n",
       "    <tr>\n",
       "      <th>DamsQuality</th>\n",
       "      <td>1149</td>\n",
       "    </tr>\n",
       "    <tr>\n",
       "      <th>Siltation</th>\n",
       "      <td>1445</td>\n",
       "    </tr>\n",
       "    <tr>\n",
       "      <th>AgriculturalPractices</th>\n",
       "      <td>1220</td>\n",
       "    </tr>\n",
       "    <tr>\n",
       "      <th>Encroachments</th>\n",
       "      <td>1255</td>\n",
       "    </tr>\n",
       "    <tr>\n",
       "      <th>IneffectiveDisasterPreparedness</th>\n",
       "      <td>1718</td>\n",
       "    </tr>\n",
       "    <tr>\n",
       "      <th>DrainageSystems</th>\n",
       "      <td>1075</td>\n",
       "    </tr>\n",
       "    <tr>\n",
       "      <th>CoastalVulnerability</th>\n",
       "      <td>1336</td>\n",
       "    </tr>\n",
       "    <tr>\n",
       "      <th>Landslides</th>\n",
       "      <td>1096</td>\n",
       "    </tr>\n",
       "    <tr>\n",
       "      <th>Watersheds</th>\n",
       "      <td>1686</td>\n",
       "    </tr>\n",
       "    <tr>\n",
       "      <th>DeterioratingInfrastructure</th>\n",
       "      <td>1534</td>\n",
       "    </tr>\n",
       "    <tr>\n",
       "      <th>PopulationScore</th>\n",
       "      <td>1258</td>\n",
       "    </tr>\n",
       "    <tr>\n",
       "      <th>WetlandLoss</th>\n",
       "      <td>1147</td>\n",
       "    </tr>\n",
       "    <tr>\n",
       "      <th>InadequatePlanning</th>\n",
       "      <td>1602</td>\n",
       "    </tr>\n",
       "    <tr>\n",
       "      <th>PoliticalFactors</th>\n",
       "      <td>1313</td>\n",
       "    </tr>\n",
       "    <tr>\n",
       "      <th>total</th>\n",
       "      <td>9257</td>\n",
       "    </tr>\n",
       "    <tr>\n",
       "      <th>mean_features</th>\n",
       "      <td>8331</td>\n",
       "    </tr>\n",
       "    <tr>\n",
       "      <th>std_features</th>\n",
       "      <td>7890</td>\n",
       "    </tr>\n",
       "    <tr>\n",
       "      <th>max_features</th>\n",
       "      <td>5228</td>\n",
       "    </tr>\n",
       "    <tr>\n",
       "      <th>min_features</th>\n",
       "      <td>2496</td>\n",
       "    </tr>\n",
       "    <tr>\n",
       "      <th>median_features</th>\n",
       "      <td>2004</td>\n",
       "    </tr>\n",
       "    <tr>\n",
       "      <th>ptp</th>\n",
       "      <td>1474</td>\n",
       "    </tr>\n",
       "    <tr>\n",
       "      <th>q25</th>\n",
       "      <td>1546</td>\n",
       "    </tr>\n",
       "    <tr>\n",
       "      <th>q75</th>\n",
       "      <td>2258</td>\n",
       "    </tr>\n",
       "  </tbody>\n",
       "</table>\n",
       "</div>"
      ],
      "text/plain": [
       "                                 importance\n",
       "MonsoonIntensity                       1908\n",
       "TopographyDrainage                     1349\n",
       "RiverManagement                        1509\n",
       "Deforestation                          1183\n",
       "Urbanization                           1395\n",
       "ClimateChange                          1527\n",
       "DamsQuality                            1149\n",
       "Siltation                              1445\n",
       "AgriculturalPractices                  1220\n",
       "Encroachments                          1255\n",
       "IneffectiveDisasterPreparedness        1718\n",
       "DrainageSystems                        1075\n",
       "CoastalVulnerability                   1336\n",
       "Landslides                             1096\n",
       "Watersheds                             1686\n",
       "DeterioratingInfrastructure            1534\n",
       "PopulationScore                        1258\n",
       "WetlandLoss                            1147\n",
       "InadequatePlanning                     1602\n",
       "PoliticalFactors                       1313\n",
       "total                                  9257\n",
       "mean_features                          8331\n",
       "std_features                           7890\n",
       "max_features                           5228\n",
       "min_features                           2496\n",
       "median_features                        2004\n",
       "ptp                                    1474\n",
       "q25                                    1546\n",
       "q75                                    2258"
      ]
     },
     "metadata": {},
     "output_type": "display_data"
    }
   ],
   "source": [
    "from sklearn import datasets\n",
    "\n",
    "feature_name = x_train.columns\n",
    "importance = pd.DataFrame(model.feature_importances_, columns=['importance'], index=feature_name)\n",
    "display(importance)"
   ]
  },
  {
   "cell_type": "markdown",
   "id": "73689a0d",
   "metadata": {},
   "source": [
    "## 重要ではない特徴量を取り除いて再訓練"
   ]
  },
  {
   "cell_type": "code",
   "execution_count": null,
   "id": "585347fa",
   "metadata": {},
   "outputs": [],
   "source": [
    "\n",
    "# min = 2000\n",
    "# feature_idx = list()\n",
    "# for idx, item in enumerate(model.feature_importances_):\n",
    "#     if item <= min:\n",
    "#         feature_idx.append(idx)\n",
    "# feature_name = x_train.columns\n",
    "\n",
    "# x_train = x_train.drop(columns=list(feature_name[feature_idx]), axis=1)\n",
    "# x_test = x_test.drop(columns=list(feature_name[feature_idx]), axis=1)\n",
    "# model = LGBMRegressor(**study.best_params, objective='regression', random_state=0, device='gpu', verbosity=-1)\n",
    "# cv = KFold(5, shuffle=True, random_state=0)\n",
    "# cv_splits = cv.split(x_train, y_train)\n",
    "# scores = []\n",
    "# for train_idx, val_idx in cv_splits:\n",
    "#     x_train_fold, x_val_fold = x_train.iloc[train_idx], x_train.iloc[val_idx]\n",
    "#     y_train_fold, y_val_fold = y_train.iloc[train_idx], y_train.iloc[val_idx]\n",
    "#     model.fit(x_train_fold, y_train_fold)\n",
    "#     y_pred = model.predict(x_val_fold)\n",
    "#     r2 = r2_score(y_val_fold, y_pred)\n",
    "#     print(f'score: {r2}')\n",
    "#     scores.append(r2)\n",
    "\n",
    "# print(f\"Mean Score ＝ {np.mean(scores):.5f}\") "
   ]
  },
  {
   "cell_type": "markdown",
   "id": "432bbe45",
   "metadata": {},
   "source": [
    "## 提出用ファイルの作成"
   ]
  },
  {
   "cell_type": "code",
   "execution_count": 28,
   "id": "9126847d",
   "metadata": {
    "execution": {
     "iopub.execute_input": "2024-05-08T11:06:07.496306Z",
     "iopub.status.busy": "2024-05-08T11:06:07.495989Z",
     "iopub.status.idle": "2024-05-08T11:07:47.527333Z",
     "shell.execute_reply": "2024-05-08T11:07:47.526303Z"
    },
    "papermill": {
     "duration": 100.043481,
     "end_time": "2024-05-08T11:07:47.529702",
     "exception": false,
     "start_time": "2024-05-08T11:06:07.486221",
     "status": "completed"
    },
    "tags": []
   },
   "outputs": [
    {
     "data": {
      "text/html": [
       "<div>\n",
       "<style scoped>\n",
       "    .dataframe tbody tr th:only-of-type {\n",
       "        vertical-align: middle;\n",
       "    }\n",
       "\n",
       "    .dataframe tbody tr th {\n",
       "        vertical-align: top;\n",
       "    }\n",
       "\n",
       "    .dataframe thead th {\n",
       "        text-align: right;\n",
       "    }\n",
       "</style>\n",
       "<table border=\"1\" class=\"dataframe\">\n",
       "  <thead>\n",
       "    <tr style=\"text-align: right;\">\n",
       "      <th></th>\n",
       "      <th>id</th>\n",
       "      <th>FloodProbability</th>\n",
       "    </tr>\n",
       "  </thead>\n",
       "  <tbody>\n",
       "    <tr>\n",
       "      <th>0</th>\n",
       "      <td>1117957</td>\n",
       "      <td>0.577679</td>\n",
       "    </tr>\n",
       "    <tr>\n",
       "      <th>1</th>\n",
       "      <td>1117958</td>\n",
       "      <td>0.454073</td>\n",
       "    </tr>\n",
       "    <tr>\n",
       "      <th>2</th>\n",
       "      <td>1117959</td>\n",
       "      <td>0.450004</td>\n",
       "    </tr>\n",
       "    <tr>\n",
       "      <th>3</th>\n",
       "      <td>1117960</td>\n",
       "      <td>0.467619</td>\n",
       "    </tr>\n",
       "    <tr>\n",
       "      <th>4</th>\n",
       "      <td>1117961</td>\n",
       "      <td>0.467846</td>\n",
       "    </tr>\n",
       "  </tbody>\n",
       "</table>\n",
       "</div>"
      ],
      "text/plain": [
       "        id  FloodProbability\n",
       "0  1117957          0.577679\n",
       "1  1117958          0.454073\n",
       "2  1117959          0.450004\n",
       "3  1117960          0.467619\n",
       "4  1117961          0.467846"
      ]
     },
     "execution_count": 28,
     "metadata": {},
     "output_type": "execute_result"
    }
   ],
   "source": [
    "submit = pd.read_csv(\"inputs/sample_submission.csv\")\n",
    "y_pred = model.predict(x_test)\n",
    "submit[\"FloodProbability\"] = y_pred\n",
    "submit.to_csv(\"outputs/submission.csv\", index=False)\n",
    "submit.head()"
   ]
  }
 ],
 "metadata": {
  "kaggle": {
   "accelerator": "gpu",
   "dataSources": [
    {
     "databundleVersionId": 8121328,
     "sourceId": 73278,
     "sourceType": "competition"
    }
   ],
   "dockerImageVersionId": 30699,
   "isGpuEnabled": true,
   "isInternetEnabled": true,
   "language": "python",
   "sourceType": "notebook"
  },
  "kernelspec": {
   "display_name": "Python 3",
   "language": "python",
   "name": "python3"
  },
  "language_info": {
   "codemirror_mode": {
    "name": "ipython",
    "version": 3
   },
   "file_extension": ".py",
   "mimetype": "text/x-python",
   "name": "python",
   "nbconvert_exporter": "python",
   "pygments_lexer": "ipython3",
   "version": "3.9.13"
  },
  "papermill": {
   "default_parameters": {},
   "duration": 816.592185,
   "end_time": "2024-05-08T11:07:50.065702",
   "environment_variables": {},
   "exception": null,
   "input_path": "__notebook__.ipynb",
   "output_path": "__notebook__.ipynb",
   "parameters": {},
   "start_time": "2024-05-08T10:54:13.473517",
   "version": "2.5.0"
  }
 },
 "nbformat": 4,
 "nbformat_minor": 5
}
